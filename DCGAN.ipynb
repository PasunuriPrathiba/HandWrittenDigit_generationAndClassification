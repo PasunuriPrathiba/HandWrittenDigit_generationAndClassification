{
  "nbformat": 4,
  "nbformat_minor": 0,
  "metadata": {
    "colab": {
      "name": "DCGAN.ipynb",
      "provenance": [],
      "collapsed_sections": []
    },
    "kernelspec": {
      "name": "python3",
      "display_name": "Python 3"
    },
    "language_info": {
      "name": "python"
    },
    "accelerator": "GPU",
    "widgets": {
      "application/vnd.jupyter.widget-state+json": {
        "f6035604f9614a30a2310cfa4b333114": {
          "model_module": "@jupyter-widgets/controls",
          "model_name": "HBoxModel",
          "model_module_version": "1.5.0",
          "state": {
            "_dom_classes": [],
            "_model_module": "@jupyter-widgets/controls",
            "_model_module_version": "1.5.0",
            "_model_name": "HBoxModel",
            "_view_count": null,
            "_view_module": "@jupyter-widgets/controls",
            "_view_module_version": "1.5.0",
            "_view_name": "HBoxView",
            "box_style": "",
            "children": [
              "IPY_MODEL_65ff24b368eb4aa8b2f6c7cfb2803c0b",
              "IPY_MODEL_d5078d29cb3c46d59efa27e267722b8d",
              "IPY_MODEL_8693a95a61204a969dd37cc2aa20a3fd"
            ],
            "layout": "IPY_MODEL_156408613a4e468cb3bb00d1ea6f19b7"
          }
        },
        "65ff24b368eb4aa8b2f6c7cfb2803c0b": {
          "model_module": "@jupyter-widgets/controls",
          "model_name": "HTMLModel",
          "model_module_version": "1.5.0",
          "state": {
            "_dom_classes": [],
            "_model_module": "@jupyter-widgets/controls",
            "_model_module_version": "1.5.0",
            "_model_name": "HTMLModel",
            "_view_count": null,
            "_view_module": "@jupyter-widgets/controls",
            "_view_module_version": "1.5.0",
            "_view_name": "HTMLView",
            "description": "",
            "description_tooltip": null,
            "layout": "IPY_MODEL_4673ca5975ba4b78a9411c5010960329",
            "placeholder": "​",
            "style": "IPY_MODEL_aa440a70a963416288f34341f355a928",
            "value": ""
          }
        },
        "d5078d29cb3c46d59efa27e267722b8d": {
          "model_module": "@jupyter-widgets/controls",
          "model_name": "FloatProgressModel",
          "model_module_version": "1.5.0",
          "state": {
            "_dom_classes": [],
            "_model_module": "@jupyter-widgets/controls",
            "_model_module_version": "1.5.0",
            "_model_name": "FloatProgressModel",
            "_view_count": null,
            "_view_module": "@jupyter-widgets/controls",
            "_view_module_version": "1.5.0",
            "_view_name": "ProgressView",
            "bar_style": "success",
            "description": "",
            "description_tooltip": null,
            "layout": "IPY_MODEL_1a480f7920c84556802f7146c6c4e1c7",
            "max": 9912422,
            "min": 0,
            "orientation": "horizontal",
            "style": "IPY_MODEL_a7b449a10cb84c4aaf48834c5350216b",
            "value": 9912422
          }
        },
        "8693a95a61204a969dd37cc2aa20a3fd": {
          "model_module": "@jupyter-widgets/controls",
          "model_name": "HTMLModel",
          "model_module_version": "1.5.0",
          "state": {
            "_dom_classes": [],
            "_model_module": "@jupyter-widgets/controls",
            "_model_module_version": "1.5.0",
            "_model_name": "HTMLModel",
            "_view_count": null,
            "_view_module": "@jupyter-widgets/controls",
            "_view_module_version": "1.5.0",
            "_view_name": "HTMLView",
            "description": "",
            "description_tooltip": null,
            "layout": "IPY_MODEL_df77727e4c734cb3a9d3769e4e7f808d",
            "placeholder": "​",
            "style": "IPY_MODEL_ebd61cafe372422a8ecf18a8b767578a",
            "value": " 9913344/? [00:00&lt;00:00, 64442324.76it/s]"
          }
        },
        "156408613a4e468cb3bb00d1ea6f19b7": {
          "model_module": "@jupyter-widgets/base",
          "model_name": "LayoutModel",
          "model_module_version": "1.2.0",
          "state": {
            "_model_module": "@jupyter-widgets/base",
            "_model_module_version": "1.2.0",
            "_model_name": "LayoutModel",
            "_view_count": null,
            "_view_module": "@jupyter-widgets/base",
            "_view_module_version": "1.2.0",
            "_view_name": "LayoutView",
            "align_content": null,
            "align_items": null,
            "align_self": null,
            "border": null,
            "bottom": null,
            "display": null,
            "flex": null,
            "flex_flow": null,
            "grid_area": null,
            "grid_auto_columns": null,
            "grid_auto_flow": null,
            "grid_auto_rows": null,
            "grid_column": null,
            "grid_gap": null,
            "grid_row": null,
            "grid_template_areas": null,
            "grid_template_columns": null,
            "grid_template_rows": null,
            "height": null,
            "justify_content": null,
            "justify_items": null,
            "left": null,
            "margin": null,
            "max_height": null,
            "max_width": null,
            "min_height": null,
            "min_width": null,
            "object_fit": null,
            "object_position": null,
            "order": null,
            "overflow": null,
            "overflow_x": null,
            "overflow_y": null,
            "padding": null,
            "right": null,
            "top": null,
            "visibility": null,
            "width": null
          }
        },
        "4673ca5975ba4b78a9411c5010960329": {
          "model_module": "@jupyter-widgets/base",
          "model_name": "LayoutModel",
          "model_module_version": "1.2.0",
          "state": {
            "_model_module": "@jupyter-widgets/base",
            "_model_module_version": "1.2.0",
            "_model_name": "LayoutModel",
            "_view_count": null,
            "_view_module": "@jupyter-widgets/base",
            "_view_module_version": "1.2.0",
            "_view_name": "LayoutView",
            "align_content": null,
            "align_items": null,
            "align_self": null,
            "border": null,
            "bottom": null,
            "display": null,
            "flex": null,
            "flex_flow": null,
            "grid_area": null,
            "grid_auto_columns": null,
            "grid_auto_flow": null,
            "grid_auto_rows": null,
            "grid_column": null,
            "grid_gap": null,
            "grid_row": null,
            "grid_template_areas": null,
            "grid_template_columns": null,
            "grid_template_rows": null,
            "height": null,
            "justify_content": null,
            "justify_items": null,
            "left": null,
            "margin": null,
            "max_height": null,
            "max_width": null,
            "min_height": null,
            "min_width": null,
            "object_fit": null,
            "object_position": null,
            "order": null,
            "overflow": null,
            "overflow_x": null,
            "overflow_y": null,
            "padding": null,
            "right": null,
            "top": null,
            "visibility": null,
            "width": null
          }
        },
        "aa440a70a963416288f34341f355a928": {
          "model_module": "@jupyter-widgets/controls",
          "model_name": "DescriptionStyleModel",
          "model_module_version": "1.5.0",
          "state": {
            "_model_module": "@jupyter-widgets/controls",
            "_model_module_version": "1.5.0",
            "_model_name": "DescriptionStyleModel",
            "_view_count": null,
            "_view_module": "@jupyter-widgets/base",
            "_view_module_version": "1.2.0",
            "_view_name": "StyleView",
            "description_width": ""
          }
        },
        "1a480f7920c84556802f7146c6c4e1c7": {
          "model_module": "@jupyter-widgets/base",
          "model_name": "LayoutModel",
          "model_module_version": "1.2.0",
          "state": {
            "_model_module": "@jupyter-widgets/base",
            "_model_module_version": "1.2.0",
            "_model_name": "LayoutModel",
            "_view_count": null,
            "_view_module": "@jupyter-widgets/base",
            "_view_module_version": "1.2.0",
            "_view_name": "LayoutView",
            "align_content": null,
            "align_items": null,
            "align_self": null,
            "border": null,
            "bottom": null,
            "display": null,
            "flex": null,
            "flex_flow": null,
            "grid_area": null,
            "grid_auto_columns": null,
            "grid_auto_flow": null,
            "grid_auto_rows": null,
            "grid_column": null,
            "grid_gap": null,
            "grid_row": null,
            "grid_template_areas": null,
            "grid_template_columns": null,
            "grid_template_rows": null,
            "height": null,
            "justify_content": null,
            "justify_items": null,
            "left": null,
            "margin": null,
            "max_height": null,
            "max_width": null,
            "min_height": null,
            "min_width": null,
            "object_fit": null,
            "object_position": null,
            "order": null,
            "overflow": null,
            "overflow_x": null,
            "overflow_y": null,
            "padding": null,
            "right": null,
            "top": null,
            "visibility": null,
            "width": null
          }
        },
        "a7b449a10cb84c4aaf48834c5350216b": {
          "model_module": "@jupyter-widgets/controls",
          "model_name": "ProgressStyleModel",
          "model_module_version": "1.5.0",
          "state": {
            "_model_module": "@jupyter-widgets/controls",
            "_model_module_version": "1.5.0",
            "_model_name": "ProgressStyleModel",
            "_view_count": null,
            "_view_module": "@jupyter-widgets/base",
            "_view_module_version": "1.2.0",
            "_view_name": "StyleView",
            "bar_color": null,
            "description_width": ""
          }
        },
        "df77727e4c734cb3a9d3769e4e7f808d": {
          "model_module": "@jupyter-widgets/base",
          "model_name": "LayoutModel",
          "model_module_version": "1.2.0",
          "state": {
            "_model_module": "@jupyter-widgets/base",
            "_model_module_version": "1.2.0",
            "_model_name": "LayoutModel",
            "_view_count": null,
            "_view_module": "@jupyter-widgets/base",
            "_view_module_version": "1.2.0",
            "_view_name": "LayoutView",
            "align_content": null,
            "align_items": null,
            "align_self": null,
            "border": null,
            "bottom": null,
            "display": null,
            "flex": null,
            "flex_flow": null,
            "grid_area": null,
            "grid_auto_columns": null,
            "grid_auto_flow": null,
            "grid_auto_rows": null,
            "grid_column": null,
            "grid_gap": null,
            "grid_row": null,
            "grid_template_areas": null,
            "grid_template_columns": null,
            "grid_template_rows": null,
            "height": null,
            "justify_content": null,
            "justify_items": null,
            "left": null,
            "margin": null,
            "max_height": null,
            "max_width": null,
            "min_height": null,
            "min_width": null,
            "object_fit": null,
            "object_position": null,
            "order": null,
            "overflow": null,
            "overflow_x": null,
            "overflow_y": null,
            "padding": null,
            "right": null,
            "top": null,
            "visibility": null,
            "width": null
          }
        },
        "ebd61cafe372422a8ecf18a8b767578a": {
          "model_module": "@jupyter-widgets/controls",
          "model_name": "DescriptionStyleModel",
          "model_module_version": "1.5.0",
          "state": {
            "_model_module": "@jupyter-widgets/controls",
            "_model_module_version": "1.5.0",
            "_model_name": "DescriptionStyleModel",
            "_view_count": null,
            "_view_module": "@jupyter-widgets/base",
            "_view_module_version": "1.2.0",
            "_view_name": "StyleView",
            "description_width": ""
          }
        },
        "9c85bd242266431da00ffd9fe3edadaf": {
          "model_module": "@jupyter-widgets/controls",
          "model_name": "HBoxModel",
          "model_module_version": "1.5.0",
          "state": {
            "_dom_classes": [],
            "_model_module": "@jupyter-widgets/controls",
            "_model_module_version": "1.5.0",
            "_model_name": "HBoxModel",
            "_view_count": null,
            "_view_module": "@jupyter-widgets/controls",
            "_view_module_version": "1.5.0",
            "_view_name": "HBoxView",
            "box_style": "",
            "children": [
              "IPY_MODEL_3f487b756f9c47afba424c36d9c96e3a",
              "IPY_MODEL_3d7f0fd5d10948d08bdc1b52816d9905",
              "IPY_MODEL_d4b23eefda3344ea960651bf535fee6a"
            ],
            "layout": "IPY_MODEL_d1c78824a0e34aa98a077349d618c74a"
          }
        },
        "3f487b756f9c47afba424c36d9c96e3a": {
          "model_module": "@jupyter-widgets/controls",
          "model_name": "HTMLModel",
          "model_module_version": "1.5.0",
          "state": {
            "_dom_classes": [],
            "_model_module": "@jupyter-widgets/controls",
            "_model_module_version": "1.5.0",
            "_model_name": "HTMLModel",
            "_view_count": null,
            "_view_module": "@jupyter-widgets/controls",
            "_view_module_version": "1.5.0",
            "_view_name": "HTMLView",
            "description": "",
            "description_tooltip": null,
            "layout": "IPY_MODEL_f4a808b583bc48f2a05175c6ec72a88f",
            "placeholder": "​",
            "style": "IPY_MODEL_0794d67896604d0b80fd1a6c4d99a54d",
            "value": ""
          }
        },
        "3d7f0fd5d10948d08bdc1b52816d9905": {
          "model_module": "@jupyter-widgets/controls",
          "model_name": "FloatProgressModel",
          "model_module_version": "1.5.0",
          "state": {
            "_dom_classes": [],
            "_model_module": "@jupyter-widgets/controls",
            "_model_module_version": "1.5.0",
            "_model_name": "FloatProgressModel",
            "_view_count": null,
            "_view_module": "@jupyter-widgets/controls",
            "_view_module_version": "1.5.0",
            "_view_name": "ProgressView",
            "bar_style": "success",
            "description": "",
            "description_tooltip": null,
            "layout": "IPY_MODEL_a1bb42d5444b4540982b0e9a424aa23a",
            "max": 28881,
            "min": 0,
            "orientation": "horizontal",
            "style": "IPY_MODEL_9408bbc92fca476392fd61e32bbfcbe9",
            "value": 28881
          }
        },
        "d4b23eefda3344ea960651bf535fee6a": {
          "model_module": "@jupyter-widgets/controls",
          "model_name": "HTMLModel",
          "model_module_version": "1.5.0",
          "state": {
            "_dom_classes": [],
            "_model_module": "@jupyter-widgets/controls",
            "_model_module_version": "1.5.0",
            "_model_name": "HTMLModel",
            "_view_count": null,
            "_view_module": "@jupyter-widgets/controls",
            "_view_module_version": "1.5.0",
            "_view_name": "HTMLView",
            "description": "",
            "description_tooltip": null,
            "layout": "IPY_MODEL_61059b6c44e4422caf0e9926b742cd93",
            "placeholder": "​",
            "style": "IPY_MODEL_7c2d8692d0b24347a3dc9ac8ffbc6c1a",
            "value": " 29696/? [00:00&lt;00:00, 767426.27it/s]"
          }
        },
        "d1c78824a0e34aa98a077349d618c74a": {
          "model_module": "@jupyter-widgets/base",
          "model_name": "LayoutModel",
          "model_module_version": "1.2.0",
          "state": {
            "_model_module": "@jupyter-widgets/base",
            "_model_module_version": "1.2.0",
            "_model_name": "LayoutModel",
            "_view_count": null,
            "_view_module": "@jupyter-widgets/base",
            "_view_module_version": "1.2.0",
            "_view_name": "LayoutView",
            "align_content": null,
            "align_items": null,
            "align_self": null,
            "border": null,
            "bottom": null,
            "display": null,
            "flex": null,
            "flex_flow": null,
            "grid_area": null,
            "grid_auto_columns": null,
            "grid_auto_flow": null,
            "grid_auto_rows": null,
            "grid_column": null,
            "grid_gap": null,
            "grid_row": null,
            "grid_template_areas": null,
            "grid_template_columns": null,
            "grid_template_rows": null,
            "height": null,
            "justify_content": null,
            "justify_items": null,
            "left": null,
            "margin": null,
            "max_height": null,
            "max_width": null,
            "min_height": null,
            "min_width": null,
            "object_fit": null,
            "object_position": null,
            "order": null,
            "overflow": null,
            "overflow_x": null,
            "overflow_y": null,
            "padding": null,
            "right": null,
            "top": null,
            "visibility": null,
            "width": null
          }
        },
        "f4a808b583bc48f2a05175c6ec72a88f": {
          "model_module": "@jupyter-widgets/base",
          "model_name": "LayoutModel",
          "model_module_version": "1.2.0",
          "state": {
            "_model_module": "@jupyter-widgets/base",
            "_model_module_version": "1.2.0",
            "_model_name": "LayoutModel",
            "_view_count": null,
            "_view_module": "@jupyter-widgets/base",
            "_view_module_version": "1.2.0",
            "_view_name": "LayoutView",
            "align_content": null,
            "align_items": null,
            "align_self": null,
            "border": null,
            "bottom": null,
            "display": null,
            "flex": null,
            "flex_flow": null,
            "grid_area": null,
            "grid_auto_columns": null,
            "grid_auto_flow": null,
            "grid_auto_rows": null,
            "grid_column": null,
            "grid_gap": null,
            "grid_row": null,
            "grid_template_areas": null,
            "grid_template_columns": null,
            "grid_template_rows": null,
            "height": null,
            "justify_content": null,
            "justify_items": null,
            "left": null,
            "margin": null,
            "max_height": null,
            "max_width": null,
            "min_height": null,
            "min_width": null,
            "object_fit": null,
            "object_position": null,
            "order": null,
            "overflow": null,
            "overflow_x": null,
            "overflow_y": null,
            "padding": null,
            "right": null,
            "top": null,
            "visibility": null,
            "width": null
          }
        },
        "0794d67896604d0b80fd1a6c4d99a54d": {
          "model_module": "@jupyter-widgets/controls",
          "model_name": "DescriptionStyleModel",
          "model_module_version": "1.5.0",
          "state": {
            "_model_module": "@jupyter-widgets/controls",
            "_model_module_version": "1.5.0",
            "_model_name": "DescriptionStyleModel",
            "_view_count": null,
            "_view_module": "@jupyter-widgets/base",
            "_view_module_version": "1.2.0",
            "_view_name": "StyleView",
            "description_width": ""
          }
        },
        "a1bb42d5444b4540982b0e9a424aa23a": {
          "model_module": "@jupyter-widgets/base",
          "model_name": "LayoutModel",
          "model_module_version": "1.2.0",
          "state": {
            "_model_module": "@jupyter-widgets/base",
            "_model_module_version": "1.2.0",
            "_model_name": "LayoutModel",
            "_view_count": null,
            "_view_module": "@jupyter-widgets/base",
            "_view_module_version": "1.2.0",
            "_view_name": "LayoutView",
            "align_content": null,
            "align_items": null,
            "align_self": null,
            "border": null,
            "bottom": null,
            "display": null,
            "flex": null,
            "flex_flow": null,
            "grid_area": null,
            "grid_auto_columns": null,
            "grid_auto_flow": null,
            "grid_auto_rows": null,
            "grid_column": null,
            "grid_gap": null,
            "grid_row": null,
            "grid_template_areas": null,
            "grid_template_columns": null,
            "grid_template_rows": null,
            "height": null,
            "justify_content": null,
            "justify_items": null,
            "left": null,
            "margin": null,
            "max_height": null,
            "max_width": null,
            "min_height": null,
            "min_width": null,
            "object_fit": null,
            "object_position": null,
            "order": null,
            "overflow": null,
            "overflow_x": null,
            "overflow_y": null,
            "padding": null,
            "right": null,
            "top": null,
            "visibility": null,
            "width": null
          }
        },
        "9408bbc92fca476392fd61e32bbfcbe9": {
          "model_module": "@jupyter-widgets/controls",
          "model_name": "ProgressStyleModel",
          "model_module_version": "1.5.0",
          "state": {
            "_model_module": "@jupyter-widgets/controls",
            "_model_module_version": "1.5.0",
            "_model_name": "ProgressStyleModel",
            "_view_count": null,
            "_view_module": "@jupyter-widgets/base",
            "_view_module_version": "1.2.0",
            "_view_name": "StyleView",
            "bar_color": null,
            "description_width": ""
          }
        },
        "61059b6c44e4422caf0e9926b742cd93": {
          "model_module": "@jupyter-widgets/base",
          "model_name": "LayoutModel",
          "model_module_version": "1.2.0",
          "state": {
            "_model_module": "@jupyter-widgets/base",
            "_model_module_version": "1.2.0",
            "_model_name": "LayoutModel",
            "_view_count": null,
            "_view_module": "@jupyter-widgets/base",
            "_view_module_version": "1.2.0",
            "_view_name": "LayoutView",
            "align_content": null,
            "align_items": null,
            "align_self": null,
            "border": null,
            "bottom": null,
            "display": null,
            "flex": null,
            "flex_flow": null,
            "grid_area": null,
            "grid_auto_columns": null,
            "grid_auto_flow": null,
            "grid_auto_rows": null,
            "grid_column": null,
            "grid_gap": null,
            "grid_row": null,
            "grid_template_areas": null,
            "grid_template_columns": null,
            "grid_template_rows": null,
            "height": null,
            "justify_content": null,
            "justify_items": null,
            "left": null,
            "margin": null,
            "max_height": null,
            "max_width": null,
            "min_height": null,
            "min_width": null,
            "object_fit": null,
            "object_position": null,
            "order": null,
            "overflow": null,
            "overflow_x": null,
            "overflow_y": null,
            "padding": null,
            "right": null,
            "top": null,
            "visibility": null,
            "width": null
          }
        },
        "7c2d8692d0b24347a3dc9ac8ffbc6c1a": {
          "model_module": "@jupyter-widgets/controls",
          "model_name": "DescriptionStyleModel",
          "model_module_version": "1.5.0",
          "state": {
            "_model_module": "@jupyter-widgets/controls",
            "_model_module_version": "1.5.0",
            "_model_name": "DescriptionStyleModel",
            "_view_count": null,
            "_view_module": "@jupyter-widgets/base",
            "_view_module_version": "1.2.0",
            "_view_name": "StyleView",
            "description_width": ""
          }
        },
        "75e89c408bc8400eb2529e1c2c833d2a": {
          "model_module": "@jupyter-widgets/controls",
          "model_name": "HBoxModel",
          "model_module_version": "1.5.0",
          "state": {
            "_dom_classes": [],
            "_model_module": "@jupyter-widgets/controls",
            "_model_module_version": "1.5.0",
            "_model_name": "HBoxModel",
            "_view_count": null,
            "_view_module": "@jupyter-widgets/controls",
            "_view_module_version": "1.5.0",
            "_view_name": "HBoxView",
            "box_style": "",
            "children": [
              "IPY_MODEL_f4b6c8ced48746eebb4b58e4a095a795",
              "IPY_MODEL_6b337a3e2cb54228853b6d5767b58c51",
              "IPY_MODEL_0df1cd991e0245a5b9e629f7cc8aaeae"
            ],
            "layout": "IPY_MODEL_3c201cadc3874cb79a91b9aff50c9ea2"
          }
        },
        "f4b6c8ced48746eebb4b58e4a095a795": {
          "model_module": "@jupyter-widgets/controls",
          "model_name": "HTMLModel",
          "model_module_version": "1.5.0",
          "state": {
            "_dom_classes": [],
            "_model_module": "@jupyter-widgets/controls",
            "_model_module_version": "1.5.0",
            "_model_name": "HTMLModel",
            "_view_count": null,
            "_view_module": "@jupyter-widgets/controls",
            "_view_module_version": "1.5.0",
            "_view_name": "HTMLView",
            "description": "",
            "description_tooltip": null,
            "layout": "IPY_MODEL_22c116ffd11c4aa78023b718df776b20",
            "placeholder": "​",
            "style": "IPY_MODEL_179463b0ea944418847841374e1b7e2a",
            "value": ""
          }
        },
        "6b337a3e2cb54228853b6d5767b58c51": {
          "model_module": "@jupyter-widgets/controls",
          "model_name": "FloatProgressModel",
          "model_module_version": "1.5.0",
          "state": {
            "_dom_classes": [],
            "_model_module": "@jupyter-widgets/controls",
            "_model_module_version": "1.5.0",
            "_model_name": "FloatProgressModel",
            "_view_count": null,
            "_view_module": "@jupyter-widgets/controls",
            "_view_module_version": "1.5.0",
            "_view_name": "ProgressView",
            "bar_style": "success",
            "description": "",
            "description_tooltip": null,
            "layout": "IPY_MODEL_148d36a1ab7343ad98c9c08f9edc6211",
            "max": 1648877,
            "min": 0,
            "orientation": "horizontal",
            "style": "IPY_MODEL_e9c61bf374f04ef4bcfbe951aa357f62",
            "value": 1648877
          }
        },
        "0df1cd991e0245a5b9e629f7cc8aaeae": {
          "model_module": "@jupyter-widgets/controls",
          "model_name": "HTMLModel",
          "model_module_version": "1.5.0",
          "state": {
            "_dom_classes": [],
            "_model_module": "@jupyter-widgets/controls",
            "_model_module_version": "1.5.0",
            "_model_name": "HTMLModel",
            "_view_count": null,
            "_view_module": "@jupyter-widgets/controls",
            "_view_module_version": "1.5.0",
            "_view_name": "HTMLView",
            "description": "",
            "description_tooltip": null,
            "layout": "IPY_MODEL_c1099404c9154bcf978bb6e2dfdb6b9d",
            "placeholder": "​",
            "style": "IPY_MODEL_469e90963f55428db0c3dc7370b82e99",
            "value": " 1649664/? [00:00&lt;00:00, 27158263.69it/s]"
          }
        },
        "3c201cadc3874cb79a91b9aff50c9ea2": {
          "model_module": "@jupyter-widgets/base",
          "model_name": "LayoutModel",
          "model_module_version": "1.2.0",
          "state": {
            "_model_module": "@jupyter-widgets/base",
            "_model_module_version": "1.2.0",
            "_model_name": "LayoutModel",
            "_view_count": null,
            "_view_module": "@jupyter-widgets/base",
            "_view_module_version": "1.2.0",
            "_view_name": "LayoutView",
            "align_content": null,
            "align_items": null,
            "align_self": null,
            "border": null,
            "bottom": null,
            "display": null,
            "flex": null,
            "flex_flow": null,
            "grid_area": null,
            "grid_auto_columns": null,
            "grid_auto_flow": null,
            "grid_auto_rows": null,
            "grid_column": null,
            "grid_gap": null,
            "grid_row": null,
            "grid_template_areas": null,
            "grid_template_columns": null,
            "grid_template_rows": null,
            "height": null,
            "justify_content": null,
            "justify_items": null,
            "left": null,
            "margin": null,
            "max_height": null,
            "max_width": null,
            "min_height": null,
            "min_width": null,
            "object_fit": null,
            "object_position": null,
            "order": null,
            "overflow": null,
            "overflow_x": null,
            "overflow_y": null,
            "padding": null,
            "right": null,
            "top": null,
            "visibility": null,
            "width": null
          }
        },
        "22c116ffd11c4aa78023b718df776b20": {
          "model_module": "@jupyter-widgets/base",
          "model_name": "LayoutModel",
          "model_module_version": "1.2.0",
          "state": {
            "_model_module": "@jupyter-widgets/base",
            "_model_module_version": "1.2.0",
            "_model_name": "LayoutModel",
            "_view_count": null,
            "_view_module": "@jupyter-widgets/base",
            "_view_module_version": "1.2.0",
            "_view_name": "LayoutView",
            "align_content": null,
            "align_items": null,
            "align_self": null,
            "border": null,
            "bottom": null,
            "display": null,
            "flex": null,
            "flex_flow": null,
            "grid_area": null,
            "grid_auto_columns": null,
            "grid_auto_flow": null,
            "grid_auto_rows": null,
            "grid_column": null,
            "grid_gap": null,
            "grid_row": null,
            "grid_template_areas": null,
            "grid_template_columns": null,
            "grid_template_rows": null,
            "height": null,
            "justify_content": null,
            "justify_items": null,
            "left": null,
            "margin": null,
            "max_height": null,
            "max_width": null,
            "min_height": null,
            "min_width": null,
            "object_fit": null,
            "object_position": null,
            "order": null,
            "overflow": null,
            "overflow_x": null,
            "overflow_y": null,
            "padding": null,
            "right": null,
            "top": null,
            "visibility": null,
            "width": null
          }
        },
        "179463b0ea944418847841374e1b7e2a": {
          "model_module": "@jupyter-widgets/controls",
          "model_name": "DescriptionStyleModel",
          "model_module_version": "1.5.0",
          "state": {
            "_model_module": "@jupyter-widgets/controls",
            "_model_module_version": "1.5.0",
            "_model_name": "DescriptionStyleModel",
            "_view_count": null,
            "_view_module": "@jupyter-widgets/base",
            "_view_module_version": "1.2.0",
            "_view_name": "StyleView",
            "description_width": ""
          }
        },
        "148d36a1ab7343ad98c9c08f9edc6211": {
          "model_module": "@jupyter-widgets/base",
          "model_name": "LayoutModel",
          "model_module_version": "1.2.0",
          "state": {
            "_model_module": "@jupyter-widgets/base",
            "_model_module_version": "1.2.0",
            "_model_name": "LayoutModel",
            "_view_count": null,
            "_view_module": "@jupyter-widgets/base",
            "_view_module_version": "1.2.0",
            "_view_name": "LayoutView",
            "align_content": null,
            "align_items": null,
            "align_self": null,
            "border": null,
            "bottom": null,
            "display": null,
            "flex": null,
            "flex_flow": null,
            "grid_area": null,
            "grid_auto_columns": null,
            "grid_auto_flow": null,
            "grid_auto_rows": null,
            "grid_column": null,
            "grid_gap": null,
            "grid_row": null,
            "grid_template_areas": null,
            "grid_template_columns": null,
            "grid_template_rows": null,
            "height": null,
            "justify_content": null,
            "justify_items": null,
            "left": null,
            "margin": null,
            "max_height": null,
            "max_width": null,
            "min_height": null,
            "min_width": null,
            "object_fit": null,
            "object_position": null,
            "order": null,
            "overflow": null,
            "overflow_x": null,
            "overflow_y": null,
            "padding": null,
            "right": null,
            "top": null,
            "visibility": null,
            "width": null
          }
        },
        "e9c61bf374f04ef4bcfbe951aa357f62": {
          "model_module": "@jupyter-widgets/controls",
          "model_name": "ProgressStyleModel",
          "model_module_version": "1.5.0",
          "state": {
            "_model_module": "@jupyter-widgets/controls",
            "_model_module_version": "1.5.0",
            "_model_name": "ProgressStyleModel",
            "_view_count": null,
            "_view_module": "@jupyter-widgets/base",
            "_view_module_version": "1.2.0",
            "_view_name": "StyleView",
            "bar_color": null,
            "description_width": ""
          }
        },
        "c1099404c9154bcf978bb6e2dfdb6b9d": {
          "model_module": "@jupyter-widgets/base",
          "model_name": "LayoutModel",
          "model_module_version": "1.2.0",
          "state": {
            "_model_module": "@jupyter-widgets/base",
            "_model_module_version": "1.2.0",
            "_model_name": "LayoutModel",
            "_view_count": null,
            "_view_module": "@jupyter-widgets/base",
            "_view_module_version": "1.2.0",
            "_view_name": "LayoutView",
            "align_content": null,
            "align_items": null,
            "align_self": null,
            "border": null,
            "bottom": null,
            "display": null,
            "flex": null,
            "flex_flow": null,
            "grid_area": null,
            "grid_auto_columns": null,
            "grid_auto_flow": null,
            "grid_auto_rows": null,
            "grid_column": null,
            "grid_gap": null,
            "grid_row": null,
            "grid_template_areas": null,
            "grid_template_columns": null,
            "grid_template_rows": null,
            "height": null,
            "justify_content": null,
            "justify_items": null,
            "left": null,
            "margin": null,
            "max_height": null,
            "max_width": null,
            "min_height": null,
            "min_width": null,
            "object_fit": null,
            "object_position": null,
            "order": null,
            "overflow": null,
            "overflow_x": null,
            "overflow_y": null,
            "padding": null,
            "right": null,
            "top": null,
            "visibility": null,
            "width": null
          }
        },
        "469e90963f55428db0c3dc7370b82e99": {
          "model_module": "@jupyter-widgets/controls",
          "model_name": "DescriptionStyleModel",
          "model_module_version": "1.5.0",
          "state": {
            "_model_module": "@jupyter-widgets/controls",
            "_model_module_version": "1.5.0",
            "_model_name": "DescriptionStyleModel",
            "_view_count": null,
            "_view_module": "@jupyter-widgets/base",
            "_view_module_version": "1.2.0",
            "_view_name": "StyleView",
            "description_width": ""
          }
        },
        "c04db1519e0c4a57b5286c47c89c9d4f": {
          "model_module": "@jupyter-widgets/controls",
          "model_name": "HBoxModel",
          "model_module_version": "1.5.0",
          "state": {
            "_dom_classes": [],
            "_model_module": "@jupyter-widgets/controls",
            "_model_module_version": "1.5.0",
            "_model_name": "HBoxModel",
            "_view_count": null,
            "_view_module": "@jupyter-widgets/controls",
            "_view_module_version": "1.5.0",
            "_view_name": "HBoxView",
            "box_style": "",
            "children": [
              "IPY_MODEL_e9dd57c2950a4fe88a6c648e83d50769",
              "IPY_MODEL_df0390482a91484086f5f03f27f4a86d",
              "IPY_MODEL_bd58fb38faf84905a8af57ebf9fd605b"
            ],
            "layout": "IPY_MODEL_35e18598b585424f922c6a2da3d60dc4"
          }
        },
        "e9dd57c2950a4fe88a6c648e83d50769": {
          "model_module": "@jupyter-widgets/controls",
          "model_name": "HTMLModel",
          "model_module_version": "1.5.0",
          "state": {
            "_dom_classes": [],
            "_model_module": "@jupyter-widgets/controls",
            "_model_module_version": "1.5.0",
            "_model_name": "HTMLModel",
            "_view_count": null,
            "_view_module": "@jupyter-widgets/controls",
            "_view_module_version": "1.5.0",
            "_view_name": "HTMLView",
            "description": "",
            "description_tooltip": null,
            "layout": "IPY_MODEL_d9f57a1db081455995299d673cbf891a",
            "placeholder": "​",
            "style": "IPY_MODEL_ca6b8cc10314411aa5426b95931a2f5c",
            "value": ""
          }
        },
        "df0390482a91484086f5f03f27f4a86d": {
          "model_module": "@jupyter-widgets/controls",
          "model_name": "FloatProgressModel",
          "model_module_version": "1.5.0",
          "state": {
            "_dom_classes": [],
            "_model_module": "@jupyter-widgets/controls",
            "_model_module_version": "1.5.0",
            "_model_name": "FloatProgressModel",
            "_view_count": null,
            "_view_module": "@jupyter-widgets/controls",
            "_view_module_version": "1.5.0",
            "_view_name": "ProgressView",
            "bar_style": "success",
            "description": "",
            "description_tooltip": null,
            "layout": "IPY_MODEL_4ca406c643bb4eec94544a25b191806d",
            "max": 4542,
            "min": 0,
            "orientation": "horizontal",
            "style": "IPY_MODEL_4d32080e2cd14a2b93b0074119984483",
            "value": 4542
          }
        },
        "bd58fb38faf84905a8af57ebf9fd605b": {
          "model_module": "@jupyter-widgets/controls",
          "model_name": "HTMLModel",
          "model_module_version": "1.5.0",
          "state": {
            "_dom_classes": [],
            "_model_module": "@jupyter-widgets/controls",
            "_model_module_version": "1.5.0",
            "_model_name": "HTMLModel",
            "_view_count": null,
            "_view_module": "@jupyter-widgets/controls",
            "_view_module_version": "1.5.0",
            "_view_name": "HTMLView",
            "description": "",
            "description_tooltip": null,
            "layout": "IPY_MODEL_b08ee8c393734eb0aaf5442adf04d0ea",
            "placeholder": "​",
            "style": "IPY_MODEL_521900373a594409b237248b7884d5ea",
            "value": " 5120/? [00:00&lt;00:00, 149858.25it/s]"
          }
        },
        "35e18598b585424f922c6a2da3d60dc4": {
          "model_module": "@jupyter-widgets/base",
          "model_name": "LayoutModel",
          "model_module_version": "1.2.0",
          "state": {
            "_model_module": "@jupyter-widgets/base",
            "_model_module_version": "1.2.0",
            "_model_name": "LayoutModel",
            "_view_count": null,
            "_view_module": "@jupyter-widgets/base",
            "_view_module_version": "1.2.0",
            "_view_name": "LayoutView",
            "align_content": null,
            "align_items": null,
            "align_self": null,
            "border": null,
            "bottom": null,
            "display": null,
            "flex": null,
            "flex_flow": null,
            "grid_area": null,
            "grid_auto_columns": null,
            "grid_auto_flow": null,
            "grid_auto_rows": null,
            "grid_column": null,
            "grid_gap": null,
            "grid_row": null,
            "grid_template_areas": null,
            "grid_template_columns": null,
            "grid_template_rows": null,
            "height": null,
            "justify_content": null,
            "justify_items": null,
            "left": null,
            "margin": null,
            "max_height": null,
            "max_width": null,
            "min_height": null,
            "min_width": null,
            "object_fit": null,
            "object_position": null,
            "order": null,
            "overflow": null,
            "overflow_x": null,
            "overflow_y": null,
            "padding": null,
            "right": null,
            "top": null,
            "visibility": null,
            "width": null
          }
        },
        "d9f57a1db081455995299d673cbf891a": {
          "model_module": "@jupyter-widgets/base",
          "model_name": "LayoutModel",
          "model_module_version": "1.2.0",
          "state": {
            "_model_module": "@jupyter-widgets/base",
            "_model_module_version": "1.2.0",
            "_model_name": "LayoutModel",
            "_view_count": null,
            "_view_module": "@jupyter-widgets/base",
            "_view_module_version": "1.2.0",
            "_view_name": "LayoutView",
            "align_content": null,
            "align_items": null,
            "align_self": null,
            "border": null,
            "bottom": null,
            "display": null,
            "flex": null,
            "flex_flow": null,
            "grid_area": null,
            "grid_auto_columns": null,
            "grid_auto_flow": null,
            "grid_auto_rows": null,
            "grid_column": null,
            "grid_gap": null,
            "grid_row": null,
            "grid_template_areas": null,
            "grid_template_columns": null,
            "grid_template_rows": null,
            "height": null,
            "justify_content": null,
            "justify_items": null,
            "left": null,
            "margin": null,
            "max_height": null,
            "max_width": null,
            "min_height": null,
            "min_width": null,
            "object_fit": null,
            "object_position": null,
            "order": null,
            "overflow": null,
            "overflow_x": null,
            "overflow_y": null,
            "padding": null,
            "right": null,
            "top": null,
            "visibility": null,
            "width": null
          }
        },
        "ca6b8cc10314411aa5426b95931a2f5c": {
          "model_module": "@jupyter-widgets/controls",
          "model_name": "DescriptionStyleModel",
          "model_module_version": "1.5.0",
          "state": {
            "_model_module": "@jupyter-widgets/controls",
            "_model_module_version": "1.5.0",
            "_model_name": "DescriptionStyleModel",
            "_view_count": null,
            "_view_module": "@jupyter-widgets/base",
            "_view_module_version": "1.2.0",
            "_view_name": "StyleView",
            "description_width": ""
          }
        },
        "4ca406c643bb4eec94544a25b191806d": {
          "model_module": "@jupyter-widgets/base",
          "model_name": "LayoutModel",
          "model_module_version": "1.2.0",
          "state": {
            "_model_module": "@jupyter-widgets/base",
            "_model_module_version": "1.2.0",
            "_model_name": "LayoutModel",
            "_view_count": null,
            "_view_module": "@jupyter-widgets/base",
            "_view_module_version": "1.2.0",
            "_view_name": "LayoutView",
            "align_content": null,
            "align_items": null,
            "align_self": null,
            "border": null,
            "bottom": null,
            "display": null,
            "flex": null,
            "flex_flow": null,
            "grid_area": null,
            "grid_auto_columns": null,
            "grid_auto_flow": null,
            "grid_auto_rows": null,
            "grid_column": null,
            "grid_gap": null,
            "grid_row": null,
            "grid_template_areas": null,
            "grid_template_columns": null,
            "grid_template_rows": null,
            "height": null,
            "justify_content": null,
            "justify_items": null,
            "left": null,
            "margin": null,
            "max_height": null,
            "max_width": null,
            "min_height": null,
            "min_width": null,
            "object_fit": null,
            "object_position": null,
            "order": null,
            "overflow": null,
            "overflow_x": null,
            "overflow_y": null,
            "padding": null,
            "right": null,
            "top": null,
            "visibility": null,
            "width": null
          }
        },
        "4d32080e2cd14a2b93b0074119984483": {
          "model_module": "@jupyter-widgets/controls",
          "model_name": "ProgressStyleModel",
          "model_module_version": "1.5.0",
          "state": {
            "_model_module": "@jupyter-widgets/controls",
            "_model_module_version": "1.5.0",
            "_model_name": "ProgressStyleModel",
            "_view_count": null,
            "_view_module": "@jupyter-widgets/base",
            "_view_module_version": "1.2.0",
            "_view_name": "StyleView",
            "bar_color": null,
            "description_width": ""
          }
        },
        "b08ee8c393734eb0aaf5442adf04d0ea": {
          "model_module": "@jupyter-widgets/base",
          "model_name": "LayoutModel",
          "model_module_version": "1.2.0",
          "state": {
            "_model_module": "@jupyter-widgets/base",
            "_model_module_version": "1.2.0",
            "_model_name": "LayoutModel",
            "_view_count": null,
            "_view_module": "@jupyter-widgets/base",
            "_view_module_version": "1.2.0",
            "_view_name": "LayoutView",
            "align_content": null,
            "align_items": null,
            "align_self": null,
            "border": null,
            "bottom": null,
            "display": null,
            "flex": null,
            "flex_flow": null,
            "grid_area": null,
            "grid_auto_columns": null,
            "grid_auto_flow": null,
            "grid_auto_rows": null,
            "grid_column": null,
            "grid_gap": null,
            "grid_row": null,
            "grid_template_areas": null,
            "grid_template_columns": null,
            "grid_template_rows": null,
            "height": null,
            "justify_content": null,
            "justify_items": null,
            "left": null,
            "margin": null,
            "max_height": null,
            "max_width": null,
            "min_height": null,
            "min_width": null,
            "object_fit": null,
            "object_position": null,
            "order": null,
            "overflow": null,
            "overflow_x": null,
            "overflow_y": null,
            "padding": null,
            "right": null,
            "top": null,
            "visibility": null,
            "width": null
          }
        },
        "521900373a594409b237248b7884d5ea": {
          "model_module": "@jupyter-widgets/controls",
          "model_name": "DescriptionStyleModel",
          "model_module_version": "1.5.0",
          "state": {
            "_model_module": "@jupyter-widgets/controls",
            "_model_module_version": "1.5.0",
            "_model_name": "DescriptionStyleModel",
            "_view_count": null,
            "_view_module": "@jupyter-widgets/base",
            "_view_module_version": "1.2.0",
            "_view_name": "StyleView",
            "description_width": ""
          }
        }
      }
    }
  },
  "cells": [
    {
      "cell_type": "code",
      "source": [
        "from google.colab import drive\n",
        "drive.mount('/content/gdrive', force_remount=True)"
      ],
      "metadata": {
        "colab": {
          "base_uri": "https://localhost:8080/"
        },
        "id": "153KKhy-l36i",
        "outputId": "fb13e121-ef40-4553-b297-80e02b93dabd"
      },
      "execution_count": 1,
      "outputs": [
        {
          "output_type": "stream",
          "name": "stdout",
          "text": [
            "Mounted at /content/gdrive\n"
          ]
        }
      ]
    },
    {
      "cell_type": "code",
      "execution_count": 2,
      "metadata": {
        "id": "d1cjThNTCorb"
      },
      "outputs": [],
      "source": [
        "import torch\n",
        "import torch.nn as nn\n",
        "import torch.optim as optim\n",
        "from torch.autograd.variable import Variable\n",
        "from torchvision import transforms\n",
        "from torchvision.datasets import MNIST\n",
        "from torchvision.utils import make_grid\n",
        "from torch.utils.data import DataLoader\n",
        "import imageio\n"
      ]
    },
    {
      "cell_type": "code",
      "source": [
        "device = torch.device('cuda' if torch.cuda.is_available() else 'cpu')\n",
        "print(device)"
      ],
      "metadata": {
        "colab": {
          "base_uri": "https://localhost:8080/"
        },
        "id": "6bf0IswCe3db",
        "outputId": "07a89558-9860-4bbb-af06-05c09ae6b027"
      },
      "execution_count": 3,
      "outputs": [
        {
          "output_type": "stream",
          "name": "stdout",
          "text": [
            "cuda\n"
          ]
        }
      ]
    },
    {
      "cell_type": "code",
      "source": [
        "torch.manual_seed(1)"
      ],
      "metadata": {
        "colab": {
          "base_uri": "https://localhost:8080/"
        },
        "id": "nwqYO81Lr3xc",
        "outputId": "a5ae7e6b-76e7-4c59-f252-dcb783278719"
      },
      "execution_count": 4,
      "outputs": [
        {
          "output_type": "execute_result",
          "data": {
            "text/plain": [
              "<torch._C.Generator at 0x7fa72c4fa4d0>"
            ]
          },
          "metadata": {},
          "execution_count": 4
        }
      ]
    },
    {
      "cell_type": "code",
      "source": [
        "import numpy as np\n",
        "from matplotlib import pyplot as plt"
      ],
      "metadata": {
        "id": "TyoRiIsUfAdD"
      },
      "execution_count": 5,
      "outputs": []
    },
    {
      "cell_type": "code",
      "source": [
        "transform = transforms.Compose([\n",
        "                transforms.Resize((64, 64)),\n",
        "                transforms.ToTensor(),\n",
        "                transforms.Normalize((0.5,),(0.5,))\n",
        "                ])\n",
        "to_image = transforms.ToPILImage()\n",
        "trainset = MNIST(root='./data/', train=True, download=True, transform=transform)\n",
        "trainloader = DataLoader(trainset, batch_size=100, shuffle=True)\n"
      ],
      "metadata": {
        "id": "ESYsBB8DfHkk",
        "colab": {
          "base_uri": "https://localhost:8080/",
          "height": 423,
          "referenced_widgets": [
            "f6035604f9614a30a2310cfa4b333114",
            "65ff24b368eb4aa8b2f6c7cfb2803c0b",
            "d5078d29cb3c46d59efa27e267722b8d",
            "8693a95a61204a969dd37cc2aa20a3fd",
            "156408613a4e468cb3bb00d1ea6f19b7",
            "4673ca5975ba4b78a9411c5010960329",
            "aa440a70a963416288f34341f355a928",
            "1a480f7920c84556802f7146c6c4e1c7",
            "a7b449a10cb84c4aaf48834c5350216b",
            "df77727e4c734cb3a9d3769e4e7f808d",
            "ebd61cafe372422a8ecf18a8b767578a",
            "9c85bd242266431da00ffd9fe3edadaf",
            "3f487b756f9c47afba424c36d9c96e3a",
            "3d7f0fd5d10948d08bdc1b52816d9905",
            "d4b23eefda3344ea960651bf535fee6a",
            "d1c78824a0e34aa98a077349d618c74a",
            "f4a808b583bc48f2a05175c6ec72a88f",
            "0794d67896604d0b80fd1a6c4d99a54d",
            "a1bb42d5444b4540982b0e9a424aa23a",
            "9408bbc92fca476392fd61e32bbfcbe9",
            "61059b6c44e4422caf0e9926b742cd93",
            "7c2d8692d0b24347a3dc9ac8ffbc6c1a",
            "75e89c408bc8400eb2529e1c2c833d2a",
            "f4b6c8ced48746eebb4b58e4a095a795",
            "6b337a3e2cb54228853b6d5767b58c51",
            "0df1cd991e0245a5b9e629f7cc8aaeae",
            "3c201cadc3874cb79a91b9aff50c9ea2",
            "22c116ffd11c4aa78023b718df776b20",
            "179463b0ea944418847841374e1b7e2a",
            "148d36a1ab7343ad98c9c08f9edc6211",
            "e9c61bf374f04ef4bcfbe951aa357f62",
            "c1099404c9154bcf978bb6e2dfdb6b9d",
            "469e90963f55428db0c3dc7370b82e99",
            "c04db1519e0c4a57b5286c47c89c9d4f",
            "e9dd57c2950a4fe88a6c648e83d50769",
            "df0390482a91484086f5f03f27f4a86d",
            "bd58fb38faf84905a8af57ebf9fd605b",
            "35e18598b585424f922c6a2da3d60dc4",
            "d9f57a1db081455995299d673cbf891a",
            "ca6b8cc10314411aa5426b95931a2f5c",
            "4ca406c643bb4eec94544a25b191806d",
            "4d32080e2cd14a2b93b0074119984483",
            "b08ee8c393734eb0aaf5442adf04d0ea",
            "521900373a594409b237248b7884d5ea"
          ]
        },
        "outputId": "f46f626f-3854-4f3a-be4a-d2171b07a1fc"
      },
      "execution_count": 6,
      "outputs": [
        {
          "output_type": "stream",
          "name": "stdout",
          "text": [
            "Downloading http://yann.lecun.com/exdb/mnist/train-images-idx3-ubyte.gz\n",
            "Downloading http://yann.lecun.com/exdb/mnist/train-images-idx3-ubyte.gz to ./data/MNIST/raw/train-images-idx3-ubyte.gz\n"
          ]
        },
        {
          "output_type": "display_data",
          "data": {
            "text/plain": [
              "  0%|          | 0/9912422 [00:00<?, ?it/s]"
            ],
            "application/vnd.jupyter.widget-view+json": {
              "version_major": 2,
              "version_minor": 0,
              "model_id": "f6035604f9614a30a2310cfa4b333114"
            }
          },
          "metadata": {}
        },
        {
          "output_type": "stream",
          "name": "stdout",
          "text": [
            "Extracting ./data/MNIST/raw/train-images-idx3-ubyte.gz to ./data/MNIST/raw\n",
            "\n",
            "Downloading http://yann.lecun.com/exdb/mnist/train-labels-idx1-ubyte.gz\n",
            "Downloading http://yann.lecun.com/exdb/mnist/train-labels-idx1-ubyte.gz to ./data/MNIST/raw/train-labels-idx1-ubyte.gz\n"
          ]
        },
        {
          "output_type": "display_data",
          "data": {
            "text/plain": [
              "  0%|          | 0/28881 [00:00<?, ?it/s]"
            ],
            "application/vnd.jupyter.widget-view+json": {
              "version_major": 2,
              "version_minor": 0,
              "model_id": "9c85bd242266431da00ffd9fe3edadaf"
            }
          },
          "metadata": {}
        },
        {
          "output_type": "stream",
          "name": "stdout",
          "text": [
            "Extracting ./data/MNIST/raw/train-labels-idx1-ubyte.gz to ./data/MNIST/raw\n",
            "\n",
            "Downloading http://yann.lecun.com/exdb/mnist/t10k-images-idx3-ubyte.gz\n",
            "Downloading http://yann.lecun.com/exdb/mnist/t10k-images-idx3-ubyte.gz to ./data/MNIST/raw/t10k-images-idx3-ubyte.gz\n"
          ]
        },
        {
          "output_type": "display_data",
          "data": {
            "text/plain": [
              "  0%|          | 0/1648877 [00:00<?, ?it/s]"
            ],
            "application/vnd.jupyter.widget-view+json": {
              "version_major": 2,
              "version_minor": 0,
              "model_id": "75e89c408bc8400eb2529e1c2c833d2a"
            }
          },
          "metadata": {}
        },
        {
          "output_type": "stream",
          "name": "stdout",
          "text": [
            "Extracting ./data/MNIST/raw/t10k-images-idx3-ubyte.gz to ./data/MNIST/raw\n",
            "\n",
            "Downloading http://yann.lecun.com/exdb/mnist/t10k-labels-idx1-ubyte.gz\n",
            "Downloading http://yann.lecun.com/exdb/mnist/t10k-labels-idx1-ubyte.gz to ./data/MNIST/raw/t10k-labels-idx1-ubyte.gz\n"
          ]
        },
        {
          "output_type": "display_data",
          "data": {
            "text/plain": [
              "  0%|          | 0/4542 [00:00<?, ?it/s]"
            ],
            "application/vnd.jupyter.widget-view+json": {
              "version_major": 2,
              "version_minor": 0,
              "model_id": "c04db1519e0c4a57b5286c47c89c9d4f"
            }
          },
          "metadata": {}
        },
        {
          "output_type": "stream",
          "name": "stdout",
          "text": [
            "Extracting ./data/MNIST/raw/t10k-labels-idx1-ubyte.gz to ./data/MNIST/raw\n",
            "\n"
          ]
        }
      ]
    },
    {
      "cell_type": "code",
      "source": [
        "#showing images\n",
        "def show_images(images):\n",
        "    fig, ax = plt.subplots(figsize=(20, 20))\n",
        "    ax.set_xticks([]); ax.set_yticks([])\n",
        "    ax.imshow(make_grid(images.detach(), nrow=22).permute(1, 2, 0))\n",
        "\n",
        "def show_batch(dl):\n",
        "    for images, _ in dl:\n",
        "        show_images(images)\n",
        "        break"
      ],
      "metadata": {
        "id": "gMJSw3JTPY1e"
      },
      "execution_count": 7,
      "outputs": []
    },
    {
      "cell_type": "code",
      "source": [
        "show_batch(trainloader)"
      ],
      "metadata": {
        "id": "cngld0B3PZfv",
        "colab": {
          "base_uri": "https://localhost:8080/",
          "height": 306
        },
        "outputId": "32b073ae-db24-4a51-b259-bd7738f0c0c2"
      },
      "execution_count": 8,
      "outputs": [
        {
          "output_type": "stream",
          "name": "stderr",
          "text": [
            "Clipping input data to the valid range for imshow with RGB data ([0..1] for floats or [0..255] for integers).\n"
          ]
        },
        {
          "output_type": "display_data",
          "data": {
            "text/plain": [
              "<Figure size 1440x1440 with 1 Axes>"
            ],
            "image/png": "[encoded data removed]"
          },
          "metadata": {}
        }
      ]
    },
    {
      "cell_type": "code",
      "source": [
        "latent_dim = 128"
      ],
      "metadata": {
        "id": "FoXtqtntPdEt"
      },
      "execution_count": 9,
      "outputs": []
    },
    {
      "cell_type": "code",
      "source": [
        "# Generator Model Class Definition      \n",
        "class Generator(nn.Module):\n",
        "    def __init__(self):\n",
        "        super(Generator, self).__init__()\n",
        "        self.main = nn.Sequential(\n",
        "            # Block 1:input is Z, going into a convolution\n",
        "            nn.ConvTranspose2d(latent_dim, 64 * 8, 4, 1, 0, bias=False),\n",
        "            nn.BatchNorm2d(64 * 8),\n",
        "            nn.ReLU(True),\n",
        "            # Block 2: (64 * 8) x 4 x 4\n",
        "            nn.ConvTranspose2d(64 * 8, 64 * 4, 4, 2, 1, bias=False),\n",
        "            nn.BatchNorm2d(64 * 4),\n",
        "            nn.ReLU(True),\n",
        "            # Block 3: (64 * 4) x 8 x 8\n",
        "            nn.ConvTranspose2d(64 * 4, 64 * 2, 4, 2, 1, bias=False),\n",
        "            nn.BatchNorm2d(64 * 2),\n",
        "            nn.ReLU(True),\n",
        "            # Block 4: (64 * 2) x 16 x 16\n",
        "            nn.ConvTranspose2d(64 * 2, 64, 4, 2, 1, bias=False),\n",
        "            nn.BatchNorm2d(64),\n",
        "            nn.ReLU(True),\n",
        "            # Block 5: (64) x 32 x 32\n",
        "            nn.ConvTranspose2d(64, 1, 4, 2, 1, bias=False),\n",
        "            nn.Tanh()\n",
        "            # Output: (3) x 64 x 64\n",
        "        )\n",
        "\n",
        "    def forward(self, input):\n",
        "        output = self.main(input)\n",
        "        return output "
      ],
      "metadata": {
        "id": "-2VxETQ1PfUu"
      },
      "execution_count": 10,
      "outputs": []
    },
    {
      "cell_type": "code",
      "source": [
        "# Discriminator Model Class Definition\n",
        "class Discriminator(nn.Module):\n",
        "    def __init__(self):\n",
        "        super(Discriminator, self).__init__()\n",
        "        self.main = nn.Sequential(\n",
        "            # Block 1: (3) x 64 x 64\n",
        "            nn.Conv2d(1, 64, 4, 2, 1, bias=False),\n",
        "            nn.LeakyReLU(0.2, inplace=True),\n",
        "            # Block 2: (64) x 32 x 32\n",
        "            nn.Conv2d(64, 64 * 2, 4, 2, 1, bias=False),\n",
        "            nn.BatchNorm2d(64 * 2),\n",
        "            nn.LeakyReLU(0.2, inplace=True),\n",
        "            # Block 3: (64*2) x 16 x 16\n",
        "            nn.Conv2d(64 * 2, 64 * 4, 4, 2, 1, bias=False),\n",
        "            nn.BatchNorm2d(64 * 4),\n",
        "            nn.LeakyReLU(0.2, inplace=True),\n",
        "            # Block 4: (64*4) x 8 x 8\n",
        "            nn.Conv2d(64 * 4, 64 * 8, 4, 2, 1, bias=False),\n",
        "            nn.BatchNorm2d(64 * 8),\n",
        "            nn.LeakyReLU(0.2, inplace=True),\n",
        "            # Block 5: (64*8) x 4 x 4\n",
        "            nn.Conv2d(64 * 8, 1, 4, 1, 0, bias=False),\n",
        "            nn.Sigmoid(),\n",
        "            nn.Flatten()\n",
        "            # Output: 1\n",
        "        )\n",
        "\n",
        "    def forward(self, input):\n",
        "        output = self.main(input)\n",
        "        return output"
      ],
      "metadata": {
        "id": "wX6RPnthPjef"
      },
      "execution_count": 11,
      "outputs": []
    },
    {
      "cell_type": "code",
      "source": [
        "# custom weights initialization called on gen and disc model\n",
        "def weights_init(m):\n",
        "    classname = m.__class__.__name__\n",
        "    if classname.find('Conv') != -1:\n",
        "        torch.nn.init.normal_(m.weight, 0.0, 0.02)\n",
        "    elif classname.find('BatchNorm') != -1:\n",
        "        torch.nn.init.normal_(m.weight, 1.0, 0.02)\n",
        "        torch.nn.init.zeros_(m.bias) "
      ],
      "metadata": {
        "id": "xsfJeAy2PnCI"
      },
      "execution_count": 12,
      "outputs": []
    },
    {
      "cell_type": "code",
      "source": [
        "generator = Generator().to(device)\n",
        "print(generator.apply(weights_init))\n",
        "\n",
        "discriminator = Discriminator().to(device)\n",
        "print(discriminator.apply(weights_init))"
      ],
      "metadata": {
        "id": "K-NEmGS-Po_H",
        "colab": {
          "base_uri": "https://localhost:8080/"
        },
        "outputId": "903fc408-ae85-45c3-ae31-c4361bf89078"
      },
      "execution_count": 13,
      "outputs": [
        {
          "output_type": "stream",
          "name": "stdout",
          "text": [
            "Generator(\n",
            "  (main): Sequential(\n",
            "    (0): ConvTranspose2d(128, 512, kernel_size=(4, 4), stride=(1, 1), bias=False)\n",
            "    (1): BatchNorm2d(512, eps=1e-05, momentum=0.1, affine=True, track_running_stats=True)\n",
            "    (2): ReLU(inplace=True)\n",
            "    (3): ConvTranspose2d(512, 256, kernel_size=(4, 4), stride=(2, 2), padding=(1, 1), bias=False)\n",
            "    (4): BatchNorm2d(256, eps=1e-05, momentum=0.1, affine=True, track_running_stats=True)\n",
            "    (5): ReLU(inplace=True)\n",
            "    (6): ConvTranspose2d(256, 128, kernel_size=(4, 4), stride=(2, 2), padding=(1, 1), bias=False)\n",
            "    (7): BatchNorm2d(128, eps=1e-05, momentum=0.1, affine=True, track_running_stats=True)\n",
            "    (8): ReLU(inplace=True)\n",
            "    (9): ConvTranspose2d(128, 64, kernel_size=(4, 4), stride=(2, 2), padding=(1, 1), bias=False)\n",
            "    (10): BatchNorm2d(64, eps=1e-05, momentum=0.1, affine=True, track_running_stats=True)\n",
            "    (11): ReLU(inplace=True)\n",
            "    (12): ConvTranspose2d(64, 1, kernel_size=(4, 4), stride=(2, 2), padding=(1, 1), bias=False)\n",
            "    (13): Tanh()\n",
            "  )\n",
            ")\n",
            "Discriminator(\n",
            "  (main): Sequential(\n",
            "    (0): Conv2d(1, 64, kernel_size=(4, 4), stride=(2, 2), padding=(1, 1), bias=False)\n",
            "    (1): LeakyReLU(negative_slope=0.2, inplace=True)\n",
            "    (2): Conv2d(64, 128, kernel_size=(4, 4), stride=(2, 2), padding=(1, 1), bias=False)\n",
            "    (3): BatchNorm2d(128, eps=1e-05, momentum=0.1, affine=True, track_running_stats=True)\n",
            "    (4): LeakyReLU(negative_slope=0.2, inplace=True)\n",
            "    (5): Conv2d(128, 256, kernel_size=(4, 4), stride=(2, 2), padding=(1, 1), bias=False)\n",
            "    (6): BatchNorm2d(256, eps=1e-05, momentum=0.1, affine=True, track_running_stats=True)\n",
            "    (7): LeakyReLU(negative_slope=0.2, inplace=True)\n",
            "    (8): Conv2d(256, 512, kernel_size=(4, 4), stride=(2, 2), padding=(1, 1), bias=False)\n",
            "    (9): BatchNorm2d(512, eps=1e-05, momentum=0.1, affine=True, track_running_stats=True)\n",
            "    (10): LeakyReLU(negative_slope=0.2, inplace=True)\n",
            "    (11): Conv2d(512, 1, kernel_size=(4, 4), stride=(1, 1), bias=False)\n",
            "    (12): Sigmoid()\n",
            "    (13): Flatten(start_dim=1, end_dim=-1)\n",
            "  )\n",
            ")\n"
          ]
        }
      ]
    },
    {
      "cell_type": "code",
      "source": [
        "#hyperparameters \n",
        "g_optim = optim.Adam(generator.parameters(), lr=2e-4)\n",
        "d_optim = optim.Adam(discriminator.parameters(), lr=2e-4)\n",
        "\n",
        "g_losses = []\n",
        "d_losses = []\n",
        "images = []\n",
        "\n",
        "criterion = nn.BCELoss()\n",
        "\n",
        "def noise(n, n_features=128):\n",
        "    return Variable(torch.randn(n, n_features,1,1)).to(device)\n",
        "\n",
        "def make_ones(size):\n",
        "    data = Variable(torch.ones(size, 1))\n",
        "    return data.to(device)\n",
        "\n",
        "def make_zeros(size):\n",
        "    data = Variable(torch.zeros(size, 1))\n",
        "    return data.to(device)"
      ],
      "metadata": {
        "id": "uph8J8NsPsop"
      },
      "execution_count": 14,
      "outputs": []
    },
    {
      "cell_type": "code",
      "source": [
        "def train_discriminator(optimizer, real_data, fake_data):\n",
        "    n = real_data.size(0)\n",
        "\n",
        "    optimizer.zero_grad()\n",
        "    \n",
        "    prediction_real = discriminator(real_data)\n",
        "    error_real = criterion(prediction_real, make_ones(n))\n",
        "    error_real.backward()\n",
        "\n",
        "    prediction_fake = discriminator(fake_data)\n",
        "    error_fake = criterion(prediction_fake, make_zeros(n))\n",
        "    \n",
        "    error_fake.backward()\n",
        "    optimizer.step()\n",
        "    \n",
        "    return error_real + error_fake\n",
        "\n",
        "def train_generator(optimizer, fake_data):\n",
        "    n = fake_data.size(0)\n",
        "    optimizer.zero_grad()\n",
        "    \n",
        "    prediction = discriminator(fake_data)\n",
        "    error = criterion(prediction, make_ones(n))\n",
        "    \n",
        "    error.backward()\n",
        "    optimizer.step()\n",
        "    \n",
        "    return error\n"
      ],
      "metadata": {
        "id": "kGTajmKbP0kR"
      },
      "execution_count": 21,
      "outputs": []
    },
    {
      "cell_type": "code",
      "source": [
        "num_epochs = 50\n",
        "k = 1\n",
        "test_noise = noise(1)\n",
        "\n",
        "generator.train()\n",
        "discriminator.train()\n",
        "for epoch in range(num_epochs):\n",
        "    g_error = 0.0\n",
        "    d_error = 0.0\n",
        "    for i, data in enumerate(trainloader):\n",
        "        imgs, _ = data\n",
        "        n = len(imgs)\n",
        "        for j in range(k):\n",
        "            noise_vector = noise(imgs.size(0))  \n",
        "            fake_data = generator(noise_vector).detach()\n",
        "            real_data = imgs.to(device)\n",
        "            d_error += train_discriminator(d_optim, real_data, fake_data)\n",
        "        fake_data = generator(noise_vector)\n",
        "        g_error += train_generator(g_optim, fake_data)\n",
        "\n",
        "    img = generator(test_noise)\n",
        "    img = make_grid(img.cpu().detach())\n",
        "    images.append(img)\n",
        "    g_losses.append(g_error/i)\n",
        "    d_losses.append(d_error/i)\n",
        "    print('Epoch {}: g_loss: {:.8f} d_loss: {:.8f}\\r'.format(epoch, g_error/i, d_error/i))\n",
        "\n",
        "    torch.save({\n",
        "    'epochs': epoch,\n",
        "    'generator_model_state_dict': generator.state_dict(),\n",
        "    'discriminator_model_state_dict': discriminator.state_dict(),\n",
        "    'g_loss': g_losses,\n",
        "    'd_loss': d_losses,\n",
        "    'img':images,\n",
        "}, '/content/gdrive/MyDrive/Colab Notebooks/ComputerVision/DCGAN_model.pt_'+str(epoch))\n",
        "    \n",
        "print('Training Finished')\n",
        "# torch.save(generator.state_dict(), 'mnist_generatorDCGAN.pth')\n",
        "\n",
        "\n"
      ],
      "metadata": {
        "id": "u8rZnInhP36S",
        "colab": {
          "base_uri": "https://localhost:8080/"
        },
        "outputId": "57de7af4-ab6f-443a-8ffe-414b35f5a883"
      },
      "execution_count": 22,
      "outputs": [
        {
          "output_type": "stream",
          "name": "stdout",
          "text": [
            "Epoch 0: g_loss: 9.04870605 d_loss: 0.09944312\n",
            "Epoch 1: g_loss: 6.99323893 d_loss: 0.09588604\n",
            "Epoch 2: g_loss: 6.31393433 d_loss: 0.09085882\n",
            "Epoch 3: g_loss: 6.04661989 d_loss: 0.13635151\n",
            "Epoch 4: g_loss: 5.21321535 d_loss: 0.20105188\n",
            "Epoch 5: g_loss: 5.58668137 d_loss: 0.20803367\n",
            "Epoch 6: g_loss: 5.13253975 d_loss: 0.23125517\n",
            "Epoch 7: g_loss: 5.34423923 d_loss: 0.22047971\n",
            "Epoch 8: g_loss: 5.24392223 d_loss: 0.19090839\n",
            "Epoch 9: g_loss: 5.34539747 d_loss: 0.18055524\n",
            "Epoch 10: g_loss: 5.31544590 d_loss: 0.20571917\n",
            "Epoch 11: g_loss: 5.17723846 d_loss: 0.19113733\n",
            "Epoch 12: g_loss: 5.61095381 d_loss: 0.20700388\n",
            "Epoch 13: g_loss: 5.29216719 d_loss: 0.15305597\n",
            "Epoch 14: g_loss: 5.74608326 d_loss: 0.19717398\n",
            "Epoch 15: g_loss: 5.36352158 d_loss: 0.11975279\n",
            "Epoch 16: g_loss: 10.29341221 d_loss: 0.00367268\n",
            "Epoch 17: g_loss: 8.89592743 d_loss: 0.00278233\n",
            "Epoch 18: g_loss: 8.75172424 d_loss: 0.00236045\n",
            "Epoch 19: g_loss: 9.38309765 d_loss: 0.00145506\n",
            "Epoch 20: g_loss: 10.56427860 d_loss: 0.00141346\n",
            "Epoch 21: g_loss: 11.51099110 d_loss: 0.00086504\n",
            "Epoch 22: g_loss: 10.95664883 d_loss: 0.00067088\n",
            "Epoch 23: g_loss: 20.02442932 d_loss: 0.00045389\n",
            "Epoch 24: g_loss: 54.10137558 d_loss: 0.00000000\n",
            "Epoch 25: g_loss: 54.09920120 d_loss: 0.00000000\n",
            "Epoch 26: g_loss: 54.10554123 d_loss: 0.00000000\n",
            "Epoch 27: g_loss: 54.10094070 d_loss: 0.00000000\n",
            "Epoch 28: g_loss: 54.10426712 d_loss: 0.00000000\n",
            "Epoch 29: g_loss: 54.10255814 d_loss: 0.00000000\n",
            "Epoch 30: g_loss: 54.10253525 d_loss: 0.00000000\n",
            "Epoch 31: g_loss: 54.10048294 d_loss: 0.00000000\n",
            "Epoch 32: g_loss: 54.10383987 d_loss: 0.00000000\n",
            "Epoch 33: g_loss: 54.10063553 d_loss: 0.00000000\n",
            "Epoch 34: g_loss: 54.10250473 d_loss: 0.00000000\n",
            "Epoch 35: g_loss: 54.10064316 d_loss: 0.00000000\n",
            "Epoch 36: g_loss: 54.10277176 d_loss: 0.00000000\n",
            "Epoch 37: g_loss: 54.10202408 d_loss: 0.00000000\n",
            "Epoch 38: g_loss: 54.10204697 d_loss: 0.00000000\n",
            "Epoch 39: g_loss: 54.09931564 d_loss: 0.00000000\n",
            "Epoch 40: g_loss: 54.10337830 d_loss: 0.00000000\n",
            "Epoch 41: g_loss: 54.10064316 d_loss: 0.00000000\n",
            "Epoch 42: g_loss: 54.09948349 d_loss: 0.00000000\n",
            "Epoch 43: g_loss: 54.09946823 d_loss: 0.00000000\n",
            "Epoch 44: g_loss: 54.10391998 d_loss: 0.00000000\n",
            "Epoch 45: g_loss: 54.10000229 d_loss: 0.00000000\n",
            "Epoch 46: g_loss: 54.09908676 d_loss: 0.00000000\n",
            "Epoch 47: g_loss: 54.10100937 d_loss: 0.00000000\n",
            "Epoch 48: g_loss: 54.08302307 d_loss: 0.00000000\n",
            "Epoch 49: g_loss: 54.08129883 d_loss: 0.00000000\n",
            "Training Finished\n"
          ]
        }
      ]
    },
    {
      "cell_type": "code",
      "source": [
        "generator = Generator().to(device)\n",
        "discriminator = Discriminator().to(device)\n",
        "\n",
        "checkpoint = torch.load('/content/gdrive/MyDrive/Colab Notebooks/ComputerVision/DCGAN_model.pt_15')\n",
        "generator.load_state_dict(checkpoint['generator_model_state_dict'])\n",
        "discriminator.load_state_dict(checkpoint['discriminator_model_state_dict'])\n",
        "\n",
        "g_losses = checkpoint['g_loss']\n",
        "d_losses = checkpoint['d_loss']\n"
      ],
      "metadata": {
        "id": "8yVU9501mTw-"
      },
      "execution_count": 62,
      "outputs": []
    },
    {
      "cell_type": "code",
      "source": [
        "# print(generator.state_dict())\n",
        "# print(discriminator.state_dict())"
      ],
      "metadata": {
        "id": "AXbCjKS8n5WL"
      },
      "execution_count": 63,
      "outputs": []
    },
    {
      "cell_type": "code",
      "source": [
        "#saving progress image\n",
        "import numpy as np\n",
        "from matplotlib import pyplot as plt\n",
        "imgs = [np.array(to_image(i)) for i in images]\n",
        "imageio.mimsave('progressDCGAN.gif', imgs)"
      ],
      "metadata": {
        "id": "sPKdXhmSP8HB"
      },
      "execution_count": 76,
      "outputs": []
    },
    {
      "cell_type": "code",
      "source": [
        "#converting to tensor\n",
        "print(type(g_losses))\n",
        "g_losses_T = torch.tensor(g_losses)\n",
        "print(type(g_losses_T))\n",
        "\n",
        "print(type(d_losses))\n",
        "d_losses_T = torch.tensor(d_losses)\n",
        "print(type(d_losses_T))"
      ],
      "metadata": {
        "id": "hmtoW4AUP_yy",
        "colab": {
          "base_uri": "https://localhost:8080/"
        },
        "outputId": "48573227-3cfd-49b4-a138-d6c9340396a6"
      },
      "execution_count": 65,
      "outputs": [
        {
          "output_type": "stream",
          "name": "stdout",
          "text": [
            "<class 'list'>\n",
            "<class 'torch.Tensor'>\n",
            "<class 'list'>\n",
            "<class 'torch.Tensor'>\n"
          ]
        }
      ]
    },
    {
      "cell_type": "code",
      "source": [
        "#plotting loss\n",
        "plt.plot(g_losses_T, label='Generator_Losses')\n",
        "plt.plot(d_losses_T, label='Discriminator Losses')\n",
        "plt.legend()\n",
        "plt.savefig('lossDCGAN.png')"
      ],
      "metadata": {
        "id": "1J-YkBdcQBca",
        "colab": {
          "base_uri": "https://localhost:8080/",
          "height": 265
        },
        "outputId": "e93abf35-5a2c-4cbb-fbd3-ae75dc08e743"
      },
      "execution_count": 66,
      "outputs": [
        {
          "output_type": "display_data",
          "data": {
            "text/plain": [
              "<Figure size 432x288 with 1 Axes>"
            ],
            "image/png": "[encoded data removed]"
          },
          "metadata": {
            "needs_background": "light"
          }
        }
      ]
    },
    {
      "cell_type": "markdown",
      "source": [
        "Descriminator loss decreased till 15th epoch and it starts increasing\n",
        "\n",
        "Generator loss increased till 15th epoch and it become constant\n",
        "\n",
        "Hence optimum number of epchoes is 15 without model over filtting"
      ],
      "metadata": {
        "id": "o7eelV8MSSDq"
      }
    },
    {
      "cell_type": "code",
      "source": [
        "#printing loss values\n",
        "print(g_losses[0])\n",
        "print(g_losses[-1])\n",
        "\n",
        "print(d_losses[0])\n",
        "print(d_losses[-1])"
      ],
      "metadata": {
        "id": "Q_zsMAP8QDLS",
        "colab": {
          "base_uri": "https://localhost:8080/"
        },
        "outputId": "75b7de6c-e192-4fc6-dc78-be08b926f6cd"
      },
      "execution_count": 67,
      "outputs": [
        {
          "output_type": "stream",
          "name": "stdout",
          "text": [
            "tensor(9.0487, device='cuda:0', requires_grad=True)\n",
            "tensor(5.3635, device='cuda:0', requires_grad=True)\n",
            "tensor(0.0994, device='cuda:0', requires_grad=True)\n",
            "tensor(0.1198, device='cuda:0', requires_grad=True)\n"
          ]
        }
      ]
    },
    {
      "cell_type": "code",
      "source": [
        "#ploting image\n",
        "print(type(images[-1]))\n",
        "print(images[-1].shape)\n",
        "plt.imshow(images[21].T)"
      ],
      "metadata": {
        "id": "b_6k4b2iQE7O",
        "colab": {
          "base_uri": "https://localhost:8080/",
          "height": 337
        },
        "outputId": "4b862c1a-ed98-4257-c4ef-d8edebe038cf"
      },
      "execution_count": 75,
      "outputs": [
        {
          "output_type": "stream",
          "name": "stderr",
          "text": [
            "Clipping input data to the valid range for imshow with RGB data ([0..1] for floats or [0..255] for integers).\n"
          ]
        },
        {
          "output_type": "stream",
          "name": "stdout",
          "text": [
            "<class 'torch.Tensor'>\n",
            "torch.Size([3, 64, 64])\n"
          ]
        },
        {
          "output_type": "execute_result",
          "data": {
            "text/plain": [
              "<matplotlib.image.AxesImage at 0x7fa70e3910d0>"
            ]
          },
          "metadata": {},
          "execution_count": 75
        },
        {
          "output_type": "display_data",
          "data": {
            "text/plain": [
              "<Figure size 432x288 with 1 Axes>"
            ],
            "image/png": "[encoded data removed]"
          },
          "metadata": {
            "needs_background": "light"
          }
        }
      ]
    },
    {
      "cell_type": "code",
      "source": [
        "# helper function for viewing a list of passed in sample images\n",
        "def view_samples(epoch, samples):\n",
        "    fig, axes = plt.subplots(figsize=(7,7), nrows=4, ncols=4, sharey=True, sharex=True)\n",
        "    for ax, img in zip(axes.flatten(), samples[epoch]):\n",
        "        img = img.detach()\n",
        "        ax.xaxis.set_visible(False)\n",
        "        ax.yaxis.set_visible(False)\n",
        "        im = ax.imshow(img.reshape((64,64)), cmap='Greys_r')"
      ],
      "metadata": {
        "id": "Bis5nHbyQH1F"
      },
      "execution_count": 69,
      "outputs": []
    },
    {
      "cell_type": "code",
      "source": [
        "# randomly generated, new latent vectors\n",
        "sample_size=16\n",
        "rand_z = noise(sample_size)\n",
        "# rand_z = rand_z.cpu().detach()\n",
        "\n",
        "generator.eval()# eval mode\n",
        "# generated samples\n",
        "rand_images = generator(rand_z)\n",
        "rand_images_T = rand_images.cpu().detach()\n",
        "print(type(rand_images_T))"
      ],
      "metadata": {
        "id": "77ToGD10QLY4",
        "colab": {
          "base_uri": "https://localhost:8080/"
        },
        "outputId": "25856629-e81d-447d-fae1-160b81785f77"
      },
      "execution_count": 70,
      "outputs": [
        {
          "output_type": "stream",
          "name": "stdout",
          "text": [
            "<class 'torch.Tensor'>\n"
          ]
        }
      ]
    },
    {
      "cell_type": "code",
      "source": [
        "view_samples(-1, [rand_images_T])"
      ],
      "metadata": {
        "id": "vL4l7VobQMhr",
        "colab": {
          "base_uri": "https://localhost:8080/",
          "height": 415
        },
        "outputId": "62a0ed45-3307-405e-bd29-c6d75bfd2236"
      },
      "execution_count": 71,
      "outputs": [
        {
          "output_type": "display_data",
          "data": {
            "text/plain": [
              "<Figure size 504x504 with 16 Axes>"
            ],
            "image/png": "[encoded data removed]"
          },
          "metadata": {
            "needs_background": "light"
          }
        }
      ]
    },
    {
      "cell_type": "markdown",
      "source": [
        "References:\n",
        "https://learnopencv.com/deep-convolutional-gan-in-pytorch-and-tensorflow/\n",
        "\n",
        "https://learnopencv.com/conditional-gan-cgan-in-pytorch-and-tensorflow/\n",
        "\n",
        "https://learnopencv.com/introduction-to-generative-adversarial-networks/\n",
        "\n",
        "https://github.com/safwankdb/Vanilla-GAN\n",
        "\n",
        "https://github.com/tooth2/Handwritten-digits-generation/blob/main/MNIST_GAN.ipynb"
      ],
      "metadata": {
        "id": "kLy9xIqaRHPU"
      }
    },
    {
      "cell_type": "code",
      "source": [
        ""
      ],
      "metadata": {
        "id": "11GJJSxBRJLE"
      },
      "execution_count": null,
      "outputs": []
    }
  ]
}