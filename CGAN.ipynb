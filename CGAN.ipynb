{
  "cells": [
    {
      "cell_type": "markdown",
      "metadata": {
        "id": "xWQmZpiVi1Kv"
      },
      "source": [
        "**Conditional GAN**"
      ]
    },
    {
      "cell_type": "code",
      "source": [
        "from google.colab import drive\n",
        "drive.mount('/content/gdrive', force_remount=False)"
      ],
      "metadata": {
        "colab": {
          "base_uri": "https://localhost:8080/"
        },
        "id": "1OygXD_kM3nh",
        "outputId": "cbb2acfd-051b-49f1-b341-5bf07bc0524a"
      },
      "execution_count": 4,
      "outputs": [
        {
          "output_type": "stream",
          "name": "stdout",
          "text": [
            "Mounted at /content/gdrive\n"
          ]
        }
      ]
    },
    {
      "cell_type": "code",
      "execution_count": 5,
      "metadata": {
        "id": "67_EtShYeprf"
      },
      "outputs": [],
      "source": [
        "import torch\n",
        "import torch.nn as nn\n",
        "import torch.optim as optim\n",
        "from torch.autograd.variable import Variable\n",
        "from torchvision import transforms\n",
        "from torchvision.datasets import MNIST\n",
        "from torchvision.utils import make_grid\n",
        "from torch.utils.data import DataLoader\n",
        "import imageio\n",
        "import numpy as np\n",
        "from matplotlib import pyplot as plt"
      ]
    },
    {
      "cell_type": "code",
      "execution_count": 6,
      "metadata": {
        "colab": {
          "base_uri": "https://localhost:8080/"
        },
        "id": "TCHYCPd7e8wT",
        "outputId": "eb1a0a21-6cd5-411e-dbd2-82527044e81d"
      },
      "outputs": [
        {
          "output_type": "stream",
          "name": "stdout",
          "text": [
            "cpu\n"
          ]
        }
      ],
      "source": [
        "device = torch.device('cuda' if torch.cuda.is_available() else 'cpu')\n",
        "print(device)"
      ]
    },
    {
      "cell_type": "code",
      "execution_count": 7,
      "metadata": {
        "colab": {
          "base_uri": "https://localhost:8080/"
        },
        "id": "Jgd4epBRrx2u",
        "outputId": "84afb4ef-861f-4e9f-c4cf-12196605f784"
      },
      "outputs": [
        {
          "output_type": "execute_result",
          "data": {
            "text/plain": [
              "<torch._C.Generator at 0x7fb0e0990570>"
            ]
          },
          "metadata": {},
          "execution_count": 7
        }
      ],
      "source": [
        "torch.manual_seed(1)"
      ]
    },
    {
      "cell_type": "code",
      "execution_count": 8,
      "metadata": {
        "id": "bvIPPULTi3AH",
        "colab": {
          "base_uri": "https://localhost:8080/",
          "height": 423,
          "referenced_widgets": [
            "d60f678c6ce64568a1d314e90f1c3530",
            "92b6d5a92d874241ae18f8022f1593d0",
            "fdfaabd506654b489575f2953f7717b8",
            "8c96748271564f729b539a45161e74ef",
            "c66a0afaa00241858ff624c20ed0069f",
            "33def506276a4b14bdfa84009b785973",
            "f77829bda4ea49eebffe662d5a35650c",
            "f54f4afef8bb4ad7bbf1dd469d7f0db3",
            "34b2525ee1054692802a37b4259fabee",
            "2ba7b7794def4389951c0c7210e852d6",
            "7c0441153c094d9092a130dbfbb5beb9",
            "a8e81a7876fa4032831169b105efee74",
            "3e19785860464393919f1cca1eee0f32",
            "5c5c2c8f5eb54f29ae08919c5a81c6e3",
            "3e9b1c76f561432bbe994e1887030698",
            "21c319a4a22d48039c5fdb3109baccb5",
            "bcbeefb4a58f4e3bb39c4e5429922712",
            "326de8965f75498885b2c0fd2c107a30",
            "f32618a8d3c14193b5079a73c77650fe",
            "dcb844859c0e41d2bb29e3732d951c78",
            "9eaf42020f7d4d708aa071c625d2ee8c",
            "c452c62918c84e9dbe3b27fc1300f2d4",
            "b426723843da4ce3b43649712cad791d",
            "a781040e22ec4cb5b92e57f3013f5772",
            "656a4e7240794d369a0a9d1b69154aac",
            "4311565af3fc42a3a108dc63dac556f0",
            "ff54a8bac31c4f0085203953a4156409",
            "d3c67461c73c4b58a6af42f3414e8e1c",
            "36defe1ebd444b4e8f1e3f1fd1ba9282",
            "8340b1e450054a388378708f2b378d10",
            "4a041f81a2a5449ab337136633e09f75",
            "663600a144e64ce59e222820a4fdfec8",
            "4f733a2c7e9042fea66605331b137292",
            "21bc071435ff415a99b56c12054ba906",
            "adc738f5fcf94d21bd8870ed7f237dd1",
            "c1ce8febce1646088f02637d9b3f8aaf",
            "5c9e8ec089ba4b51a384ccf485427867",
            "3bf670bab71f40deb985752cde9277eb",
            "22386a72d41747d588ddfd8de4be74e4",
            "d4d34a26749a4d4d93d0b1ab4753bdb9",
            "af4a6d299105494d9cf6621c75d31c21",
            "4379f180be394173853d99fcf8c0871e",
            "a6a134da641741539bd0ca8bd151e465",
            "fdbf7ef97906407dabd7c79bda36fea7"
          ]
        },
        "outputId": "0117019b-b968-4362-ccf4-2eb9b5e821f1"
      },
      "outputs": [
        {
          "output_type": "stream",
          "name": "stdout",
          "text": [
            "Downloading http://yann.lecun.com/exdb/mnist/train-images-idx3-ubyte.gz\n",
            "Downloading http://yann.lecun.com/exdb/mnist/train-images-idx3-ubyte.gz to ./data/MNIST/raw/train-images-idx3-ubyte.gz\n"
          ]
        },
        {
          "output_type": "display_data",
          "data": {
            "text/plain": [
              "  0%|          | 0/9912422 [00:00<?, ?it/s]"
            ],
            "application/vnd.jupyter.widget-view+json": {
              "version_major": 2,
              "version_minor": 0,
              "model_id": "d60f678c6ce64568a1d314e90f1c3530"
            }
          },
          "metadata": {}
        },
        {
          "output_type": "stream",
          "name": "stdout",
          "text": [
            "Extracting ./data/MNIST/raw/train-images-idx3-ubyte.gz to ./data/MNIST/raw\n",
            "\n",
            "Downloading http://yann.lecun.com/exdb/mnist/train-labels-idx1-ubyte.gz\n",
            "Downloading http://yann.lecun.com/exdb/mnist/train-labels-idx1-ubyte.gz to ./data/MNIST/raw/train-labels-idx1-ubyte.gz\n"
          ]
        },
        {
          "output_type": "display_data",
          "data": {
            "text/plain": [
              "  0%|          | 0/28881 [00:00<?, ?it/s]"
            ],
            "application/vnd.jupyter.widget-view+json": {
              "version_major": 2,
              "version_minor": 0,
              "model_id": "a8e81a7876fa4032831169b105efee74"
            }
          },
          "metadata": {}
        },
        {
          "output_type": "stream",
          "name": "stdout",
          "text": [
            "Extracting ./data/MNIST/raw/train-labels-idx1-ubyte.gz to ./data/MNIST/raw\n",
            "\n",
            "Downloading http://yann.lecun.com/exdb/mnist/t10k-images-idx3-ubyte.gz\n",
            "Downloading http://yann.lecun.com/exdb/mnist/t10k-images-idx3-ubyte.gz to ./data/MNIST/raw/t10k-images-idx3-ubyte.gz\n"
          ]
        },
        {
          "output_type": "display_data",
          "data": {
            "text/plain": [
              "  0%|          | 0/1648877 [00:00<?, ?it/s]"
            ],
            "application/vnd.jupyter.widget-view+json": {
              "version_major": 2,
              "version_minor": 0,
              "model_id": "b426723843da4ce3b43649712cad791d"
            }
          },
          "metadata": {}
        },
        {
          "output_type": "stream",
          "name": "stdout",
          "text": [
            "Extracting ./data/MNIST/raw/t10k-images-idx3-ubyte.gz to ./data/MNIST/raw\n",
            "\n",
            "Downloading http://yann.lecun.com/exdb/mnist/t10k-labels-idx1-ubyte.gz\n",
            "Downloading http://yann.lecun.com/exdb/mnist/t10k-labels-idx1-ubyte.gz to ./data/MNIST/raw/t10k-labels-idx1-ubyte.gz\n"
          ]
        },
        {
          "output_type": "display_data",
          "data": {
            "text/plain": [
              "  0%|          | 0/4542 [00:00<?, ?it/s]"
            ],
            "application/vnd.jupyter.widget-view+json": {
              "version_major": 2,
              "version_minor": 0,
              "model_id": "21bc071435ff415a99b56c12054ba906"
            }
          },
          "metadata": {}
        },
        {
          "output_type": "stream",
          "name": "stdout",
          "text": [
            "Extracting ./data/MNIST/raw/t10k-labels-idx1-ubyte.gz to ./data/MNIST/raw\n",
            "\n"
          ]
        }
      ],
      "source": [
        "transform = transforms.Compose([\n",
        "                transforms.Resize((128, 128)),\n",
        "                transforms.ToTensor(),\n",
        "                transforms.Normalize((0.5),(0.5))\n",
        "                ])\n",
        "to_image = transforms.ToPILImage()\n",
        "trainset = MNIST(root='./data/', train=True, download=True, transform=transform)\n",
        "trainloader = DataLoader(trainset, batch_size=100, shuffle=True)\n"
      ]
    },
    {
      "cell_type": "code",
      "execution_count": 9,
      "metadata": {
        "id": "R81P9SQcQ_pU"
      },
      "outputs": [],
      "source": [
        "import matplotlib.pyplot as plt\n",
        "def show_images(images):\n",
        "    fig, ax = plt.subplots(figsize=(20, 20))\n",
        "    ax.set_xticks([]); ax.set_yticks([])\n",
        "    ax.imshow(make_grid(images.detach(), nrow=22).permute(1, 2, 0))\n",
        "\n",
        "def show_batch(dl):\n",
        "    for images, _ in dl:\n",
        "        show_images(images)\n",
        "        break"
      ]
    },
    {
      "cell_type": "code",
      "execution_count": 10,
      "metadata": {
        "colab": {
          "base_uri": "https://localhost:8080/",
          "height": 306
        },
        "id": "5rGjVFByRDG0",
        "outputId": "03b58167-d2b1-4f6c-d4b5-ee5382382466"
      },
      "outputs": [
        {
          "output_type": "stream",
          "name": "stderr",
          "text": [
            "Clipping input data to the valid range for imshow with RGB data ([0..1] for floats or [0..255] for integers).\n"
          ]
        },
        {
          "output_type": "display_data",
          "data": {
            "text/plain": [
              "<Figure size 1440x1440 with 1 Axes>"
            ],
            "image/png": "[encoded data removed]"
          },
          "metadata": {}
        }
      ],
      "source": [
        "show_batch(trainloader)"
      ]
    },
    {
      "cell_type": "code",
      "execution_count": 11,
      "metadata": {
        "id": "45Ci-ip0kKdT"
      },
      "outputs": [],
      "source": [
        "import numpy as np\n",
        "latent_dim = 128\n",
        "n_classes = 10\n",
        "embedding_dim = 100\n",
        "image_shape = (1, 128, 128)\n",
        "image_dim = int(np.prod(image_shape))\n"
      ]
    },
    {
      "cell_type": "code",
      "execution_count": 12,
      "metadata": {
        "id": "bFdsDz18kOJy"
      },
      "outputs": [],
      "source": [
        "# custom weights initialization called on generator and discriminator\n",
        "def weights_init(m):\n",
        "    classname = m.__class__.__name__\n",
        "    if classname.find('Conv') != -1:\n",
        "        torch.nn.init.normal_(m.weight, 0.0, 0.02)\n",
        "    elif classname.find('BatchNorm') != -1:\n",
        "        torch.nn.init.normal_(m.weight, 1.0, 0.02)\n",
        "        torch.nn.init.zeros_(m.bias)"
      ]
    },
    {
      "cell_type": "code",
      "execution_count": 13,
      "metadata": {
        "colab": {
          "base_uri": "https://localhost:8080/"
        },
        "id": "NJp0xTSsjvzn",
        "outputId": "42062f8a-8f59-4661-b7cf-132f626d32c7"
      },
      "outputs": [
        {
          "output_type": "stream",
          "name": "stdout",
          "text": [
            "Generator(\n",
            "  (label_conditioned_generator): Sequential(\n",
            "    (0): Embedding(10, 100)\n",
            "    (1): Linear(in_features=100, out_features=16, bias=True)\n",
            "  )\n",
            "  (latent): Sequential(\n",
            "    (0): Linear(in_features=128, out_features=8192, bias=True)\n",
            "    (1): LeakyReLU(negative_slope=0.2, inplace=True)\n",
            "  )\n",
            "  (model): Sequential(\n",
            "    (0): ConvTranspose2d(513, 512, kernel_size=(4, 4), stride=(2, 2), padding=(1, 1), bias=False)\n",
            "    (1): BatchNorm2d(512, eps=0.8, momentum=0.1, affine=True, track_running_stats=True)\n",
            "    (2): ReLU(inplace=True)\n",
            "    (3): ConvTranspose2d(512, 256, kernel_size=(4, 4), stride=(2, 2), padding=(1, 1), bias=False)\n",
            "    (4): BatchNorm2d(256, eps=0.8, momentum=0.1, affine=True, track_running_stats=True)\n",
            "    (5): ReLU(inplace=True)\n",
            "    (6): ConvTranspose2d(256, 128, kernel_size=(4, 4), stride=(2, 2), padding=(1, 1), bias=False)\n",
            "    (7): BatchNorm2d(128, eps=0.8, momentum=0.1, affine=True, track_running_stats=True)\n",
            "    (8): ReLU(inplace=True)\n",
            "    (9): ConvTranspose2d(128, 64, kernel_size=(4, 4), stride=(2, 2), padding=(1, 1), bias=False)\n",
            "    (10): BatchNorm2d(64, eps=0.8, momentum=0.1, affine=True, track_running_stats=True)\n",
            "    (11): ReLU(inplace=True)\n",
            "    (12): ConvTranspose2d(64, 1, kernel_size=(4, 4), stride=(2, 2), padding=(1, 1), bias=False)\n",
            "    (13): Tanh()\n",
            "  )\n",
            ")\n"
          ]
        },
        {
          "output_type": "execute_result",
          "data": {
            "text/plain": [
              "torch.Size([100, 1, 128, 128])"
            ]
          },
          "metadata": {},
          "execution_count": 13
        }
      ],
      "source": [
        "class Generator(nn.Module):\n",
        "    def __init__(self):\n",
        "        super(Generator, self).__init__()\n",
        "        \n",
        "     \n",
        "        self.label_conditioned_generator = nn.Sequential(nn.Embedding(n_classes, embedding_dim),\n",
        "                      nn.Linear(embedding_dim, 16))\n",
        "        \n",
        "    \n",
        "        self.latent = nn.Sequential(nn.Linear(latent_dim, 4*4*512),\n",
        "                                   nn.LeakyReLU(0.2, inplace=True))\n",
        "           \n",
        "\n",
        "        self.model = nn.Sequential(nn.ConvTranspose2d(513, 64*8, 4, 2, 1, bias=False),\n",
        "                      nn.BatchNorm2d(64*8, momentum=0.1,  eps=0.8),\n",
        "                      nn.ReLU(True),\n",
        "                      nn.ConvTranspose2d(64*8, 64*4, 4, 2, 1,bias=False),\n",
        "                      nn.BatchNorm2d(64*4, momentum=0.1,  eps=0.8),\n",
        "                      nn.ReLU(True), \n",
        "                      nn.ConvTranspose2d(64*4, 64*2, 4, 2, 1,bias=False),\n",
        "                      nn.BatchNorm2d(64*2, momentum=0.1,  eps=0.8),\n",
        "                      nn.ReLU(True), \n",
        "                      nn.ConvTranspose2d(64*2, 64*1, 4, 2, 1,bias=False),\n",
        "                      nn.BatchNorm2d(64*1, momentum=0.1,  eps=0.8),\n",
        "                      nn.ReLU(True), \n",
        "                      nn.ConvTranspose2d(64*1, 1, 4, 2, 1, bias=False),\n",
        "                      nn.Tanh())\n",
        "\n",
        "    def forward(self, imgs, labels):\n",
        "        noise_vector, label = imgs, labels\n",
        "        label_output = self.label_conditioned_generator(label)\n",
        "        label_output = label_output.view(-1, 1, 4, 4)\n",
        "        latent_output = self.latent(noise_vector)\n",
        "        latent_output = latent_output.view(-1, 512,4,4)\n",
        "        concat = torch.cat((latent_output, label_output), dim=1)\n",
        "        image = self.model(concat)\n",
        "        #print(image.size())\n",
        "        return image\n",
        "\n",
        "generator = Generator().to(device)\n",
        "generator.apply(weights_init)\n",
        "print(generator)\n",
        "\n",
        "a = torch.ones(100,128)\n",
        "b = torch.ones(100) #1*128 128*8192\n",
        "b = b.long()\n",
        "a = a.to(device)\n",
        "b = b.to(device)\n",
        "c=generator(a,b)\n",
        "c.size()"
      ]
    },
    {
      "cell_type": "code",
      "execution_count": 14,
      "metadata": {
        "colab": {
          "base_uri": "https://localhost:8080/"
        },
        "id": "M36soaWUyLF3",
        "outputId": "a2346807-e575-45fc-d191-bd2d41e5adb1"
      },
      "outputs": [
        {
          "output_type": "stream",
          "name": "stdout",
          "text": [
            "Discriminator(\n",
            "  (label_condition_disc): Sequential(\n",
            "    (0): Embedding(10, 100)\n",
            "    (1): Linear(in_features=100, out_features=16384, bias=True)\n",
            "  )\n",
            "  (model): Sequential(\n",
            "    (0): Conv2d(2, 64, kernel_size=(4, 4), stride=(2, 2), padding=(1, 1), bias=False)\n",
            "    (1): LeakyReLU(negative_slope=0.2, inplace=True)\n",
            "    (2): Conv2d(64, 128, kernel_size=(4, 4), stride=(3, 3), padding=(2, 2), bias=False)\n",
            "    (3): BatchNorm2d(128, eps=0.8, momentum=0.1, affine=True, track_running_stats=True)\n",
            "    (4): LeakyReLU(negative_slope=0.2, inplace=True)\n",
            "    (5): Conv2d(128, 256, kernel_size=(4, 4), stride=(3, 3), padding=(2, 2), bias=False)\n",
            "    (6): BatchNorm2d(256, eps=0.8, momentum=0.1, affine=True, track_running_stats=True)\n",
            "    (7): LeakyReLU(negative_slope=0.2, inplace=True)\n",
            "    (8): Conv2d(256, 512, kernel_size=(4, 4), stride=(3, 3), padding=(2, 2), bias=False)\n",
            "    (9): BatchNorm2d(512, eps=0.8, momentum=0.1, affine=True, track_running_stats=True)\n",
            "    (10): LeakyReLU(negative_slope=0.2, inplace=True)\n",
            "    (11): Flatten(start_dim=1, end_dim=-1)\n",
            "    (12): Dropout(p=0.4, inplace=False)\n",
            "    (13): Linear(in_features=4608, out_features=1, bias=True)\n",
            "    (14): Sigmoid()\n",
            "  )\n",
            ")\n"
          ]
        },
        {
          "output_type": "execute_result",
          "data": {
            "text/plain": [
              "torch.Size([2, 1])"
            ]
          },
          "metadata": {},
          "execution_count": 14
        }
      ],
      "source": [
        "class Discriminator(nn.Module):\n",
        "    def __init__(self):\n",
        "        super(Discriminator, self).__init__()\n",
        "        \n",
        "    \n",
        "        self.label_condition_disc = nn.Sequential(nn.Embedding(n_classes, embedding_dim),\n",
        "                      nn.Linear(embedding_dim, 1*128*128))\n",
        "             \n",
        "        self.model = nn.Sequential(nn.Conv2d(2, 64, 4, 2, 1, bias=False),\n",
        "                      nn.LeakyReLU(0.2, inplace=True),\n",
        "                      nn.Conv2d(64, 64*2, 4, 3, 2, bias=False),\n",
        "                      nn.BatchNorm2d(64*2, momentum=0.1,  eps=0.8),\n",
        "                      nn.LeakyReLU(0.2, inplace=True),\n",
        "                      nn.Conv2d(64*2, 64*4, 4, 3,2, bias=False),\n",
        "                      nn.BatchNorm2d(64*4, momentum=0.1,  eps=0.8),\n",
        "                      nn.LeakyReLU(0.2, inplace=True),\n",
        "                      nn.Conv2d(64*4, 64*8, 4, 3, 2, bias=False),\n",
        "                      nn.BatchNorm2d(64*8, momentum=0.1,  eps=0.8),\n",
        "                      nn.LeakyReLU(0.2, inplace=True), \n",
        "                      nn.Flatten(),\n",
        "                      nn.Dropout(0.4),\n",
        "                      nn.Linear(4608, 1),\n",
        "                      nn.Sigmoid()\n",
        "                     )\n",
        "    \n",
        "    def forward(self, imgs, labels):\n",
        "        img, label = imgs, labels\n",
        "        label_output = self.label_condition_disc(label)\n",
        "        label_output = label_output.view(-1, 1, 128, 128)\n",
        "        concat = torch.cat((img, label_output), dim=1)\n",
        "        #print(concat.size())\n",
        "        output = self.model(concat)\n",
        "        return output\n",
        "\n",
        "discriminator = Discriminator().to(device)\n",
        "discriminator.apply(weights_init)\n",
        "print(discriminator)\n",
        "\n",
        "a = torch.ones(2,1,128,128)\n",
        "b = torch.ones(2,1)\n",
        "b = b.long()\n",
        "a = a.to(device)\n",
        "b = b.to(device)\n",
        "c = discriminator(a,b)\n",
        "c.size()"
      ]
    },
    {
      "cell_type": "code",
      "execution_count": 15,
      "metadata": {
        "id": "o8YjLXjiBHlI"
      },
      "outputs": [],
      "source": [
        "g_optim = optim.Adam(generator.parameters(), lr=2e-4)\n",
        "d_optim = optim.Adam(discriminator.parameters(), lr=2e-4)\n",
        "\n",
        "g_losses = []\n",
        "d_losses = []\n",
        "images = []\n",
        "\n",
        "criterion = nn.BCELoss()\n",
        "\n",
        "def noise(n, latent_dim=128):\n",
        "    return Variable(torch.randn(n, latent_dim)).to(device)\n",
        "\n",
        "def make_ones(size):\n",
        "    data = Variable(torch.ones(size, 1))\n",
        "    return data.to(device)\n",
        "\n",
        "def make_zeros(size):\n",
        "    data = Variable(torch.zeros(size, 1))\n",
        "    return data.to(device)"
      ]
    },
    {
      "cell_type": "code",
      "execution_count": 16,
      "metadata": {
        "id": "fNGjxdZXBSYi"
      },
      "outputs": [],
      "source": [
        "def train_discriminator(optimizer, real_data, labels, fake_data):\n",
        "    n = real_data.size(0)\n",
        "\n",
        "    optimizer.zero_grad()\n",
        "    \n",
        "    prediction_real = discriminator(real_data, labels)\n",
        "    error_real = criterion(prediction_real, make_ones(n))\n",
        "    error_real.backward()\n",
        "\n",
        "    prediction_fake = discriminator(fake_data,labels)\n",
        "    error_fake = criterion(prediction_fake, make_zeros(n))\n",
        "    \n",
        "    error_fake.backward()\n",
        "    optimizer.step()\n",
        "    \n",
        "    return error_real + error_fake\n",
        "\n",
        "def train_generator(optimizer, labels, fake_data):\n",
        "    n = fake_data.size(0)\n",
        "    optimizer.zero_grad()\n",
        "    \n",
        "    prediction = discriminator(fake_data, labels)\n",
        "    error = criterion(prediction, make_ones(n))\n",
        "    \n",
        "    error.backward()\n",
        "    optimizer.step()\n",
        "    \n",
        "    return error"
      ]
    },
    {
      "cell_type": "code",
      "execution_count": null,
      "metadata": {
        "colab": {
          "base_uri": "https://localhost:8080/"
        },
        "id": "vOttcQjkBSyH",
        "outputId": "c43c4367-ecf2-4cd3-d24f-14ecc6d7f18d"
      },
      "outputs": [
        {
          "output_type": "stream",
          "name": "stdout",
          "text": [
            "Epoch 0: g_loss: 5.30047607 d_loss: 0.23909447\n",
            "Epoch 1: g_loss: 3.45165038 d_loss: 0.47635075\n",
            "Epoch 2: g_loss: 3.23940587 d_loss: 0.54452598\n",
            "Epoch 3: g_loss: 2.69065237 d_loss: 0.78836745\n",
            "Epoch 4: g_loss: 2.96440363 d_loss: 0.70366150\n",
            "Epoch 5: g_loss: 2.55669427 d_loss: 0.89576489\n",
            "Epoch 6: g_loss: 3.19746065 d_loss: 0.57356185\n",
            "Epoch 7: g_loss: 2.94065475 d_loss: 0.64271426\n",
            "Epoch 8: g_loss: 3.16379547 d_loss: 0.59507293\n",
            "Epoch 9: g_loss: 3.19329762 d_loss: 0.61400539\n",
            "Epoch 10: g_loss: 3.44486761 d_loss: 0.49258900\n",
            "Epoch 11: g_loss: 3.51329160 d_loss: 0.53871912\n",
            "Epoch 12: g_loss: 3.67040300 d_loss: 0.44987994\n",
            "Epoch 13: g_loss: 4.05707693 d_loss: 0.34448981\n",
            "Epoch 14: g_loss: 4.60502005 d_loss: 0.29778311\n",
            "Epoch 15: g_loss: 4.38902998 d_loss: 0.29840985\n",
            "Epoch 16: g_loss: 5.07968569 d_loss: 0.24092121\n",
            "Epoch 17: g_loss: 5.11813021 d_loss: 0.23036578\n",
            "Epoch 18: g_loss: 5.68930054 d_loss: 0.24449438\n",
            "Epoch 19: g_loss: 5.32327414 d_loss: 0.19765900\n"
          ]
        }
      ],
      "source": [
        "num_epochs = 50\n",
        "k = 1\n",
        "test_noise = noise(100)\n",
        "\n",
        "generator.train()\n",
        "discriminator.train()\n",
        "for epoch in range(num_epochs):\n",
        "    g_error = 0.0\n",
        "    d_error = 0.0\n",
        "    for i, data in enumerate(trainloader):\n",
        "        imgs, labels = data\n",
        "        labels = labels.to(device)\n",
        "        # labels = labels.unsqueeze(1).long()\n",
        "        \n",
        "        n = len(imgs)\n",
        "        for j in range(k):\n",
        "            fake_data = generator(noise(100),labels).detach()\n",
        "            real_data = imgs.to(device)\n",
        "            d_error += train_discriminator(d_optim, real_data, labels, fake_data)\n",
        "        fake_data = generator(noise(100), labels)\n",
        "        g_error += train_generator(g_optim, labels,fake_data)\n",
        "\n",
        "    img = generator(test_noise, labels).cpu().detach()\n",
        "    img = make_grid(img)\n",
        "    images.append(img)\n",
        "    g_losses.append(g_error/i)\n",
        "    d_losses.append(d_error/i)\n",
        "    print('Epoch {}: g_loss: {:.8f} d_loss: {:.8f}\\r'.format(epoch, g_error/i, d_error/i))\n",
        "\n",
        "    torch.save({\n",
        "    'epochs': epoch,\n",
        "    'generator_model_state_dict': generator.state_dict(),\n",
        "    'discriminator_model_state_dict': discriminator.state_dict(),\n",
        "    'g_loss': g_losses,\n",
        "    'd_loss': d_losses,\n",
        "    'imgs':images\n",
        "}, '/content/gdrive/MyDrive/Colab Notebooks/CGAN_model_'+str(epoch)+'.pt')\n",
        "    \n",
        "print('Training Finished')\n",
        "# torch.save(generator.state_dict(), 'mnist_generatorCGAN.pth')\n",
        "\n"
      ]
    },
    {
      "cell_type": "code",
      "source": [
        "num_epochs = 50\n",
        "k = 1\n",
        "test_noise = noise(100)\n",
        "\n",
        "generator.train()\n",
        "discriminator.train()\n",
        "for epoch in range(20,num_epochs):\n",
        "    g_error = 0.0\n",
        "    d_error = 0.0\n",
        "    for i, data in enumerate(trainloader):\n",
        "        imgs, labels = data\n",
        "        labels = labels.to(device)\n",
        "        # labels = labels.unsqueeze(1).long()\n",
        "        \n",
        "        n = len(imgs)\n",
        "        for j in range(k):\n",
        "            fake_data = generator(noise(100),labels).detach()\n",
        "            real_data = imgs.to(device)\n",
        "            d_error += train_discriminator(d_optim, real_data, labels, fake_data)\n",
        "        fake_data = generator(noise(100), labels)\n",
        "        g_error += train_generator(g_optim, labels,fake_data)\n",
        "\n",
        "    img = generator(test_noise, labels).cpu().detach()\n",
        "    img = make_grid(img)\n",
        "    images.append(img)\n",
        "    g_losses.append(g_error/i)\n",
        "    d_losses.append(d_error/i)\n",
        "    print('Epoch {}: g_loss: {:.8f} d_loss: {:.8f}\\r'.format(epoch, g_error/i, d_error/i))\n",
        "\n",
        "    torch.save({\n",
        "    'epochs': epoch,\n",
        "    'generator_model_state_dict': generator.state_dict(),\n",
        "    'discriminator_model_state_dict': discriminator.state_dict(),\n",
        "    'g_loss': g_losses,\n",
        "    'd_loss': d_losses,\n",
        "    'imgs':images\n",
        "}, '/content/gdrive/MyDrive/Colab Notebooks/CGAN_model_'+str(epoch)+'.pt')\n",
        "    \n",
        "print('Training Finished')\n",
        "# torch.save(generator.state_dict(), 'mnist_generatorCGAN.pth')\n",
        "\n"
      ],
      "metadata": {
        "id": "AAJLMYyejFlf"
      },
      "execution_count": null,
      "outputs": []
    },
    {
      "cell_type": "code",
      "source": [
        "generator = Generator().to(device)\n",
        "discriminator = Discriminator().to(device)\n",
        "\n",
        "checkpoint = torch.load('/content/gdrive/MyDrive/Colab Notebooks/CGAN_model_19.pt', map_location=torch.device('cpu'))\n",
        "generator.load_state_dict(checkpoint['generator_model_state_dict'])\n",
        "discriminator.load_state_dict(checkpoint['discriminator_model_state_dict'])\n",
        "\n",
        "g_losses = checkpoint['g_loss']\n",
        "d_losses = checkpoint['d_loss']\n",
        "\n",
        "images = checkpoint['imgs']"
      ],
      "metadata": {
        "id": "2O6KErKtCOe6"
      },
      "execution_count": 35,
      "outputs": []
    },
    {
      "cell_type": "code",
      "source": [
        "# print(generator.state_dict())\n",
        "# print(discriminator.state_dict())"
      ],
      "metadata": {
        "id": "C9zwuZl5yiin"
      },
      "execution_count": 21,
      "outputs": []
    },
    {
      "cell_type": "code",
      "source": [
        "#saving progress image\n",
        "import numpy as np\n",
        "from matplotlib import pyplot as plt\n",
        "imgs = [np.array(to_image(i)) for i in images]\n",
        "imageio.mimsave('progressCGAN.gif', imgs)"
      ],
      "metadata": {
        "id": "17_DfTsQylW5"
      },
      "execution_count": 25,
      "outputs": []
    },
    {
      "cell_type": "code",
      "source": [
        "#converting to tensor\n",
        "print(type(g_losses))\n",
        "g_losses_T = torch.tensor(g_losses)\n",
        "print(type(g_losses_T))\n",
        "\n",
        "print(type(d_losses))\n",
        "d_losses_T = torch.tensor(d_losses)\n",
        "print(type(d_losses_T))"
      ],
      "metadata": {
        "colab": {
          "base_uri": "https://localhost:8080/"
        },
        "id": "cvO1bGe8yzri",
        "outputId": "dcdb9f55-5ede-4ca2-bfae-29cf6fa66308"
      },
      "execution_count": 26,
      "outputs": [
        {
          "output_type": "stream",
          "name": "stdout",
          "text": [
            "<class 'list'>\n",
            "<class 'torch.Tensor'>\n",
            "<class 'list'>\n",
            "<class 'torch.Tensor'>\n"
          ]
        }
      ]
    },
    {
      "cell_type": "code",
      "source": [
        "#plotting loss\n",
        "plt.plot(g_losses_T, label='Generator_Losses')\n",
        "plt.plot(d_losses_T, label='Discriminator Losses')\n",
        "plt.legend()\n",
        "plt.savefig('lossCGAN.png')"
      ],
      "metadata": {
        "colab": {
          "base_uri": "https://localhost:8080/",
          "height": 265
        },
        "id": "jYcXAAn1zMJi",
        "outputId": "8f2929a9-dbd1-4ef1-abc1-ae1880324d3e"
      },
      "execution_count": 28,
      "outputs": [
        {
          "output_type": "display_data",
          "data": {
            "text/plain": [
              "<Figure size 432x288 with 1 Axes>"
            ],
            "image/png": "[encoded data removed]"
          },
          "metadata": {
            "needs_background": "light"
          }
        }
      ]
    },
    {
      "cell_type": "code",
      "source": [
        "#printing loss values\n",
        "print(g_losses[0])\n",
        "print(g_losses[-1])\n",
        "\n",
        "print(d_losses[0])\n",
        "print(d_losses[-1])"
      ],
      "metadata": {
        "colab": {
          "base_uri": "https://localhost:8080/"
        },
        "id": "65L4iMFKzSuL",
        "outputId": "a3241f25-2082-4f9e-a6ee-151aa027156f"
      },
      "execution_count": 29,
      "outputs": [
        {
          "output_type": "stream",
          "name": "stdout",
          "text": [
            "tensor(5.3005, requires_grad=True)\n",
            "tensor(5.3233, requires_grad=True)\n",
            "tensor(0.2391, requires_grad=True)\n",
            "tensor(0.1977, requires_grad=True)\n"
          ]
        }
      ]
    },
    {
      "cell_type": "code",
      "execution_count": 30,
      "metadata": {
        "id": "jwyG16a51RgS"
      },
      "outputs": [],
      "source": [
        "#torch.Size([100, 1, 128, 128]) torch.Size([100])"
      ]
    },
    {
      "cell_type": "code",
      "source": [
        "# example of interpolating between generated faces\n",
        "from numpy import asarray\n",
        "from numpy.random import randn\n",
        "from numpy.random import randint\n",
        "from numpy import linspace\n",
        "from matplotlib import pyplot\n",
        "from matplotlib import gridspec\n",
        "\n",
        "def dupnoise(n, n_features=128):\n",
        "    return Variable(torch.randn(n, n_features)).to(device)\n",
        "    \n",
        "# randomly generated, new latent vectors\n",
        "sample_size=100\n",
        "rand_z = dupnoise(sample_size)\n",
        "generator.eval()# eval mode\n",
        "# print(rand_z.size())\n",
        "\n",
        "# a = torch.ones(100,128)\n",
        "# b = torch.ones(100) #1*128 128*8192\n",
        "\n",
        "output = None\n",
        "for label in range(10):\n",
        "    labels = torch.ones(100) * label\n",
        "    labels = labels.to(device)\n",
        "    labels = labels.unsqueeze(1).long()\n",
        "    # print(labels.size())\n",
        "    predictions = generator(rand_z, labels)\n",
        "    predictions = predictions.permute(0,2,3,1)\n",
        "    pred = predictions.detach().cpu()\n",
        "    if output is None:\n",
        "        output = pred\n",
        "    else:\n",
        "        output = np.concatenate((output,pred))"
      ],
      "metadata": {
        "id": "UIaAj7YE08wG"
      },
      "execution_count": 31,
      "outputs": []
    },
    {
      "cell_type": "code",
      "source": [
        "print(output.shape)"
      ],
      "metadata": {
        "colab": {
          "base_uri": "https://localhost:8080/"
        },
        "id": "KQW4hlrc_xER",
        "outputId": "bfa2d1b5-0b98-4a43-c88d-55698e124080"
      },
      "execution_count": 32,
      "outputs": [
        {
          "output_type": "stream",
          "name": "stdout",
          "text": [
            "(1000, 128, 128, 1)\n"
          ]
        }
      ]
    },
    {
      "cell_type": "code",
      "source": [
        "# helper function for viewing a list of passed in sample images\n",
        "def view_samples(samples):\n",
        "    fig, axes = plt.subplots(figsize=(7,7), nrows=4, ncols=4, sharey=True, sharex=True)\n",
        "    for ax, img in zip(axes.flatten(), samples):\n",
        "        # img = img.detach()\n",
        "        ax.xaxis.set_visible(False)\n",
        "        ax.yaxis.set_visible(False)\n",
        "        im = ax.imshow(img.reshape((128,128)), cmap='Greys_r')"
      ],
      "metadata": {
        "id": "ZWG9razvBvCS"
      },
      "execution_count": 33,
      "outputs": []
    },
    {
      "cell_type": "code",
      "source": [
        "view_samples(output)"
      ],
      "metadata": {
        "colab": {
          "base_uri": "https://localhost:8080/",
          "height": 415
        },
        "id": "AuadMZJxBf7f",
        "outputId": "c107fdf3-504d-40bb-de49-48b92f714480"
      },
      "execution_count": 34,
      "outputs": [
        {
          "output_type": "display_data",
          "data": {
            "text/plain": [
              "<Figure size 504x504 with 16 Axes>"
            ],
            "image/png": "[encoded data removed]"
          },
          "metadata": {
            "needs_background": "light"
          }
        }
      ]
    },
    {
      "cell_type": "code",
      "source": [
        ""
      ],
      "metadata": {
        "id": "2nnOUir4DTvR"
      },
      "execution_count": null,
      "outputs": []
    }
  ],
  "metadata": {
    "accelerator": "GPU",
    "colab": {
      "collapsed_sections": [],
      "name": "CGAN.ipynb",
      "provenance": []
    },
    "kernelspec": {
      "display_name": "Python 3",
      "name": "python3"
    },
    "language_info": {
      "name": "python"
    },
    "widgets": {
      "application/vnd.jupyter.widget-state+json": {
        "d60f678c6ce64568a1d314e90f1c3530": {
          "model_module": "@jupyter-widgets/controls",
          "model_name": "HBoxModel",
          "model_module_version": "1.5.0",
          "state": {
            "_dom_classes": [],
            "_model_module": "@jupyter-widgets/controls",
            "_model_module_version": "1.5.0",
            "_model_name": "HBoxModel",
            "_view_count": null,
            "_view_module": "@jupyter-widgets/controls",
            "_view_module_version": "1.5.0",
            "_view_name": "HBoxView",
            "box_style": "",
            "children": [
              "IPY_MODEL_92b6d5a92d874241ae18f8022f1593d0",
              "IPY_MODEL_fdfaabd506654b489575f2953f7717b8",
              "IPY_MODEL_8c96748271564f729b539a45161e74ef"
            ],
            "layout": "IPY_MODEL_c66a0afaa00241858ff624c20ed0069f"
          }
        },
        "92b6d5a92d874241ae18f8022f1593d0": {
          "model_module": "@jupyter-widgets/controls",
          "model_name": "HTMLModel",
          "model_module_version": "1.5.0",
          "state": {
            "_dom_classes": [],
            "_model_module": "@jupyter-widgets/controls",
            "_model_module_version": "1.5.0",
            "_model_name": "HTMLModel",
            "_view_count": null,
            "_view_module": "@jupyter-widgets/controls",
            "_view_module_version": "1.5.0",
            "_view_name": "HTMLView",
            "description": "",
            "description_tooltip": null,
            "layout": "IPY_MODEL_33def506276a4b14bdfa84009b785973",
            "placeholder": "​",
            "style": "IPY_MODEL_f77829bda4ea49eebffe662d5a35650c",
            "value": ""
          }
        },
        "fdfaabd506654b489575f2953f7717b8": {
          "model_module": "@jupyter-widgets/controls",
          "model_name": "FloatProgressModel",
          "model_module_version": "1.5.0",
          "state": {
            "_dom_classes": [],
            "_model_module": "@jupyter-widgets/controls",
            "_model_module_version": "1.5.0",
            "_model_name": "FloatProgressModel",
            "_view_count": null,
            "_view_module": "@jupyter-widgets/controls",
            "_view_module_version": "1.5.0",
            "_view_name": "ProgressView",
            "bar_style": "success",
            "description": "",
            "description_tooltip": null,
            "layout": "IPY_MODEL_f54f4afef8bb4ad7bbf1dd469d7f0db3",
            "max": 9912422,
            "min": 0,
            "orientation": "horizontal",
            "style": "IPY_MODEL_34b2525ee1054692802a37b4259fabee",
            "value": 9912422
          }
        },
        "8c96748271564f729b539a45161e74ef": {
          "model_module": "@jupyter-widgets/controls",
          "model_name": "HTMLModel",
          "model_module_version": "1.5.0",
          "state": {
            "_dom_classes": [],
            "_model_module": "@jupyter-widgets/controls",
            "_model_module_version": "1.5.0",
            "_model_name": "HTMLModel",
            "_view_count": null,
            "_view_module": "@jupyter-widgets/controls",
            "_view_module_version": "1.5.0",
            "_view_name": "HTMLView",
            "description": "",
            "description_tooltip": null,
            "layout": "IPY_MODEL_2ba7b7794def4389951c0c7210e852d6",
            "placeholder": "​",
            "style": "IPY_MODEL_7c0441153c094d9092a130dbfbb5beb9",
            "value": " 9913344/? [00:00&lt;00:00, 54378631.81it/s]"
          }
        },
        "c66a0afaa00241858ff624c20ed0069f": {
          "model_module": "@jupyter-widgets/base",
          "model_name": "LayoutModel",
          "model_module_version": "1.2.0",
          "state": {
            "_model_module": "@jupyter-widgets/base",
            "_model_module_version": "1.2.0",
            "_model_name": "LayoutModel",
            "_view_count": null,
            "_view_module": "@jupyter-widgets/base",
            "_view_module_version": "1.2.0",
            "_view_name": "LayoutView",
            "align_content": null,
            "align_items": null,
            "align_self": null,
            "border": null,
            "bottom": null,
            "display": null,
            "flex": null,
            "flex_flow": null,
            "grid_area": null,
            "grid_auto_columns": null,
            "grid_auto_flow": null,
            "grid_auto_rows": null,
            "grid_column": null,
            "grid_gap": null,
            "grid_row": null,
            "grid_template_areas": null,
            "grid_template_columns": null,
            "grid_template_rows": null,
            "height": null,
            "justify_content": null,
            "justify_items": null,
            "left": null,
            "margin": null,
            "max_height": null,
            "max_width": null,
            "min_height": null,
            "min_width": null,
            "object_fit": null,
            "object_position": null,
            "order": null,
            "overflow": null,
            "overflow_x": null,
            "overflow_y": null,
            "padding": null,
            "right": null,
            "top": null,
            "visibility": null,
            "width": null
          }
        },
        "33def506276a4b14bdfa84009b785973": {
          "model_module": "@jupyter-widgets/base",
          "model_name": "LayoutModel",
          "model_module_version": "1.2.0",
          "state": {
            "_model_module": "@jupyter-widgets/base",
            "_model_module_version": "1.2.0",
            "_model_name": "LayoutModel",
            "_view_count": null,
            "_view_module": "@jupyter-widgets/base",
            "_view_module_version": "1.2.0",
            "_view_name": "LayoutView",
            "align_content": null,
            "align_items": null,
            "align_self": null,
            "border": null,
            "bottom": null,
            "display": null,
            "flex": null,
            "flex_flow": null,
            "grid_area": null,
            "grid_auto_columns": null,
            "grid_auto_flow": null,
            "grid_auto_rows": null,
            "grid_column": null,
            "grid_gap": null,
            "grid_row": null,
            "grid_template_areas": null,
            "grid_template_columns": null,
            "grid_template_rows": null,
            "height": null,
            "justify_content": null,
            "justify_items": null,
            "left": null,
            "margin": null,
            "max_height": null,
            "max_width": null,
            "min_height": null,
            "min_width": null,
            "object_fit": null,
            "object_position": null,
            "order": null,
            "overflow": null,
            "overflow_x": null,
            "overflow_y": null,
            "padding": null,
            "right": null,
            "top": null,
            "visibility": null,
            "width": null
          }
        },
        "f77829bda4ea49eebffe662d5a35650c": {
          "model_module": "@jupyter-widgets/controls",
          "model_name": "DescriptionStyleModel",
          "model_module_version": "1.5.0",
          "state": {
            "_model_module": "@jupyter-widgets/controls",
            "_model_module_version": "1.5.0",
            "_model_name": "DescriptionStyleModel",
            "_view_count": null,
            "_view_module": "@jupyter-widgets/base",
            "_view_module_version": "1.2.0",
            "_view_name": "StyleView",
            "description_width": ""
          }
        },
        "f54f4afef8bb4ad7bbf1dd469d7f0db3": {
          "model_module": "@jupyter-widgets/base",
          "model_name": "LayoutModel",
          "model_module_version": "1.2.0",
          "state": {
            "_model_module": "@jupyter-widgets/base",
            "_model_module_version": "1.2.0",
            "_model_name": "LayoutModel",
            "_view_count": null,
            "_view_module": "@jupyter-widgets/base",
            "_view_module_version": "1.2.0",
            "_view_name": "LayoutView",
            "align_content": null,
            "align_items": null,
            "align_self": null,
            "border": null,
            "bottom": null,
            "display": null,
            "flex": null,
            "flex_flow": null,
            "grid_area": null,
            "grid_auto_columns": null,
            "grid_auto_flow": null,
            "grid_auto_rows": null,
            "grid_column": null,
            "grid_gap": null,
            "grid_row": null,
            "grid_template_areas": null,
            "grid_template_columns": null,
            "grid_template_rows": null,
            "height": null,
            "justify_content": null,
            "justify_items": null,
            "left": null,
            "margin": null,
            "max_height": null,
            "max_width": null,
            "min_height": null,
            "min_width": null,
            "object_fit": null,
            "object_position": null,
            "order": null,
            "overflow": null,
            "overflow_x": null,
            "overflow_y": null,
            "padding": null,
            "right": null,
            "top": null,
            "visibility": null,
            "width": null
          }
        },
        "34b2525ee1054692802a37b4259fabee": {
          "model_module": "@jupyter-widgets/controls",
          "model_name": "ProgressStyleModel",
          "model_module_version": "1.5.0",
          "state": {
            "_model_module": "@jupyter-widgets/controls",
            "_model_module_version": "1.5.0",
            "_model_name": "ProgressStyleModel",
            "_view_count": null,
            "_view_module": "@jupyter-widgets/base",
            "_view_module_version": "1.2.0",
            "_view_name": "StyleView",
            "bar_color": null,
            "description_width": ""
          }
        },
        "2ba7b7794def4389951c0c7210e852d6": {
          "model_module": "@jupyter-widgets/base",
          "model_name": "LayoutModel",
          "model_module_version": "1.2.0",
          "state": {
            "_model_module": "@jupyter-widgets/base",
            "_model_module_version": "1.2.0",
            "_model_name": "LayoutModel",
            "_view_count": null,
            "_view_module": "@jupyter-widgets/base",
            "_view_module_version": "1.2.0",
            "_view_name": "LayoutView",
            "align_content": null,
            "align_items": null,
            "align_self": null,
            "border": null,
            "bottom": null,
            "display": null,
            "flex": null,
            "flex_flow": null,
            "grid_area": null,
            "grid_auto_columns": null,
            "grid_auto_flow": null,
            "grid_auto_rows": null,
            "grid_column": null,
            "grid_gap": null,
            "grid_row": null,
            "grid_template_areas": null,
            "grid_template_columns": null,
            "grid_template_rows": null,
            "height": null,
            "justify_content": null,
            "justify_items": null,
            "left": null,
            "margin": null,
            "max_height": null,
            "max_width": null,
            "min_height": null,
            "min_width": null,
            "object_fit": null,
            "object_position": null,
            "order": null,
            "overflow": null,
            "overflow_x": null,
            "overflow_y": null,
            "padding": null,
            "right": null,
            "top": null,
            "visibility": null,
            "width": null
          }
        },
        "7c0441153c094d9092a130dbfbb5beb9": {
          "model_module": "@jupyter-widgets/controls",
          "model_name": "DescriptionStyleModel",
          "model_module_version": "1.5.0",
          "state": {
            "_model_module": "@jupyter-widgets/controls",
            "_model_module_version": "1.5.0",
            "_model_name": "DescriptionStyleModel",
            "_view_count": null,
            "_view_module": "@jupyter-widgets/base",
            "_view_module_version": "1.2.0",
            "_view_name": "StyleView",
            "description_width": ""
          }
        },
        "a8e81a7876fa4032831169b105efee74": {
          "model_module": "@jupyter-widgets/controls",
          "model_name": "HBoxModel",
          "model_module_version": "1.5.0",
          "state": {
            "_dom_classes": [],
            "_model_module": "@jupyter-widgets/controls",
            "_model_module_version": "1.5.0",
            "_model_name": "HBoxModel",
            "_view_count": null,
            "_view_module": "@jupyter-widgets/controls",
            "_view_module_version": "1.5.0",
            "_view_name": "HBoxView",
            "box_style": "",
            "children": [
              "IPY_MODEL_3e19785860464393919f1cca1eee0f32",
              "IPY_MODEL_5c5c2c8f5eb54f29ae08919c5a81c6e3",
              "IPY_MODEL_3e9b1c76f561432bbe994e1887030698"
            ],
            "layout": "IPY_MODEL_21c319a4a22d48039c5fdb3109baccb5"
          }
        },
        "3e19785860464393919f1cca1eee0f32": {
          "model_module": "@jupyter-widgets/controls",
          "model_name": "HTMLModel",
          "model_module_version": "1.5.0",
          "state": {
            "_dom_classes": [],
            "_model_module": "@jupyter-widgets/controls",
            "_model_module_version": "1.5.0",
            "_model_name": "HTMLModel",
            "_view_count": null,
            "_view_module": "@jupyter-widgets/controls",
            "_view_module_version": "1.5.0",
            "_view_name": "HTMLView",
            "description": "",
            "description_tooltip": null,
            "layout": "IPY_MODEL_bcbeefb4a58f4e3bb39c4e5429922712",
            "placeholder": "​",
            "style": "IPY_MODEL_326de8965f75498885b2c0fd2c107a30",
            "value": ""
          }
        },
        "5c5c2c8f5eb54f29ae08919c5a81c6e3": {
          "model_module": "@jupyter-widgets/controls",
          "model_name": "FloatProgressModel",
          "model_module_version": "1.5.0",
          "state": {
            "_dom_classes": [],
            "_model_module": "@jupyter-widgets/controls",
            "_model_module_version": "1.5.0",
            "_model_name": "FloatProgressModel",
            "_view_count": null,
            "_view_module": "@jupyter-widgets/controls",
            "_view_module_version": "1.5.0",
            "_view_name": "ProgressView",
            "bar_style": "success",
            "description": "",
            "description_tooltip": null,
            "layout": "IPY_MODEL_f32618a8d3c14193b5079a73c77650fe",
            "max": 28881,
            "min": 0,
            "orientation": "horizontal",
            "style": "IPY_MODEL_dcb844859c0e41d2bb29e3732d951c78",
            "value": 28881
          }
        },
        "3e9b1c76f561432bbe994e1887030698": {
          "model_module": "@jupyter-widgets/controls",
          "model_name": "HTMLModel",
          "model_module_version": "1.5.0",
          "state": {
            "_dom_classes": [],
            "_model_module": "@jupyter-widgets/controls",
            "_model_module_version": "1.5.0",
            "_model_name": "HTMLModel",
            "_view_count": null,
            "_view_module": "@jupyter-widgets/controls",
            "_view_module_version": "1.5.0",
            "_view_name": "HTMLView",
            "description": "",
            "description_tooltip": null,
            "layout": "IPY_MODEL_9eaf42020f7d4d708aa071c625d2ee8c",
            "placeholder": "​",
            "style": "IPY_MODEL_c452c62918c84e9dbe3b27fc1300f2d4",
            "value": " 29696/? [00:00&lt;00:00, 573683.07it/s]"
          }
        },
        "21c319a4a22d48039c5fdb3109baccb5": {
          "model_module": "@jupyter-widgets/base",
          "model_name": "LayoutModel",
          "model_module_version": "1.2.0",
          "state": {
            "_model_module": "@jupyter-widgets/base",
            "_model_module_version": "1.2.0",
            "_model_name": "LayoutModel",
            "_view_count": null,
            "_view_module": "@jupyter-widgets/base",
            "_view_module_version": "1.2.0",
            "_view_name": "LayoutView",
            "align_content": null,
            "align_items": null,
            "align_self": null,
            "border": null,
            "bottom": null,
            "display": null,
            "flex": null,
            "flex_flow": null,
            "grid_area": null,
            "grid_auto_columns": null,
            "grid_auto_flow": null,
            "grid_auto_rows": null,
            "grid_column": null,
            "grid_gap": null,
            "grid_row": null,
            "grid_template_areas": null,
            "grid_template_columns": null,
            "grid_template_rows": null,
            "height": null,
            "justify_content": null,
            "justify_items": null,
            "left": null,
            "margin": null,
            "max_height": null,
            "max_width": null,
            "min_height": null,
            "min_width": null,
            "object_fit": null,
            "object_position": null,
            "order": null,
            "overflow": null,
            "overflow_x": null,
            "overflow_y": null,
            "padding": null,
            "right": null,
            "top": null,
            "visibility": null,
            "width": null
          }
        },
        "bcbeefb4a58f4e3bb39c4e5429922712": {
          "model_module": "@jupyter-widgets/base",
          "model_name": "LayoutModel",
          "model_module_version": "1.2.0",
          "state": {
            "_model_module": "@jupyter-widgets/base",
            "_model_module_version": "1.2.0",
            "_model_name": "LayoutModel",
            "_view_count": null,
            "_view_module": "@jupyter-widgets/base",
            "_view_module_version": "1.2.0",
            "_view_name": "LayoutView",
            "align_content": null,
            "align_items": null,
            "align_self": null,
            "border": null,
            "bottom": null,
            "display": null,
            "flex": null,
            "flex_flow": null,
            "grid_area": null,
            "grid_auto_columns": null,
            "grid_auto_flow": null,
            "grid_auto_rows": null,
            "grid_column": null,
            "grid_gap": null,
            "grid_row": null,
            "grid_template_areas": null,
            "grid_template_columns": null,
            "grid_template_rows": null,
            "height": null,
            "justify_content": null,
            "justify_items": null,
            "left": null,
            "margin": null,
            "max_height": null,
            "max_width": null,
            "min_height": null,
            "min_width": null,
            "object_fit": null,
            "object_position": null,
            "order": null,
            "overflow": null,
            "overflow_x": null,
            "overflow_y": null,
            "padding": null,
            "right": null,
            "top": null,
            "visibility": null,
            "width": null
          }
        },
        "326de8965f75498885b2c0fd2c107a30": {
          "model_module": "@jupyter-widgets/controls",
          "model_name": "DescriptionStyleModel",
          "model_module_version": "1.5.0",
          "state": {
            "_model_module": "@jupyter-widgets/controls",
            "_model_module_version": "1.5.0",
            "_model_name": "DescriptionStyleModel",
            "_view_count": null,
            "_view_module": "@jupyter-widgets/base",
            "_view_module_version": "1.2.0",
            "_view_name": "StyleView",
            "description_width": ""
          }
        },
        "f32618a8d3c14193b5079a73c77650fe": {
          "model_module": "@jupyter-widgets/base",
          "model_name": "LayoutModel",
          "model_module_version": "1.2.0",
          "state": {
            "_model_module": "@jupyter-widgets/base",
            "_model_module_version": "1.2.0",
            "_model_name": "LayoutModel",
            "_view_count": null,
            "_view_module": "@jupyter-widgets/base",
            "_view_module_version": "1.2.0",
            "_view_name": "LayoutView",
            "align_content": null,
            "align_items": null,
            "align_self": null,
            "border": null,
            "bottom": null,
            "display": null,
            "flex": null,
            "flex_flow": null,
            "grid_area": null,
            "grid_auto_columns": null,
            "grid_auto_flow": null,
            "grid_auto_rows": null,
            "grid_column": null,
            "grid_gap": null,
            "grid_row": null,
            "grid_template_areas": null,
            "grid_template_columns": null,
            "grid_template_rows": null,
            "height": null,
            "justify_content": null,
            "justify_items": null,
            "left": null,
            "margin": null,
            "max_height": null,
            "max_width": null,
            "min_height": null,
            "min_width": null,
            "object_fit": null,
            "object_position": null,
            "order": null,
            "overflow": null,
            "overflow_x": null,
            "overflow_y": null,
            "padding": null,
            "right": null,
            "top": null,
            "visibility": null,
            "width": null
          }
        },
        "dcb844859c0e41d2bb29e3732d951c78": {
          "model_module": "@jupyter-widgets/controls",
          "model_name": "ProgressStyleModel",
          "model_module_version": "1.5.0",
          "state": {
            "_model_module": "@jupyter-widgets/controls",
            "_model_module_version": "1.5.0",
            "_model_name": "ProgressStyleModel",
            "_view_count": null,
            "_view_module": "@jupyter-widgets/base",
            "_view_module_version": "1.2.0",
            "_view_name": "StyleView",
            "bar_color": null,
            "description_width": ""
          }
        },
        "9eaf42020f7d4d708aa071c625d2ee8c": {
          "model_module": "@jupyter-widgets/base",
          "model_name": "LayoutModel",
          "model_module_version": "1.2.0",
          "state": {
            "_model_module": "@jupyter-widgets/base",
            "_model_module_version": "1.2.0",
            "_model_name": "LayoutModel",
            "_view_count": null,
            "_view_module": "@jupyter-widgets/base",
            "_view_module_version": "1.2.0",
            "_view_name": "LayoutView",
            "align_content": null,
            "align_items": null,
            "align_self": null,
            "border": null,
            "bottom": null,
            "display": null,
            "flex": null,
            "flex_flow": null,
            "grid_area": null,
            "grid_auto_columns": null,
            "grid_auto_flow": null,
            "grid_auto_rows": null,
            "grid_column": null,
            "grid_gap": null,
            "grid_row": null,
            "grid_template_areas": null,
            "grid_template_columns": null,
            "grid_template_rows": null,
            "height": null,
            "justify_content": null,
            "justify_items": null,
            "left": null,
            "margin": null,
            "max_height": null,
            "max_width": null,
            "min_height": null,
            "min_width": null,
            "object_fit": null,
            "object_position": null,
            "order": null,
            "overflow": null,
            "overflow_x": null,
            "overflow_y": null,
            "padding": null,
            "right": null,
            "top": null,
            "visibility": null,
            "width": null
          }
        },
        "c452c62918c84e9dbe3b27fc1300f2d4": {
          "model_module": "@jupyter-widgets/controls",
          "model_name": "DescriptionStyleModel",
          "model_module_version": "1.5.0",
          "state": {
            "_model_module": "@jupyter-widgets/controls",
            "_model_module_version": "1.5.0",
            "_model_name": "DescriptionStyleModel",
            "_view_count": null,
            "_view_module": "@jupyter-widgets/base",
            "_view_module_version": "1.2.0",
            "_view_name": "StyleView",
            "description_width": ""
          }
        },
        "b426723843da4ce3b43649712cad791d": {
          "model_module": "@jupyter-widgets/controls",
          "model_name": "HBoxModel",
          "model_module_version": "1.5.0",
          "state": {
            "_dom_classes": [],
            "_model_module": "@jupyter-widgets/controls",
            "_model_module_version": "1.5.0",
            "_model_name": "HBoxModel",
            "_view_count": null,
            "_view_module": "@jupyter-widgets/controls",
            "_view_module_version": "1.5.0",
            "_view_name": "HBoxView",
            "box_style": "",
            "children": [
              "IPY_MODEL_a781040e22ec4cb5b92e57f3013f5772",
              "IPY_MODEL_656a4e7240794d369a0a9d1b69154aac",
              "IPY_MODEL_4311565af3fc42a3a108dc63dac556f0"
            ],
            "layout": "IPY_MODEL_ff54a8bac31c4f0085203953a4156409"
          }
        },
        "a781040e22ec4cb5b92e57f3013f5772": {
          "model_module": "@jupyter-widgets/controls",
          "model_name": "HTMLModel",
          "model_module_version": "1.5.0",
          "state": {
            "_dom_classes": [],
            "_model_module": "@jupyter-widgets/controls",
            "_model_module_version": "1.5.0",
            "_model_name": "HTMLModel",
            "_view_count": null,
            "_view_module": "@jupyter-widgets/controls",
            "_view_module_version": "1.5.0",
            "_view_name": "HTMLView",
            "description": "",
            "description_tooltip": null,
            "layout": "IPY_MODEL_d3c67461c73c4b58a6af42f3414e8e1c",
            "placeholder": "​",
            "style": "IPY_MODEL_36defe1ebd444b4e8f1e3f1fd1ba9282",
            "value": ""
          }
        },
        "656a4e7240794d369a0a9d1b69154aac": {
          "model_module": "@jupyter-widgets/controls",
          "model_name": "FloatProgressModel",
          "model_module_version": "1.5.0",
          "state": {
            "_dom_classes": [],
            "_model_module": "@jupyter-widgets/controls",
            "_model_module_version": "1.5.0",
            "_model_name": "FloatProgressModel",
            "_view_count": null,
            "_view_module": "@jupyter-widgets/controls",
            "_view_module_version": "1.5.0",
            "_view_name": "ProgressView",
            "bar_style": "success",
            "description": "",
            "description_tooltip": null,
            "layout": "IPY_MODEL_8340b1e450054a388378708f2b378d10",
            "max": 1648877,
            "min": 0,
            "orientation": "horizontal",
            "style": "IPY_MODEL_4a041f81a2a5449ab337136633e09f75",
            "value": 1648877
          }
        },
        "4311565af3fc42a3a108dc63dac556f0": {
          "model_module": "@jupyter-widgets/controls",
          "model_name": "HTMLModel",
          "model_module_version": "1.5.0",
          "state": {
            "_dom_classes": [],
            "_model_module": "@jupyter-widgets/controls",
            "_model_module_version": "1.5.0",
            "_model_name": "HTMLModel",
            "_view_count": null,
            "_view_module": "@jupyter-widgets/controls",
            "_view_module_version": "1.5.0",
            "_view_name": "HTMLView",
            "description": "",
            "description_tooltip": null,
            "layout": "IPY_MODEL_663600a144e64ce59e222820a4fdfec8",
            "placeholder": "​",
            "style": "IPY_MODEL_4f733a2c7e9042fea66605331b137292",
            "value": " 1649664/? [00:00&lt;00:00, 7682279.32it/s]"
          }
        },
        "ff54a8bac31c4f0085203953a4156409": {
          "model_module": "@jupyter-widgets/base",
          "model_name": "LayoutModel",
          "model_module_version": "1.2.0",
          "state": {
            "_model_module": "@jupyter-widgets/base",
            "_model_module_version": "1.2.0",
            "_model_name": "LayoutModel",
            "_view_count": null,
            "_view_module": "@jupyter-widgets/base",
            "_view_module_version": "1.2.0",
            "_view_name": "LayoutView",
            "align_content": null,
            "align_items": null,
            "align_self": null,
            "border": null,
            "bottom": null,
            "display": null,
            "flex": null,
            "flex_flow": null,
            "grid_area": null,
            "grid_auto_columns": null,
            "grid_auto_flow": null,
            "grid_auto_rows": null,
            "grid_column": null,
            "grid_gap": null,
            "grid_row": null,
            "grid_template_areas": null,
            "grid_template_columns": null,
            "grid_template_rows": null,
            "height": null,
            "justify_content": null,
            "justify_items": null,
            "left": null,
            "margin": null,
            "max_height": null,
            "max_width": null,
            "min_height": null,
            "min_width": null,
            "object_fit": null,
            "object_position": null,
            "order": null,
            "overflow": null,
            "overflow_x": null,
            "overflow_y": null,
            "padding": null,
            "right": null,
            "top": null,
            "visibility": null,
            "width": null
          }
        },
        "d3c67461c73c4b58a6af42f3414e8e1c": {
          "model_module": "@jupyter-widgets/base",
          "model_name": "LayoutModel",
          "model_module_version": "1.2.0",
          "state": {
            "_model_module": "@jupyter-widgets/base",
            "_model_module_version": "1.2.0",
            "_model_name": "LayoutModel",
            "_view_count": null,
            "_view_module": "@jupyter-widgets/base",
            "_view_module_version": "1.2.0",
            "_view_name": "LayoutView",
            "align_content": null,
            "align_items": null,
            "align_self": null,
            "border": null,
            "bottom": null,
            "display": null,
            "flex": null,
            "flex_flow": null,
            "grid_area": null,
            "grid_auto_columns": null,
            "grid_auto_flow": null,
            "grid_auto_rows": null,
            "grid_column": null,
            "grid_gap": null,
            "grid_row": null,
            "grid_template_areas": null,
            "grid_template_columns": null,
            "grid_template_rows": null,
            "height": null,
            "justify_content": null,
            "justify_items": null,
            "left": null,
            "margin": null,
            "max_height": null,
            "max_width": null,
            "min_height": null,
            "min_width": null,
            "object_fit": null,
            "object_position": null,
            "order": null,
            "overflow": null,
            "overflow_x": null,
            "overflow_y": null,
            "padding": null,
            "right": null,
            "top": null,
            "visibility": null,
            "width": null
          }
        },
        "36defe1ebd444b4e8f1e3f1fd1ba9282": {
          "model_module": "@jupyter-widgets/controls",
          "model_name": "DescriptionStyleModel",
          "model_module_version": "1.5.0",
          "state": {
            "_model_module": "@jupyter-widgets/controls",
            "_model_module_version": "1.5.0",
            "_model_name": "DescriptionStyleModel",
            "_view_count": null,
            "_view_module": "@jupyter-widgets/base",
            "_view_module_version": "1.2.0",
            "_view_name": "StyleView",
            "description_width": ""
          }
        },
        "8340b1e450054a388378708f2b378d10": {
          "model_module": "@jupyter-widgets/base",
          "model_name": "LayoutModel",
          "model_module_version": "1.2.0",
          "state": {
            "_model_module": "@jupyter-widgets/base",
            "_model_module_version": "1.2.0",
            "_model_name": "LayoutModel",
            "_view_count": null,
            "_view_module": "@jupyter-widgets/base",
            "_view_module_version": "1.2.0",
            "_view_name": "LayoutView",
            "align_content": null,
            "align_items": null,
            "align_self": null,
            "border": null,
            "bottom": null,
            "display": null,
            "flex": null,
            "flex_flow": null,
            "grid_area": null,
            "grid_auto_columns": null,
            "grid_auto_flow": null,
            "grid_auto_rows": null,
            "grid_column": null,
            "grid_gap": null,
            "grid_row": null,
            "grid_template_areas": null,
            "grid_template_columns": null,
            "grid_template_rows": null,
            "height": null,
            "justify_content": null,
            "justify_items": null,
            "left": null,
            "margin": null,
            "max_height": null,
            "max_width": null,
            "min_height": null,
            "min_width": null,
            "object_fit": null,
            "object_position": null,
            "order": null,
            "overflow": null,
            "overflow_x": null,
            "overflow_y": null,
            "padding": null,
            "right": null,
            "top": null,
            "visibility": null,
            "width": null
          }
        },
        "4a041f81a2a5449ab337136633e09f75": {
          "model_module": "@jupyter-widgets/controls",
          "model_name": "ProgressStyleModel",
          "model_module_version": "1.5.0",
          "state": {
            "_model_module": "@jupyter-widgets/controls",
            "_model_module_version": "1.5.0",
            "_model_name": "ProgressStyleModel",
            "_view_count": null,
            "_view_module": "@jupyter-widgets/base",
            "_view_module_version": "1.2.0",
            "_view_name": "StyleView",
            "bar_color": null,
            "description_width": ""
          }
        },
        "663600a144e64ce59e222820a4fdfec8": {
          "model_module": "@jupyter-widgets/base",
          "model_name": "LayoutModel",
          "model_module_version": "1.2.0",
          "state": {
            "_model_module": "@jupyter-widgets/base",
            "_model_module_version": "1.2.0",
            "_model_name": "LayoutModel",
            "_view_count": null,
            "_view_module": "@jupyter-widgets/base",
            "_view_module_version": "1.2.0",
            "_view_name": "LayoutView",
            "align_content": null,
            "align_items": null,
            "align_self": null,
            "border": null,
            "bottom": null,
            "display": null,
            "flex": null,
            "flex_flow": null,
            "grid_area": null,
            "grid_auto_columns": null,
            "grid_auto_flow": null,
            "grid_auto_rows": null,
            "grid_column": null,
            "grid_gap": null,
            "grid_row": null,
            "grid_template_areas": null,
            "grid_template_columns": null,
            "grid_template_rows": null,
            "height": null,
            "justify_content": null,
            "justify_items": null,
            "left": null,
            "margin": null,
            "max_height": null,
            "max_width": null,
            "min_height": null,
            "min_width": null,
            "object_fit": null,
            "object_position": null,
            "order": null,
            "overflow": null,
            "overflow_x": null,
            "overflow_y": null,
            "padding": null,
            "right": null,
            "top": null,
            "visibility": null,
            "width": null
          }
        },
        "4f733a2c7e9042fea66605331b137292": {
          "model_module": "@jupyter-widgets/controls",
          "model_name": "DescriptionStyleModel",
          "model_module_version": "1.5.0",
          "state": {
            "_model_module": "@jupyter-widgets/controls",
            "_model_module_version": "1.5.0",
            "_model_name": "DescriptionStyleModel",
            "_view_count": null,
            "_view_module": "@jupyter-widgets/base",
            "_view_module_version": "1.2.0",
            "_view_name": "StyleView",
            "description_width": ""
          }
        },
        "21bc071435ff415a99b56c12054ba906": {
          "model_module": "@jupyter-widgets/controls",
          "model_name": "HBoxModel",
          "model_module_version": "1.5.0",
          "state": {
            "_dom_classes": [],
            "_model_module": "@jupyter-widgets/controls",
            "_model_module_version": "1.5.0",
            "_model_name": "HBoxModel",
            "_view_count": null,
            "_view_module": "@jupyter-widgets/controls",
            "_view_module_version": "1.5.0",
            "_view_name": "HBoxView",
            "box_style": "",
            "children": [
              "IPY_MODEL_adc738f5fcf94d21bd8870ed7f237dd1",
              "IPY_MODEL_c1ce8febce1646088f02637d9b3f8aaf",
              "IPY_MODEL_5c9e8ec089ba4b51a384ccf485427867"
            ],
            "layout": "IPY_MODEL_3bf670bab71f40deb985752cde9277eb"
          }
        },
        "adc738f5fcf94d21bd8870ed7f237dd1": {
          "model_module": "@jupyter-widgets/controls",
          "model_name": "HTMLModel",
          "model_module_version": "1.5.0",
          "state": {
            "_dom_classes": [],
            "_model_module": "@jupyter-widgets/controls",
            "_model_module_version": "1.5.0",
            "_model_name": "HTMLModel",
            "_view_count": null,
            "_view_module": "@jupyter-widgets/controls",
            "_view_module_version": "1.5.0",
            "_view_name": "HTMLView",
            "description": "",
            "description_tooltip": null,
            "layout": "IPY_MODEL_22386a72d41747d588ddfd8de4be74e4",
            "placeholder": "​",
            "style": "IPY_MODEL_d4d34a26749a4d4d93d0b1ab4753bdb9",
            "value": ""
          }
        },
        "c1ce8febce1646088f02637d9b3f8aaf": {
          "model_module": "@jupyter-widgets/controls",
          "model_name": "FloatProgressModel",
          "model_module_version": "1.5.0",
          "state": {
            "_dom_classes": [],
            "_model_module": "@jupyter-widgets/controls",
            "_model_module_version": "1.5.0",
            "_model_name": "FloatProgressModel",
            "_view_count": null,
            "_view_module": "@jupyter-widgets/controls",
            "_view_module_version": "1.5.0",
            "_view_name": "ProgressView",
            "bar_style": "success",
            "description": "",
            "description_tooltip": null,
            "layout": "IPY_MODEL_af4a6d299105494d9cf6621c75d31c21",
            "max": 4542,
            "min": 0,
            "orientation": "horizontal",
            "style": "IPY_MODEL_4379f180be394173853d99fcf8c0871e",
            "value": 4542
          }
        },
        "5c9e8ec089ba4b51a384ccf485427867": {
          "model_module": "@jupyter-widgets/controls",
          "model_name": "HTMLModel",
          "model_module_version": "1.5.0",
          "state": {
            "_dom_classes": [],
            "_model_module": "@jupyter-widgets/controls",
            "_model_module_version": "1.5.0",
            "_model_name": "HTMLModel",
            "_view_count": null,
            "_view_module": "@jupyter-widgets/controls",
            "_view_module_version": "1.5.0",
            "_view_name": "HTMLView",
            "description": "",
            "description_tooltip": null,
            "layout": "IPY_MODEL_a6a134da641741539bd0ca8bd151e465",
            "placeholder": "​",
            "style": "IPY_MODEL_fdbf7ef97906407dabd7c79bda36fea7",
            "value": " 5120/? [00:00&lt;00:00, 125229.39it/s]"
          }
        },
        "3bf670bab71f40deb985752cde9277eb": {
          "model_module": "@jupyter-widgets/base",
          "model_name": "LayoutModel",
          "model_module_version": "1.2.0",
          "state": {
            "_model_module": "@jupyter-widgets/base",
            "_model_module_version": "1.2.0",
            "_model_name": "LayoutModel",
            "_view_count": null,
            "_view_module": "@jupyter-widgets/base",
            "_view_module_version": "1.2.0",
            "_view_name": "LayoutView",
            "align_content": null,
            "align_items": null,
            "align_self": null,
            "border": null,
            "bottom": null,
            "display": null,
            "flex": null,
            "flex_flow": null,
            "grid_area": null,
            "grid_auto_columns": null,
            "grid_auto_flow": null,
            "grid_auto_rows": null,
            "grid_column": null,
            "grid_gap": null,
            "grid_row": null,
            "grid_template_areas": null,
            "grid_template_columns": null,
            "grid_template_rows": null,
            "height": null,
            "justify_content": null,
            "justify_items": null,
            "left": null,
            "margin": null,
            "max_height": null,
            "max_width": null,
            "min_height": null,
            "min_width": null,
            "object_fit": null,
            "object_position": null,
            "order": null,
            "overflow": null,
            "overflow_x": null,
            "overflow_y": null,
            "padding": null,
            "right": null,
            "top": null,
            "visibility": null,
            "width": null
          }
        },
        "22386a72d41747d588ddfd8de4be74e4": {
          "model_module": "@jupyter-widgets/base",
          "model_name": "LayoutModel",
          "model_module_version": "1.2.0",
          "state": {
            "_model_module": "@jupyter-widgets/base",
            "_model_module_version": "1.2.0",
            "_model_name": "LayoutModel",
            "_view_count": null,
            "_view_module": "@jupyter-widgets/base",
            "_view_module_version": "1.2.0",
            "_view_name": "LayoutView",
            "align_content": null,
            "align_items": null,
            "align_self": null,
            "border": null,
            "bottom": null,
            "display": null,
            "flex": null,
            "flex_flow": null,
            "grid_area": null,
            "grid_auto_columns": null,
            "grid_auto_flow": null,
            "grid_auto_rows": null,
            "grid_column": null,
            "grid_gap": null,
            "grid_row": null,
            "grid_template_areas": null,
            "grid_template_columns": null,
            "grid_template_rows": null,
            "height": null,
            "justify_content": null,
            "justify_items": null,
            "left": null,
            "margin": null,
            "max_height": null,
            "max_width": null,
            "min_height": null,
            "min_width": null,
            "object_fit": null,
            "object_position": null,
            "order": null,
            "overflow": null,
            "overflow_x": null,
            "overflow_y": null,
            "padding": null,
            "right": null,
            "top": null,
            "visibility": null,
            "width": null
          }
        },
        "d4d34a26749a4d4d93d0b1ab4753bdb9": {
          "model_module": "@jupyter-widgets/controls",
          "model_name": "DescriptionStyleModel",
          "model_module_version": "1.5.0",
          "state": {
            "_model_module": "@jupyter-widgets/controls",
            "_model_module_version": "1.5.0",
            "_model_name": "DescriptionStyleModel",
            "_view_count": null,
            "_view_module": "@jupyter-widgets/base",
            "_view_module_version": "1.2.0",
            "_view_name": "StyleView",
            "description_width": ""
          }
        },
        "af4a6d299105494d9cf6621c75d31c21": {
          "model_module": "@jupyter-widgets/base",
          "model_name": "LayoutModel",
          "model_module_version": "1.2.0",
          "state": {
            "_model_module": "@jupyter-widgets/base",
            "_model_module_version": "1.2.0",
            "_model_name": "LayoutModel",
            "_view_count": null,
            "_view_module": "@jupyter-widgets/base",
            "_view_module_version": "1.2.0",
            "_view_name": "LayoutView",
            "align_content": null,
            "align_items": null,
            "align_self": null,
            "border": null,
            "bottom": null,
            "display": null,
            "flex": null,
            "flex_flow": null,
            "grid_area": null,
            "grid_auto_columns": null,
            "grid_auto_flow": null,
            "grid_auto_rows": null,
            "grid_column": null,
            "grid_gap": null,
            "grid_row": null,
            "grid_template_areas": null,
            "grid_template_columns": null,
            "grid_template_rows": null,
            "height": null,
            "justify_content": null,
            "justify_items": null,
            "left": null,
            "margin": null,
            "max_height": null,
            "max_width": null,
            "min_height": null,
            "min_width": null,
            "object_fit": null,
            "object_position": null,
            "order": null,
            "overflow": null,
            "overflow_x": null,
            "overflow_y": null,
            "padding": null,
            "right": null,
            "top": null,
            "visibility": null,
            "width": null
          }
        },
        "4379f180be394173853d99fcf8c0871e": {
          "model_module": "@jupyter-widgets/controls",
          "model_name": "ProgressStyleModel",
          "model_module_version": "1.5.0",
          "state": {
            "_model_module": "@jupyter-widgets/controls",
            "_model_module_version": "1.5.0",
            "_model_name": "ProgressStyleModel",
            "_view_count": null,
            "_view_module": "@jupyter-widgets/base",
            "_view_module_version": "1.2.0",
            "_view_name": "StyleView",
            "bar_color": null,
            "description_width": ""
          }
        },
        "a6a134da641741539bd0ca8bd151e465": {
          "model_module": "@jupyter-widgets/base",
          "model_name": "LayoutModel",
          "model_module_version": "1.2.0",
          "state": {
            "_model_module": "@jupyter-widgets/base",
            "_model_module_version": "1.2.0",
            "_model_name": "LayoutModel",
            "_view_count": null,
            "_view_module": "@jupyter-widgets/base",
            "_view_module_version": "1.2.0",
            "_view_name": "LayoutView",
            "align_content": null,
            "align_items": null,
            "align_self": null,
            "border": null,
            "bottom": null,
            "display": null,
            "flex": null,
            "flex_flow": null,
            "grid_area": null,
            "grid_auto_columns": null,
            "grid_auto_flow": null,
            "grid_auto_rows": null,
            "grid_column": null,
            "grid_gap": null,
            "grid_row": null,
            "grid_template_areas": null,
            "grid_template_columns": null,
            "grid_template_rows": null,
            "height": null,
            "justify_content": null,
            "justify_items": null,
            "left": null,
            "margin": null,
            "max_height": null,
            "max_width": null,
            "min_height": null,
            "min_width": null,
            "object_fit": null,
            "object_position": null,
            "order": null,
            "overflow": null,
            "overflow_x": null,
            "overflow_y": null,
            "padding": null,
            "right": null,
            "top": null,
            "visibility": null,
            "width": null
          }
        },
        "fdbf7ef97906407dabd7c79bda36fea7": {
          "model_module": "@jupyter-widgets/controls",
          "model_name": "DescriptionStyleModel",
          "model_module_version": "1.5.0",
          "state": {
            "_model_module": "@jupyter-widgets/controls",
            "_model_module_version": "1.5.0",
            "_model_name": "DescriptionStyleModel",
            "_view_count": null,
            "_view_module": "@jupyter-widgets/base",
            "_view_module_version": "1.2.0",
            "_view_name": "StyleView",
            "description_width": ""
          }
        }
      }
    }
  },
  "nbformat": 4,
  "nbformat_minor": 0
}