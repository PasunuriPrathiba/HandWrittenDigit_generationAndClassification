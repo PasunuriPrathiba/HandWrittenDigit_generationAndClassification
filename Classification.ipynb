{
  "nbformat": 4,
  "nbformat_minor": 0,
  "metadata": {
    "colab": {
      "name": "Classification.ipynb",
      "provenance": [],
      "collapsed_sections": []
    },
    "kernelspec": {
      "name": "python3",
      "display_name": "Python 3"
    },
    "language_info": {
      "name": "python"
    },
    "accelerator": "GPU",
    "gpuClass": "standard"
  },
  "cells": [
    {
      "cell_type": "code",
      "execution_count": null,
      "metadata": {
        "id": "yLEy8NKz5tjS"
      },
      "outputs": [],
      "source": [
        ""
      ]
    },
    {
      "cell_type": "markdown",
      "source": [
        "References:\n",
        "https://learnopencv.com/deep-convolutional-gan-in-pytorch-and-tensorflow/\n",
        "\n",
        "https://learnopencv.com/conditional-gan-cgan-in-pytorch-and-tensorflow/\n",
        "\n",
        "https://learnopencv.com/introduction-to-generative-adversarial-networks/\n",
        "\n",
        "https://github.com/safwankdb\n",
        "https://github.com/tooth2/Handwritten-digits-generation/blob/main/MNIST_GAN.ipynb"
      ],
      "metadata": {
        "id": "qp0n-MHfhc7D"
      }
    },
    {
      "cell_type": "code",
      "source": [
        "from google.colab import drive\n",
        "drive.mount('/content/gdrive', force_remount=False)"
      ],
      "metadata": {
        "colab": {
          "base_uri": "https://localhost:8080/"
        },
        "id": "5ufg_haRpoqZ",
        "outputId": "3bbd789e-56ca-43ee-e4e7-1c000b6046fd"
      },
      "execution_count": 11,
      "outputs": [
        {
          "output_type": "stream",
          "name": "stdout",
          "text": [
            "Mounted at /content/gdrive\n"
          ]
        }
      ]
    },
    {
      "cell_type": "code",
      "source": [
        "import torch\n",
        "from torchvision import transforms\n",
        "import torchvision.datasets as datasets\n",
        "import matplotlib.pyplot as plt\n",
        "# from model import Model\n",
        "import numpy as np"
      ],
      "metadata": {
        "id": "zD4kyYUehqlH"
      },
      "execution_count": 12,
      "outputs": []
    },
    {
      "cell_type": "code",
      "source": [
        "device = torch.device('cuda' if torch.cuda.is_available() else 'cpu')\n",
        "print(device)"
      ],
      "metadata": {
        "colab": {
          "base_uri": "https://localhost:8080/"
        },
        "id": "2cCoee8yRTox",
        "outputId": "bc9ca260-ff10-4fdc-b7fe-4fb9a4e47328"
      },
      "execution_count": 13,
      "outputs": [
        {
          "output_type": "stream",
          "name": "stdout",
          "text": [
            "cuda\n"
          ]
        }
      ]
    },
    {
      "cell_type": "code",
      "source": [
        "transform = transforms.Compose([\n",
        "                transforms.Resize((28, 28)),\n",
        "                transforms.ToTensor(),\n",
        "                transforms.Normalize((0.5),(0.5))\n",
        "                ])\n",
        "to_image = transforms.ToPILImage()\n"
      ],
      "metadata": {
        "id": "SyIU5j-tll7c"
      },
      "execution_count": 14,
      "outputs": []
    },
    {
      "cell_type": "code",
      "source": [
        "mnist_trainset = datasets.MNIST(root='./data', train=True, download=True, transform=transform)\n",
        "mnist_testset = datasets.MNIST(root='./data', train=False, download=True, transform=transform)"
      ],
      "metadata": {
        "id": "MrwIUbrFRWaC"
      },
      "execution_count": 15,
      "outputs": []
    },
    {
      "cell_type": "code",
      "source": [
        "mnist_valset, mnist_testset = torch.utils.data.random_split(mnist_testset, [int(0.9 * len(mnist_testset)), int(0.1 * len(mnist_testset))])"
      ],
      "metadata": {
        "id": "_E6HFU5pRoBW"
      },
      "execution_count": 16,
      "outputs": []
    },
    {
      "cell_type": "code",
      "source": [
        "train_dataloader = torch.utils.data.DataLoader(mnist_trainset, batch_size=64, shuffle=True)\n",
        "val_dataloader = torch.utils.data.DataLoader(mnist_valset, batch_size=32, shuffle=False)\n",
        "test_dataloader = torch.utils.data.DataLoader(mnist_testset, batch_size=32, shuffle=False)"
      ],
      "metadata": {
        "id": "mjkxT0e_RqR1"
      },
      "execution_count": 17,
      "outputs": []
    },
    {
      "cell_type": "code",
      "source": [
        "print(\"Training dataset size: \", len(mnist_trainset))\n",
        "print(\"Validation dataset size: \", len(mnist_valset))\n",
        "print(\"Testing dataset size: \", len(mnist_testset))"
      ],
      "metadata": {
        "colab": {
          "base_uri": "https://localhost:8080/"
        },
        "id": "q4FQ8Ie4RsMx",
        "outputId": "36b65fbe-32d2-4018-f481-b51d7bb8037a"
      },
      "execution_count": 18,
      "outputs": [
        {
          "output_type": "stream",
          "name": "stdout",
          "text": [
            "Training dataset size:  60000\n",
            "Validation dataset size:  9000\n",
            "Testing dataset size:  1000\n"
          ]
        }
      ]
    },
    {
      "cell_type": "code",
      "source": [
        "# visualize data\n",
        "fig=plt.figure(figsize=(20, 10))\n",
        "for i in range(1, 6):\n",
        "    img = transforms.ToPILImage(mode='L')(mnist_trainset[i][0])\n",
        "    fig.add_subplot(1, 6, i)\n",
        "    plt.title(mnist_trainset[i][1])\n",
        "    plt.imshow(img)\n",
        "plt.show()"
      ],
      "metadata": {
        "colab": {
          "base_uri": "https://localhost:8080/",
          "height": 223
        },
        "id": "2sQTLuC_RulJ",
        "outputId": "1fee6e11-001f-4f7e-d0bd-1a2040d6823d"
      },
      "execution_count": 19,
      "outputs": [
        {
          "output_type": "display_data",
          "data": {
            "text/plain": [
              "<Figure size 1440x720 with 5 Axes>"
            ],
            "image/png": "[encoded data removed]"
          },
          "metadata": {
            "needs_background": "light"
          }
        }
      ]
    },
    {
      "cell_type": "code",
      "source": [
        "from torch.nn.modules import dropout\n",
        "import torch.nn as nn\n",
        "class Model(nn.Module):\n",
        "    def __init__(self,out_1=32,out_2=64):\n",
        "        \n",
        "        super(Model,self).__init__()\n",
        "        #first Convolutional layers \n",
        "        self.cnn1=nn.Conv2d(in_channels=1,out_channels=out_1,kernel_size=3,padding=1)\n",
        "        self.maxpool1=nn.MaxPool2d(kernel_size=2 ,stride=2)\n",
        "\n",
        "        #second Convolutional layers\n",
        "        self.cnn2=nn.Conv2d(in_channels=out_1,out_channels=out_2,kernel_size=3,stride=1,padding=1)\n",
        "        self.maxpool2=nn.MaxPool2d(kernel_size=2 ,stride=2)\n",
        "        #max pooling \n",
        "\n",
        "        #fully connected layer \n",
        "        self.fc1=nn.Linear(out_2*7*7,128)\n",
        "        self.fc2=nn.Linear(128, 10)\n",
        "        self.dropout = nn.Dropout(p=0.5)\n",
        "        \n",
        "    def forward(self,x):\n",
        "        #first Convolutional layers\n",
        "        x=self.cnn1(x)\n",
        "        #activation function \n",
        "        x=torch.relu(x)\n",
        "        #max pooling \n",
        "        x=self.maxpool1(x)\n",
        "        #first Convolutional layers\n",
        "        x=self.cnn2(x)\n",
        "        #activation function\n",
        "        x=torch.relu(x)\n",
        "        #max pooling\n",
        "        x=self.maxpool2(x)\n",
        "\n",
        "        x = x.reshape(x.size(0), -1)\n",
        "        #flatten output \n",
        "        x=x.view(x.size(0),-1)\n",
        "        #fully connected layer\n",
        "        x=self.fc1(x)\n",
        "        x=torch.relu(x)\n",
        "        x = self.dropout(x)\n",
        "        x = self.fc2(x)\n",
        "        return x\n",
        "    \n",
        "    def activations(self,x):\n",
        "        #outputs activation this is not necessary just for fun \n",
        "        z1=self.cnn1(x)\n",
        "        a1=torch.relu(z1)\n",
        "        out=self.maxpool1(a1)\n",
        "        \n",
        "        z2=self.cnn2(out)\n",
        "        a2=torch.relu(z2)\n",
        "        out=self.maxpool2(a2)\n",
        "        out=out.view(out.size(0),-1)\n",
        "        return z1,a1,z2,a2,out  \n",
        "\n",
        "model=Model()\n",
        "print(model)  "
      ],
      "metadata": {
        "colab": {
          "base_uri": "https://localhost:8080/"
        },
        "id": "ZIEe7cPwguKd",
        "outputId": "1301f7d6-447a-4937-ac3d-6c2b6ea9bdf7"
      },
      "execution_count": 20,
      "outputs": [
        {
          "output_type": "stream",
          "name": "stdout",
          "text": [
            "Model(\n",
            "  (cnn1): Conv2d(1, 32, kernel_size=(3, 3), stride=(1, 1), padding=(1, 1))\n",
            "  (maxpool1): MaxPool2d(kernel_size=2, stride=2, padding=0, dilation=1, ceil_mode=False)\n",
            "  (cnn2): Conv2d(32, 64, kernel_size=(3, 3), stride=(1, 1), padding=(1, 1))\n",
            "  (maxpool2): MaxPool2d(kernel_size=2, stride=2, padding=0, dilation=1, ceil_mode=False)\n",
            "  (fc1): Linear(in_features=3136, out_features=128, bias=True)\n",
            "  (fc2): Linear(in_features=128, out_features=10, bias=True)\n",
            "  (dropout): Dropout(p=0.5, inplace=False)\n",
            ")\n"
          ]
        }
      ]
    },
    {
      "cell_type": "code",
      "source": [
        "model = Model().to(device)\n",
        "\n",
        "criterion=nn.CrossEntropyLoss()\n",
        "\n",
        "learning_rate=0.001\n",
        "\n",
        "optimizer = torch.optim.Adam(model.parameters(), lr=learning_rate)\n",
        "\n",
        "\n",
        "n_epochs=20\n",
        "train_cost=[]\n",
        "val_cost=[]\n",
        "accuracy_list=[]\n",
        "N_val=len(mnist_valset)\n",
        "cost1=0\n",
        "cost2 =0\n",
        "\n",
        "for epoch in range(n_epochs):\n",
        "    cost1=0    \n",
        "    for x, y in train_dataloader:\n",
        "      \n",
        "        x = x.to(device)\n",
        "        y = y.to(device)\n",
        "\n",
        "        #clear gradient \n",
        "        optimizer.zero_grad()\n",
        "        #make a prediction \n",
        "        z=model(x)\n",
        "        # calculate loss \n",
        "        loss=criterion(z,y)\n",
        "        # calculate gradients of parameters \n",
        "        loss.backward()\n",
        "        # update parameters \n",
        "        optimizer.step()\n",
        "        cost1+=loss.item()\n",
        "    train_cost.append(cost1)\n",
        "        \n",
        "        \n",
        "    correct=0\n",
        "    #perform a prediction on the validation  data  \n",
        "    for x_val, y_val in val_dataloader:\n",
        "        cost2=0\n",
        "        x_val = x_val.to(device)\n",
        "        y_val = y_val.to(device)\n",
        "\n",
        "        #clear gradient \n",
        "        optimizer.zero_grad()\n",
        "        #make a prediction \n",
        "        z_val=model(x_val)\n",
        "        # calculate loss \n",
        "        loss=criterion(z_val,y_val)\n",
        "        # calculate gradients of parameters \n",
        "        loss.backward()\n",
        "        # update parameters \n",
        "        optimizer.step()\n",
        "        cost2+=loss.item()\n",
        "        _,yhat=torch.max(z_val.data,1)\n",
        "\n",
        "        correct+=(yhat==y_val).sum().item()\n",
        "        \n",
        "    val_cost.append(cost2)\n",
        "\n",
        "    accuracy=correct/N_val\n",
        "\n",
        "    accuracy_list.append(accuracy)\n",
        "\n",
        "    print('\\nEpoch: {}/{}, Train Loss: {:.8f}, Val Loss: {:.8f}, Val Accuracy: {:.8f}'.format(epoch + 1, n_epochs, cost1, cost2, accuracy))"
      ],
      "metadata": {
        "id": "zweJXh0fhhlo",
        "colab": {
          "base_uri": "https://localhost:8080/"
        },
        "outputId": "6a03de3d-5f1f-445b-fcf5-c99f17a3a979"
      },
      "execution_count": 21,
      "outputs": [
        {
          "output_type": "stream",
          "name": "stdout",
          "text": [
            "\n",
            "Epoch: 1/20, Train Loss: 236.13747612, Val Loss: 0.04886269, Val Accuracy: 0.96633333\n",
            "\n",
            "Epoch: 2/20, Train Loss: 79.81623750, Val Loss: 0.00174264, Val Accuracy: 0.97633333\n",
            "\n",
            "Epoch: 3/20, Train Loss: 58.90118768, Val Loss: 0.00051983, Val Accuracy: 0.98322222\n",
            "\n",
            "Epoch: 4/20, Train Loss: 51.75054970, Val Loss: 0.00213915, Val Accuracy: 0.98666667\n",
            "\n",
            "Epoch: 5/20, Train Loss: 43.65924302, Val Loss: 0.00862128, Val Accuracy: 0.98866667\n",
            "\n",
            "Epoch: 6/20, Train Loss: 37.51847995, Val Loss: 0.00000428, Val Accuracy: 0.99166667\n",
            "\n",
            "Epoch: 7/20, Train Loss: 31.81233157, Val Loss: 0.00005928, Val Accuracy: 0.99233333\n",
            "\n",
            "Epoch: 8/20, Train Loss: 30.69617729, Val Loss: 0.00001052, Val Accuracy: 0.99555556\n",
            "\n",
            "Epoch: 9/20, Train Loss: 26.10144477, Val Loss: 0.00000143, Val Accuracy: 0.99388889\n",
            "\n",
            "Epoch: 10/20, Train Loss: 24.43295191, Val Loss: 0.00000000, Val Accuracy: 0.99511111\n",
            "\n",
            "Epoch: 11/20, Train Loss: 23.17477339, Val Loss: 0.00198829, Val Accuracy: 0.99477778\n",
            "\n",
            "Epoch: 12/20, Train Loss: 20.18686233, Val Loss: 0.00000025, Val Accuracy: 0.99566667\n",
            "\n",
            "Epoch: 13/20, Train Loss: 19.52555408, Val Loss: 0.00000611, Val Accuracy: 0.99544444\n",
            "\n",
            "Epoch: 14/20, Train Loss: 17.55330923, Val Loss: 0.00000043, Val Accuracy: 0.99700000\n",
            "\n",
            "Epoch: 15/20, Train Loss: 16.14349619, Val Loss: 0.00000083, Val Accuracy: 0.99477778\n",
            "\n",
            "Epoch: 16/20, Train Loss: 15.81570974, Val Loss: 0.00001197, Val Accuracy: 0.99700000\n",
            "\n",
            "Epoch: 17/20, Train Loss: 14.82636038, Val Loss: 0.00000000, Val Accuracy: 0.99700000\n",
            "\n",
            "Epoch: 18/20, Train Loss: 14.22107050, Val Loss: 0.00015191, Val Accuracy: 0.99533333\n",
            "\n",
            "Epoch: 19/20, Train Loss: 14.03691663, Val Loss: 0.00000001, Val Accuracy: 0.99855556\n",
            "\n",
            "Epoch: 20/20, Train Loss: 11.16318561, Val Loss: 0.00000024, Val Accuracy: 0.99600000\n"
          ]
        }
      ]
    },
    {
      "cell_type": "code",
      "source": [
        "torch.save(model.state_dict(), \"/content/gdrive/MyDrive/Colab Notebooks/ComputerVision/classification/model.pth\")"
      ],
      "metadata": {
        "id": "aMNcbmzJ2EDj"
      },
      "execution_count": 22,
      "outputs": []
    },
    {
      "cell_type": "code",
      "source": [
        "len(val_cost)\n",
        "len(train_cost)"
      ],
      "metadata": {
        "colab": {
          "base_uri": "https://localhost:8080/"
        },
        "id": "I3jm3iHwdy0e",
        "outputId": "4f62fc3f-94c7-42a8-e351-849a9d5ad87a"
      },
      "execution_count": 23,
      "outputs": [
        {
          "output_type": "execute_result",
          "data": {
            "text/plain": [
              "20"
            ]
          },
          "metadata": {},
          "execution_count": 23
        }
      ]
    },
    {
      "cell_type": "code",
      "source": [
        "fig=plt.figure(figsize=(20, 10))\n",
        "plt.plot(np.arange(1, (n_epochs)+1), train_cost, label=\"Train loss\")\n",
        "plt.plot(np.arange(1, (n_epochs)+1), val_cost, label=\"Validation loss\")\n",
        "plt.xlabel('Loss')\n",
        "plt.ylabel('Epochs')\n",
        "plt.title(\"Loss Plots\")\n",
        "plt.legend(loc='upper right')\n",
        "plt.show()"
      ],
      "metadata": {
        "colab": {
          "base_uri": "https://localhost:8080/",
          "height": 615
        },
        "id": "mP7E0OEQTQS6",
        "outputId": "9f355c6d-96de-47cc-a12a-a9b23f3387f8"
      },
      "execution_count": 24,
      "outputs": [
        {
          "output_type": "display_data",
          "data": {
            "text/plain": [
              "<Figure size 1440x720 with 1 Axes>"
            ],
            "image/png": "[encoded data removed]"
          },
          "metadata": {
            "needs_background": "light"
          }
        }
      ]
    },
    {
      "cell_type": "code",
      "source": [
        "# test model\n",
        "model.load_state_dict(torch.load(\"/content/gdrive/MyDrive/Colab Notebooks/ComputerVision/classification/model.pth\"))\n",
        "model.eval()\n",
        "\n",
        "results = list()\n",
        "correct=0\n",
        "accuracy = []\n",
        "N_test=len(mnist_testset)\n",
        "\n",
        "for image, label in test_dataloader:\n",
        "\n",
        "    image = image.to(device)\n",
        "    label = label.to(device)\n",
        "\n",
        "    pred = model(image)\n",
        "\n",
        "    _,yhat=torch.max(pred.data,1)\n",
        "\n",
        "    correct+=(yhat==label).sum().item()\n",
        "\n",
        "    acc=correct/N_test\n",
        "\n",
        "    accuracy.append(acc)\n",
        "\n",
        "print('Test accuracy {:.8f}'.format(accuracy[-1]))"
      ],
      "metadata": {
        "id": "DAyS9o9qUoMz",
        "colab": {
          "base_uri": "https://localhost:8080/"
        },
        "outputId": "698a4f8c-bf76-4691-a53b-7ae975af4329"
      },
      "execution_count": 26,
      "outputs": [
        {
          "output_type": "stream",
          "name": "stdout",
          "text": [
            "Test accuracy 0.99300000\n"
          ]
        }
      ]
    },
    {
      "cell_type": "code",
      "source": [
        ""
      ],
      "metadata": {
        "id": "ARCspd3KVPlr"
      },
      "execution_count": null,
      "outputs": []
    },
    {
      "cell_type": "markdown",
      "source": [
        "references:\n",
        "https://github.com/iamkrut/MNIST_handwriting_classification\n",
        "\n",
        "https://towardsdatascience.com/mnist-handwritten-digits-classification-using-a-convolutional-neural-network-cnn-af5fafbc35e9\n",
        "\n"
      ],
      "metadata": {
        "id": "Fc0mU1IpYA8q"
      }
    },
    {
      "cell_type": "code",
      "source": [
        ""
      ],
      "metadata": {
        "id": "J5fuU6dGYG7G"
      },
      "execution_count": null,
      "outputs": []
    }
  ]
}