{
  "cells": [
    {
      "cell_type": "code",
      "execution_count": null,
      "metadata": {
        "id": "67_EtShYeprf"
      },
      "outputs": [],
      "source": [
        "import torch\n",
        "import torch.nn as nn\n",
        "import torch.optim as optim\n",
        "from torch.autograd.variable import Variable\n",
        "from torchvision import transforms\n",
        "from torchvision.datasets import MNIST\n",
        "from torchvision.utils import make_grid\n",
        "from torch.utils.data import DataLoader\n",
        "import imageio\n"
      ]
    },
    {
      "cell_type": "code",
      "execution_count": null,
      "metadata": {
        "id": "yThbD-jVerUV",
        "colab": {
          "base_uri": "https://localhost:8080/",
          "height": 443,
          "referenced_widgets": [
            "1edbace81991435bb8e56bed710b62d4",
            "c631f723a82845b68b075c8d7b066733",
            "f44d711822d448b1b8ec656d9174f59f",
            "bc1adb3f26484b348b9078d697e3ecbf",
            "7d95fbb10c9441358c1b91a6c8bb9806",
            "585ca4a7a5b84880be5d772a93311ea1",
            "04b9862bd985406285c51ec3ca00bf03",
            "b6c37365fe0348ed9e0ab1dad5a91ec2",
            "4cb327b3a0104d4b991bfaf11d528cbd",
            "5a160abaa0f8486cba54689a27015645",
            "7a62ae8bf94a4604b384d3b5d7612778",
            "abe4182d41c14e8ab89bb5ecb8c105f8",
            "5a0784131496476283fc2987ccb662d6",
            "d475c7511fa1415d90677adb0ca7d09d",
            "9f98589875054ee3b633dff3208233cb",
            "48ff6e5cc54a4360865eb559c744c2ac",
            "1ee6bd4ecb1846d18627a5fa56279b73",
            "3a5d3f60f63044fe95b003c098f687a5",
            "7e13e6026f2e449fbf119250ca946d07",
            "0314fe2a86974d29a850395cb9ba3b9e",
            "1228ab299de64dd6bd87c772613f93e8",
            "af478b1a511f4e00a2ee7634bb8184a8",
            "e2adec04071348f1aa793e38f00e1e74",
            "723cff0c94524698bdf21f76699b0a4b",
            "e618fefc43de40aa9d88824ac7d516e7",
            "31978e37200f499ca0db06a53f6ae2bb",
            "0678acd684f54985b09333db79657740",
            "8c856e1fa6714155a6f1f6b40278c52e",
            "c96aef9d23ca453ea1b8cf33ef278a29",
            "2b9f60a760d646f2a12f24d002730637",
            "ce9e346214bf43b7929a9e8fcbd53136",
            "8cca6536210d4a8cad8417eb672209de",
            "0481515bc5314b9f8c540df8ea040d00",
            "edc8bca59d9b49b8907d58b0a5fb1a42",
            "93dee48045cc4324a9cc9be1433c7108",
            "5e56f429f03b4a69aa8a0f18b961f9d6",
            "9e77695a18c54a74b5e7130413e65785",
            "5271593004fc4b689d71716b68af1d4f",
            "d91b4129eb77477eafc803a390db0fe1",
            "73c94bb42c58429d83659561ce2e1788",
            "bdc98a8e3e3c43c9a0b2ecbef618457a",
            "74c59565262b4cd6918db9bc7813668a",
            "fd1a22fd8b4b4f8ea3fdf948051b30ff",
            "b188a4a8641943f6ba3be700e662af48"
          ]
        },
        "outputId": "791e0b05-1047-485c-dec7-8c00273978f7"
      },
      "outputs": [
        {
          "output_type": "stream",
          "name": "stdout",
          "text": [
            "Downloading http://yann.lecun.com/exdb/mnist/train-images-idx3-ubyte.gz\n",
            "Downloading http://yann.lecun.com/exdb/mnist/train-images-idx3-ubyte.gz to ./data/MNIST/raw/train-images-idx3-ubyte.gz\n"
          ]
        },
        {
          "output_type": "display_data",
          "data": {
            "text/plain": [
              "  0%|          | 0/9912422 [00:00<?, ?it/s]"
            ],
            "application/vnd.jupyter.widget-view+json": {
              "version_major": 2,
              "version_minor": 0,
              "model_id": "1edbace81991435bb8e56bed710b62d4"
            }
          },
          "metadata": {}
        },
        {
          "output_type": "stream",
          "name": "stdout",
          "text": [
            "Extracting ./data/MNIST/raw/train-images-idx3-ubyte.gz to ./data/MNIST/raw\n",
            "\n",
            "Downloading http://yann.lecun.com/exdb/mnist/train-labels-idx1-ubyte.gz\n",
            "Downloading http://yann.lecun.com/exdb/mnist/train-labels-idx1-ubyte.gz to ./data/MNIST/raw/train-labels-idx1-ubyte.gz\n"
          ]
        },
        {
          "output_type": "display_data",
          "data": {
            "text/plain": [
              "  0%|          | 0/28881 [00:00<?, ?it/s]"
            ],
            "application/vnd.jupyter.widget-view+json": {
              "version_major": 2,
              "version_minor": 0,
              "model_id": "abe4182d41c14e8ab89bb5ecb8c105f8"
            }
          },
          "metadata": {}
        },
        {
          "output_type": "stream",
          "name": "stdout",
          "text": [
            "Extracting ./data/MNIST/raw/train-labels-idx1-ubyte.gz to ./data/MNIST/raw\n",
            "\n",
            "Downloading http://yann.lecun.com/exdb/mnist/t10k-images-idx3-ubyte.gz\n",
            "Downloading http://yann.lecun.com/exdb/mnist/t10k-images-idx3-ubyte.gz to ./data/MNIST/raw/t10k-images-idx3-ubyte.gz\n"
          ]
        },
        {
          "output_type": "display_data",
          "data": {
            "text/plain": [
              "  0%|          | 0/1648877 [00:00<?, ?it/s]"
            ],
            "application/vnd.jupyter.widget-view+json": {
              "version_major": 2,
              "version_minor": 0,
              "model_id": "e2adec04071348f1aa793e38f00e1e74"
            }
          },
          "metadata": {}
        },
        {
          "output_type": "stream",
          "name": "stdout",
          "text": [
            "Extracting ./data/MNIST/raw/t10k-images-idx3-ubyte.gz to ./data/MNIST/raw\n",
            "\n",
            "Downloading http://yann.lecun.com/exdb/mnist/t10k-labels-idx1-ubyte.gz\n",
            "Downloading http://yann.lecun.com/exdb/mnist/t10k-labels-idx1-ubyte.gz to ./data/MNIST/raw/t10k-labels-idx1-ubyte.gz\n"
          ]
        },
        {
          "output_type": "display_data",
          "data": {
            "text/plain": [
              "  0%|          | 0/4542 [00:00<?, ?it/s]"
            ],
            "application/vnd.jupyter.widget-view+json": {
              "version_major": 2,
              "version_minor": 0,
              "model_id": "edc8bca59d9b49b8907d58b0a5fb1a42"
            }
          },
          "metadata": {}
        },
        {
          "output_type": "stream",
          "name": "stdout",
          "text": [
            "Extracting ./data/MNIST/raw/t10k-labels-idx1-ubyte.gz to ./data/MNIST/raw\n",
            "\n"
          ]
        }
      ],
      "source": [
        "transform = transforms.Compose([\n",
        "                transforms.ToTensor(),\n",
        "                transforms.Normalize((0.5,),(0.5,))\n",
        "                ])\n",
        "to_image = transforms.ToPILImage()\n",
        "trainset = MNIST(root='./data/', train=True, download=True, transform=transform)\n",
        "trainloader = DataLoader(trainset, batch_size=100, shuffle=True)\n"
      ]
    },
    {
      "cell_type": "code",
      "execution_count": null,
      "metadata": {
        "id": "KrlE3kqNCrNv"
      },
      "outputs": [],
      "source": [
        "def show_images(images):\n",
        "    fig, ax = plt.subplots(figsize=(20, 20))\n",
        "    ax.set_xticks([]); ax.set_yticks([])\n",
        "    ax.imshow(make_grid(images.detach(), nrow=22).permute(1, 2, 0))\n",
        "\n",
        "def show_batch(dl):\n",
        "    for images, _ in dl:\n",
        "        show_images(images)\n",
        "        break"
      ]
    },
    {
      "cell_type": "code",
      "execution_count": null,
      "metadata": {
        "colab": {
          "base_uri": "https://localhost:8080/",
          "height": 242
        },
        "id": "Qo9-35iEDl63",
        "outputId": "102d956b-45f6-43a0-fb2d-1de7d3dfe554"
      },
      "outputs": [
        {
          "output_type": "stream",
          "name": "stderr",
          "text": [
            "Clipping input data to the valid range for imshow with RGB data ([0..1] for floats or [0..255] for integers).\n"
          ]
        },
        {
          "output_type": "display_data",
          "data": {
            "text/plain": [
              "<Figure size 1440x1440 with 1 Axes>"
            ],
            "image/png": "[encoded data removed]"
          },
          "metadata": {}
        }
      ],
      "source": [
        "import numpy as np\n",
        "from matplotlib import pyplot as plt\n",
        "show_batch(trainloader)"
      ]
    },
    {
      "cell_type": "code",
      "execution_count": null,
      "metadata": {
        "colab": {
          "base_uri": "https://localhost:8080/"
        },
        "id": "TCHYCPd7e8wT",
        "outputId": "9b315c24-c1fe-41ad-eef5-c64013fdc80a"
      },
      "outputs": [
        {
          "output_type": "stream",
          "name": "stdout",
          "text": [
            "cuda\n"
          ]
        }
      ],
      "source": [
        "device = torch.device('cuda' if torch.cuda.is_available() else 'cpu')\n",
        "print(device)"
      ]
    },
    {
      "cell_type": "code",
      "execution_count": null,
      "metadata": {
        "id": "7Rj3PmQUewCU"
      },
      "outputs": [],
      "source": [
        "class Generator(nn.Module):\n",
        "    def __init__(self):\n",
        "        super(Generator, self).__init__()\n",
        "        self.n_features = 128\n",
        "        self.n_out = 784\n",
        "        self.fc0 = nn.Sequential(\n",
        "                    nn.Linear(self.n_features, 256),\n",
        "                    nn.LeakyReLU(0.2)\n",
        "                    )\n",
        "        self.fc1 = nn.Sequential(\n",
        "                    nn.Linear(256, 512),\n",
        "                    nn.LeakyReLU(0.2)\n",
        "                    )\n",
        "        self.fc2 = nn.Sequential(\n",
        "                    nn.Linear(512, 1024),\n",
        "                    nn.LeakyReLU(0.2)\n",
        "                    )\n",
        "        self.fc3 = nn.Sequential(\n",
        "                    nn.Linear(1024, self.n_out),\n",
        "                    nn.Tanh()\n",
        "                    )\n",
        "    def forward(self, x):\n",
        "        x = self.fc0(x)\n",
        "        x = self.fc1(x)\n",
        "        x = self.fc2(x)\n",
        "        x = self.fc3(x)\n",
        "        x = x.view(-1, 1, 28, 28)\n",
        "        return x\n",
        "\n",
        "class Discriminator(nn.Module):\n",
        "    def __init__(self):\n",
        "        super(Discriminator, self).__init__()\n",
        "        self.n_in = 784\n",
        "        self.n_out = 1\n",
        "        self.fc0 = nn.Sequential(\n",
        "                    nn.Linear(self.n_in, 1024),\n",
        "                    nn.LeakyReLU(0.2),\n",
        "                    nn.Dropout(0.3)\n",
        "                    )\n",
        "        self.fc1 = nn.Sequential(\n",
        "                    nn.Linear(1024, 512),\n",
        "                    nn.LeakyReLU(0.2),\n",
        "                    nn.Dropout(0.3)\n",
        "                    )\n",
        "        self.fc2 = nn.Sequential(\n",
        "                    nn.Linear(512, 256),\n",
        "                    nn.LeakyReLU(0.2),\n",
        "                    nn.Dropout(0.3)\n",
        "                    )\n",
        "        self.fc3 = nn.Sequential(\n",
        "                    nn.Linear(256, self.n_out),\n",
        "                    nn.Sigmoid()\n",
        "                    )\n",
        "    def forward(self, x):\n",
        "        x = x.view(-1, 784)\n",
        "        x = self.fc0(x)\n",
        "        x = self.fc1(x)\n",
        "        x = self.fc2(x)\n",
        "        x = self.fc3(x)\n",
        "        return x"
      ]
    },
    {
      "cell_type": "code",
      "execution_count": null,
      "metadata": {
        "id": "BZOnIDLbexdU"
      },
      "outputs": [],
      "source": [
        "generator = Generator()\n",
        "discriminator = Discriminator()\n",
        "\n",
        "generator.to(device)\n",
        "discriminator.to(device)\n",
        "\n",
        "g_optim = optim.Adam(generator.parameters(), lr=2e-4)\n",
        "d_optim = optim.Adam(discriminator.parameters(), lr=2e-4)\n",
        "\n",
        "g_losses = []\n",
        "d_losses = []\n",
        "images = []\n",
        "\n",
        "criterion = nn.BCELoss()\n",
        "\n",
        "def noise(n, n_features=128):\n",
        "    return Variable(torch.randn(n, n_features)).to(device)\n",
        "\n",
        "def make_ones(size):\n",
        "    data = Variable(torch.ones(size, 1))\n",
        "    return data.to(device)\n",
        "\n",
        "def make_zeros(size):\n",
        "    data = Variable(torch.zeros(size, 1))\n",
        "    return data.to(device)"
      ]
    },
    {
      "cell_type": "code",
      "execution_count": null,
      "metadata": {
        "id": "-PLGodZKe0LF"
      },
      "outputs": [],
      "source": [
        "def train_discriminator(optimizer, real_data, fake_data):\n",
        "    n = real_data.size(0)\n",
        "\n",
        "    optimizer.zero_grad()\n",
        "    \n",
        "    prediction_real = discriminator(real_data)\n",
        "    error_real = criterion(prediction_real, make_ones(n))\n",
        "    error_real.backward()\n",
        "\n",
        "    prediction_fake = discriminator(fake_data)\n",
        "    error_fake = criterion(prediction_fake, make_zeros(n))\n",
        "    \n",
        "    error_fake.backward()\n",
        "    optimizer.step()\n",
        "    \n",
        "    return error_real + error_fake\n",
        "\n",
        "def train_generator(optimizer, fake_data):\n",
        "    n = fake_data.size(0)\n",
        "    optimizer.zero_grad()\n",
        "    \n",
        "    prediction = discriminator(fake_data)\n",
        "    error = criterion(prediction, make_ones(n))\n",
        "    \n",
        "    error.backward()\n",
        "    optimizer.step()\n",
        "    \n",
        "    return error"
      ]
    },
    {
      "cell_type": "code",
      "execution_count": null,
      "metadata": {
        "colab": {
          "base_uri": "https://localhost:8080/"
        },
        "id": "wnTKrY8TfT75",
        "outputId": "7c486786-1d61-4a58-d839-0d4966e7d2ce"
      },
      "outputs": [
        {
          "output_type": "stream",
          "name": "stdout",
          "text": [
            "Epoch 0: g_loss: 4.28881598 d_loss: 0.61493433\n",
            "Epoch 1: g_loss: 3.18285847 d_loss: 0.81273359\n",
            "Epoch 2: g_loss: 2.65359759 d_loss: 0.67045408\n",
            "Epoch 3: g_loss: 3.25395703 d_loss: 0.45565554\n",
            "Epoch 4: g_loss: 3.30384541 d_loss: 0.42980799\n",
            "Epoch 5: g_loss: 3.10226822 d_loss: 0.46786442\n",
            "Epoch 6: g_loss: 2.78458548 d_loss: 0.54280901\n",
            "Epoch 7: g_loss: 2.75181794 d_loss: 0.54050595\n",
            "Epoch 8: g_loss: 2.56155443 d_loss: 0.57935297\n",
            "Epoch 9: g_loss: 2.46769238 d_loss: 0.62335789\n",
            "Epoch 10: g_loss: 2.28667068 d_loss: 0.66005188\n",
            "Epoch 11: g_loss: 2.23463678 d_loss: 0.71634191\n",
            "Epoch 12: g_loss: 2.18237901 d_loss: 0.73440939\n",
            "Epoch 13: g_loss: 1.95475817 d_loss: 0.78855777\n",
            "Epoch 14: g_loss: 1.89834416 d_loss: 0.83369547\n",
            "Epoch 15: g_loss: 1.84511244 d_loss: 0.82356894\n",
            "Epoch 16: g_loss: 1.78704536 d_loss: 0.84981620\n",
            "Epoch 17: g_loss: 1.85393870 d_loss: 0.80606955\n",
            "Epoch 18: g_loss: 1.78784764 d_loss: 0.86750865\n",
            "Epoch 19: g_loss: 1.84315729 d_loss: 0.83471382\n",
            "Epoch 20: g_loss: 1.77962983 d_loss: 0.85453832\n",
            "Epoch 21: g_loss: 1.70414650 d_loss: 0.87115079\n",
            "Epoch 22: g_loss: 1.60498571 d_loss: 0.92085636\n",
            "Epoch 23: g_loss: 1.58856165 d_loss: 0.93157476\n",
            "Epoch 24: g_loss: 1.57270479 d_loss: 0.94579309\n",
            "Epoch 25: g_loss: 1.47907126 d_loss: 0.97448480\n",
            "Epoch 26: g_loss: 1.52982891 d_loss: 0.95943058\n",
            "Epoch 27: g_loss: 1.50754058 d_loss: 0.95484722\n",
            "Epoch 28: g_loss: 1.40925801 d_loss: 0.99562502\n",
            "Epoch 29: g_loss: 1.43011200 d_loss: 0.99341732\n",
            "Epoch 30: g_loss: 1.39494598 d_loss: 1.01681614\n",
            "Epoch 31: g_loss: 1.38301969 d_loss: 1.01559401\n",
            "Epoch 32: g_loss: 1.34121776 d_loss: 1.02868474\n",
            "Epoch 33: g_loss: 1.32991505 d_loss: 1.03718388\n",
            "Epoch 34: g_loss: 1.30160916 d_loss: 1.04812431\n",
            "Epoch 35: g_loss: 1.26372945 d_loss: 1.07638466\n",
            "Epoch 36: g_loss: 1.25827539 d_loss: 1.07498956\n",
            "Epoch 37: g_loss: 1.26184046 d_loss: 1.07624733\n",
            "Epoch 38: g_loss: 1.25719488 d_loss: 1.07998693\n",
            "Epoch 39: g_loss: 1.25610280 d_loss: 1.07427883\n",
            "Epoch 40: g_loss: 1.23645306 d_loss: 1.09144616\n",
            "Epoch 41: g_loss: 1.21563518 d_loss: 1.10833788\n",
            "Epoch 42: g_loss: 1.19631600 d_loss: 1.10476053\n",
            "Epoch 43: g_loss: 1.17383087 d_loss: 1.12488997\n",
            "Epoch 44: g_loss: 1.14527988 d_loss: 1.13461888\n",
            "Epoch 45: g_loss: 1.13292551 d_loss: 1.14209294\n",
            "Epoch 46: g_loss: 1.11725128 d_loss: 1.14655197\n",
            "Epoch 47: g_loss: 1.09742630 d_loss: 1.16236484\n",
            "Epoch 48: g_loss: 1.11402059 d_loss: 1.16264200\n",
            "Epoch 49: g_loss: 1.10975814 d_loss: 1.15785432\n",
            "Epoch 50: g_loss: 1.06980097 d_loss: 1.16969347\n",
            "Epoch 51: g_loss: 1.07966745 d_loss: 1.18770707\n",
            "Epoch 52: g_loss: 1.07986069 d_loss: 1.17668080\n",
            "Epoch 53: g_loss: 1.05670857 d_loss: 1.18484247\n",
            "Epoch 54: g_loss: 1.02706313 d_loss: 1.20175433\n",
            "Epoch 55: g_loss: 1.04570258 d_loss: 1.19245577\n",
            "Epoch 56: g_loss: 1.05001259 d_loss: 1.18750679\n",
            "Epoch 57: g_loss: 1.05424631 d_loss: 1.18864894\n",
            "Epoch 58: g_loss: 1.05030298 d_loss: 1.19022918\n",
            "Epoch 59: g_loss: 1.01463366 d_loss: 1.21197724\n",
            "Epoch 60: g_loss: 1.04515660 d_loss: 1.19838154\n",
            "Epoch 61: g_loss: 1.02449989 d_loss: 1.19973600\n",
            "Epoch 62: g_loss: 1.02713096 d_loss: 1.20277154\n",
            "Epoch 63: g_loss: 1.01661158 d_loss: 1.21147299\n",
            "Epoch 64: g_loss: 1.04548001 d_loss: 1.19117498\n",
            "Epoch 65: g_loss: 1.00592148 d_loss: 1.21225905\n",
            "Epoch 66: g_loss: 1.00198340 d_loss: 1.21768439\n",
            "Epoch 67: g_loss: 1.01134706 d_loss: 1.21342421\n",
            "Epoch 68: g_loss: 1.02472258 d_loss: 1.21832502\n",
            "Epoch 69: g_loss: 0.99293041 d_loss: 1.22009134\n",
            "Epoch 70: g_loss: 0.99965608 d_loss: 1.21599472\n",
            "Epoch 71: g_loss: 0.97878641 d_loss: 1.22968185\n",
            "Epoch 72: g_loss: 0.98683238 d_loss: 1.22839355\n",
            "Epoch 73: g_loss: 0.99849898 d_loss: 1.22359061\n",
            "Epoch 74: g_loss: 0.98599941 d_loss: 1.22615004\n",
            "Epoch 75: g_loss: 0.97769201 d_loss: 1.23947537\n",
            "Epoch 76: g_loss: 0.97276813 d_loss: 1.23912036\n",
            "Epoch 77: g_loss: 0.96827400 d_loss: 1.23861480\n",
            "Epoch 78: g_loss: 0.97766304 d_loss: 1.24468267\n",
            "Epoch 79: g_loss: 0.97680610 d_loss: 1.22970331\n",
            "Epoch 80: g_loss: 0.98102957 d_loss: 1.22987318\n",
            "Epoch 81: g_loss: 0.97935075 d_loss: 1.23530900\n",
            "Epoch 82: g_loss: 0.95805037 d_loss: 1.23575079\n",
            "Epoch 83: g_loss: 0.95713812 d_loss: 1.24035931\n",
            "Epoch 84: g_loss: 0.95495677 d_loss: 1.24554503\n",
            "Epoch 85: g_loss: 0.97201133 d_loss: 1.23917985\n",
            "Epoch 86: g_loss: 0.97859812 d_loss: 1.23438108\n",
            "Epoch 87: g_loss: 0.97291189 d_loss: 1.23949862\n",
            "Epoch 88: g_loss: 0.96411973 d_loss: 1.24165273\n",
            "Epoch 89: g_loss: 0.95929962 d_loss: 1.24245298\n",
            "Epoch 90: g_loss: 0.97957784 d_loss: 1.23587608\n",
            "Epoch 91: g_loss: 0.97356707 d_loss: 1.23236716\n",
            "Epoch 92: g_loss: 0.97468495 d_loss: 1.24031305\n",
            "Epoch 93: g_loss: 0.94761318 d_loss: 1.25007331\n",
            "Epoch 94: g_loss: 0.95200634 d_loss: 1.25324404\n",
            "Epoch 95: g_loss: 0.96389008 d_loss: 1.24142981\n",
            "Epoch 96: g_loss: 0.94100356 d_loss: 1.24571848\n",
            "Epoch 97: g_loss: 0.92979723 d_loss: 1.25462019\n",
            "Epoch 98: g_loss: 0.92926919 d_loss: 1.26153684\n",
            "Epoch 99: g_loss: 0.95137441 d_loss: 1.25449812\n",
            "Epoch 100: g_loss: 0.94192487 d_loss: 1.25735629\n",
            "Epoch 101: g_loss: 0.93409783 d_loss: 1.25442624\n",
            "Epoch 102: g_loss: 0.93416494 d_loss: 1.25408947\n",
            "Epoch 103: g_loss: 0.93124282 d_loss: 1.26299739\n",
            "Epoch 104: g_loss: 0.95536035 d_loss: 1.24834263\n",
            "Epoch 105: g_loss: 0.93863243 d_loss: 1.25730002\n",
            "Epoch 106: g_loss: 0.92976254 d_loss: 1.25175536\n",
            "Epoch 107: g_loss: 0.92670459 d_loss: 1.25808012\n",
            "Epoch 108: g_loss: 0.94210494 d_loss: 1.25710130\n",
            "Epoch 109: g_loss: 0.94006711 d_loss: 1.25207973\n",
            "Epoch 110: g_loss: 0.91714734 d_loss: 1.25818062\n",
            "Epoch 111: g_loss: 0.94566679 d_loss: 1.25631094\n",
            "Epoch 112: g_loss: 0.92118686 d_loss: 1.26088941\n",
            "Epoch 113: g_loss: 0.92366731 d_loss: 1.26234818\n",
            "Epoch 114: g_loss: 0.92587620 d_loss: 1.26644623\n",
            "Epoch 115: g_loss: 0.92459637 d_loss: 1.26888585\n",
            "Epoch 116: g_loss: 0.91147923 d_loss: 1.26683235\n",
            "Epoch 117: g_loss: 0.91628510 d_loss: 1.26690423\n",
            "Epoch 118: g_loss: 0.91833842 d_loss: 1.26357949\n",
            "Epoch 119: g_loss: 0.91019481 d_loss: 1.27177846\n",
            "Epoch 120: g_loss: 0.92229295 d_loss: 1.26913297\n",
            "Epoch 121: g_loss: 0.93285203 d_loss: 1.26317072\n",
            "Epoch 122: g_loss: 0.90955293 d_loss: 1.27096176\n",
            "Epoch 123: g_loss: 0.91003251 d_loss: 1.27010024\n",
            "Epoch 124: g_loss: 0.92475462 d_loss: 1.27257633\n",
            "Epoch 125: g_loss: 0.91317862 d_loss: 1.27589571\n",
            "Epoch 126: g_loss: 0.91411322 d_loss: 1.27426040\n",
            "Epoch 127: g_loss: 0.91034389 d_loss: 1.26932883\n",
            "Epoch 128: g_loss: 0.91082799 d_loss: 1.27246284\n",
            "Epoch 129: g_loss: 0.90630561 d_loss: 1.27504992\n",
            "Epoch 130: g_loss: 0.90155596 d_loss: 1.27263069\n",
            "Epoch 131: g_loss: 0.91763258 d_loss: 1.27732527\n",
            "Epoch 132: g_loss: 0.91575474 d_loss: 1.27069628\n",
            "Epoch 133: g_loss: 0.91426176 d_loss: 1.26706922\n",
            "Epoch 134: g_loss: 0.91664314 d_loss: 1.27269471\n",
            "Epoch 135: g_loss: 0.90837359 d_loss: 1.27430165\n",
            "Epoch 136: g_loss: 0.89734936 d_loss: 1.27498674\n",
            "Epoch 137: g_loss: 0.89720207 d_loss: 1.27753055\n",
            "Epoch 138: g_loss: 0.92820060 d_loss: 1.26329696\n",
            "Epoch 139: g_loss: 0.90066701 d_loss: 1.27789104\n",
            "Epoch 140: g_loss: 0.90551126 d_loss: 1.27187610\n",
            "Epoch 141: g_loss: 0.91410667 d_loss: 1.27460551\n",
            "Epoch 142: g_loss: 0.90539396 d_loss: 1.27410579\n",
            "Epoch 143: g_loss: 0.91886151 d_loss: 1.27100134\n",
            "Epoch 144: g_loss: 0.90498227 d_loss: 1.27127397\n",
            "Epoch 145: g_loss: 0.90515399 d_loss: 1.27347016\n",
            "Epoch 146: g_loss: 0.88726652 d_loss: 1.28046131\n",
            "Epoch 147: g_loss: 0.89685309 d_loss: 1.27463055\n",
            "Epoch 148: g_loss: 0.90095645 d_loss: 1.28390467\n",
            "Epoch 149: g_loss: 0.89962965 d_loss: 1.28045070\n",
            "Epoch 150: g_loss: 0.90477675 d_loss: 1.27696121\n",
            "Epoch 151: g_loss: 0.89608330 d_loss: 1.27497482\n",
            "Epoch 152: g_loss: 0.89838111 d_loss: 1.27603590\n",
            "Epoch 153: g_loss: 0.89403981 d_loss: 1.27656329\n",
            "Epoch 154: g_loss: 0.89389449 d_loss: 1.28174436\n",
            "Epoch 155: g_loss: 0.88399130 d_loss: 1.28495777\n",
            "Epoch 156: g_loss: 0.90525204 d_loss: 1.27591336\n",
            "Epoch 157: g_loss: 0.90537488 d_loss: 1.27752197\n",
            "Epoch 158: g_loss: 0.91399205 d_loss: 1.27515447\n",
            "Epoch 159: g_loss: 0.89863586 d_loss: 1.27437735\n",
            "Epoch 160: g_loss: 0.89531696 d_loss: 1.28040719\n",
            "Epoch 161: g_loss: 0.89453477 d_loss: 1.27942872\n",
            "Epoch 162: g_loss: 0.89486307 d_loss: 1.28084183\n",
            "Epoch 163: g_loss: 0.89829189 d_loss: 1.27405763\n",
            "Epoch 164: g_loss: 0.88963437 d_loss: 1.28280616\n",
            "Epoch 165: g_loss: 0.89584458 d_loss: 1.28029525\n",
            "Epoch 166: g_loss: 0.88264894 d_loss: 1.28562796\n",
            "Epoch 167: g_loss: 0.89228761 d_loss: 1.28588176\n",
            "Epoch 168: g_loss: 0.89535838 d_loss: 1.27971172\n",
            "Epoch 169: g_loss: 0.88633448 d_loss: 1.28051400\n",
            "Epoch 170: g_loss: 0.89507067 d_loss: 1.28056645\n",
            "Epoch 171: g_loss: 0.89991140 d_loss: 1.27885056\n",
            "Epoch 172: g_loss: 0.88578707 d_loss: 1.28149402\n",
            "Epoch 173: g_loss: 0.88362986 d_loss: 1.28102601\n",
            "Epoch 174: g_loss: 0.89243639 d_loss: 1.28007603\n",
            "Epoch 175: g_loss: 0.89551443 d_loss: 1.27849102\n",
            "Epoch 176: g_loss: 0.88736594 d_loss: 1.28534961\n",
            "Epoch 177: g_loss: 0.87932229 d_loss: 1.28353667\n",
            "Epoch 178: g_loss: 0.89149046 d_loss: 1.28197849\n",
            "Epoch 179: g_loss: 0.89414656 d_loss: 1.28134906\n",
            "Epoch 180: g_loss: 0.89721572 d_loss: 1.28063118\n",
            "Epoch 181: g_loss: 0.89211631 d_loss: 1.27917159\n",
            "Epoch 182: g_loss: 0.88940561 d_loss: 1.28123629\n",
            "Epoch 183: g_loss: 0.87380749 d_loss: 1.28638470\n",
            "Epoch 184: g_loss: 0.88935018 d_loss: 1.28400266\n",
            "Epoch 185: g_loss: 0.87436974 d_loss: 1.28647673\n",
            "Epoch 186: g_loss: 0.88253677 d_loss: 1.28493464\n",
            "Epoch 187: g_loss: 0.89817202 d_loss: 1.27948654\n",
            "Epoch 188: g_loss: 0.90171832 d_loss: 1.27799082\n",
            "Epoch 189: g_loss: 0.88546234 d_loss: 1.28187072\n",
            "Epoch 190: g_loss: 0.89340836 d_loss: 1.28039932\n",
            "Epoch 191: g_loss: 0.88692212 d_loss: 1.28275025\n",
            "Epoch 192: g_loss: 0.90279311 d_loss: 1.28188121\n",
            "Epoch 193: g_loss: 0.90509611 d_loss: 1.27257788\n",
            "Epoch 194: g_loss: 0.87485915 d_loss: 1.28481042\n",
            "Epoch 195: g_loss: 0.88896501 d_loss: 1.28174233\n",
            "Epoch 196: g_loss: 0.89599323 d_loss: 1.28280938\n",
            "Epoch 197: g_loss: 0.88885504 d_loss: 1.28642046\n",
            "Epoch 198: g_loss: 0.89054286 d_loss: 1.28114045\n",
            "Epoch 199: g_loss: 0.87677771 d_loss: 1.28687310\n",
            "Epoch 200: g_loss: 0.88627648 d_loss: 1.28584313\n",
            "Epoch 201: g_loss: 0.89697641 d_loss: 1.28284538\n",
            "Epoch 202: g_loss: 0.88373929 d_loss: 1.28548229\n",
            "Epoch 203: g_loss: 0.89262754 d_loss: 1.28101647\n",
            "Epoch 204: g_loss: 0.88095617 d_loss: 1.28327477\n",
            "Epoch 205: g_loss: 0.88571727 d_loss: 1.28445423\n",
            "Epoch 206: g_loss: 0.88686049 d_loss: 1.28303885\n",
            "Epoch 207: g_loss: 0.87929201 d_loss: 1.28597903\n",
            "Epoch 208: g_loss: 0.88080555 d_loss: 1.28454506\n",
            "Epoch 209: g_loss: 0.88598633 d_loss: 1.28505671\n",
            "Epoch 210: g_loss: 0.88883221 d_loss: 1.28209567\n",
            "Epoch 211: g_loss: 0.87535721 d_loss: 1.28681839\n",
            "Epoch 212: g_loss: 0.87966138 d_loss: 1.28669095\n",
            "Epoch 213: g_loss: 0.88285464 d_loss: 1.28654170\n",
            "Epoch 214: g_loss: 0.88188094 d_loss: 1.28656530\n",
            "Epoch 215: g_loss: 0.88480139 d_loss: 1.28727162\n",
            "Epoch 216: g_loss: 0.87809616 d_loss: 1.28576231\n",
            "Epoch 217: g_loss: 0.87194335 d_loss: 1.29091060\n",
            "Epoch 218: g_loss: 0.88032198 d_loss: 1.28596675\n",
            "Epoch 219: g_loss: 0.88254726 d_loss: 1.28749108\n",
            "Epoch 220: g_loss: 0.88701159 d_loss: 1.28508842\n",
            "Epoch 221: g_loss: 0.86848152 d_loss: 1.29123497\n",
            "Epoch 222: g_loss: 0.88101149 d_loss: 1.28838634\n",
            "Epoch 223: g_loss: 0.88315350 d_loss: 1.28847468\n",
            "Epoch 224: g_loss: 0.88219613 d_loss: 1.28585994\n",
            "Epoch 225: g_loss: 0.87133074 d_loss: 1.29295254\n",
            "Epoch 226: g_loss: 0.87304622 d_loss: 1.28889799\n",
            "Epoch 227: g_loss: 0.87429148 d_loss: 1.28835392\n",
            "Epoch 228: g_loss: 0.85989177 d_loss: 1.29825950\n",
            "Epoch 229: g_loss: 0.88341612 d_loss: 1.28967297\n",
            "Epoch 230: g_loss: 0.88296044 d_loss: 1.28254521\n",
            "Epoch 231: g_loss: 0.86590153 d_loss: 1.29580474\n",
            "Epoch 232: g_loss: 0.89023513 d_loss: 1.29010272\n",
            "Epoch 233: g_loss: 0.88538808 d_loss: 1.28286338\n",
            "Epoch 234: g_loss: 0.88550097 d_loss: 1.28573477\n",
            "Epoch 235: g_loss: 0.86616087 d_loss: 1.29018462\n",
            "Epoch 236: g_loss: 0.87803358 d_loss: 1.29168093\n",
            "Epoch 237: g_loss: 0.87643743 d_loss: 1.29110384\n",
            "Epoch 238: g_loss: 0.87040216 d_loss: 1.29011142\n",
            "Epoch 239: g_loss: 0.87758064 d_loss: 1.28886724\n",
            "Epoch 240: g_loss: 0.87498307 d_loss: 1.29016674\n",
            "Epoch 241: g_loss: 0.86758304 d_loss: 1.29382873\n",
            "Epoch 242: g_loss: 0.86819470 d_loss: 1.29422390\n",
            "Epoch 243: g_loss: 0.89047194 d_loss: 1.29276645\n",
            "Epoch 244: g_loss: 0.87643784 d_loss: 1.29033899\n",
            "Epoch 245: g_loss: 0.88016868 d_loss: 1.28988564\n",
            "Epoch 246: g_loss: 0.86942685 d_loss: 1.29342246\n",
            "Epoch 247: g_loss: 0.86610353 d_loss: 1.29131806\n",
            "Epoch 248: g_loss: 0.87482280 d_loss: 1.29090977\n",
            "Epoch 249: g_loss: 0.86859840 d_loss: 1.29604411\n",
            "Training Finished\n"
          ]
        }
      ],
      "source": [
        "num_epochs = 250\n",
        "k = 1\n",
        "test_noise = noise(64)\n",
        "\n",
        "generator.train()\n",
        "discriminator.train()\n",
        "for epoch in range(num_epochs):\n",
        "    g_error = 0.0\n",
        "    d_error = 0.0\n",
        "    for i, data in enumerate(trainloader):\n",
        "        imgs, _ = data\n",
        "        n = len(imgs)\n",
        "        for j in range(k):\n",
        "            fake_data = generator(noise(n)).detach()\n",
        "            real_data = imgs.to(device)\n",
        "            d_error += train_discriminator(d_optim, real_data, fake_data)\n",
        "        fake_data = generator(noise(n))\n",
        "        g_error += train_generator(g_optim, fake_data)\n",
        "\n",
        "    img = generator(test_noise).cpu().detach()\n",
        "    img = make_grid(img)\n",
        "    images.append(img)\n",
        "    g_losses.append(g_error/i)\n",
        "    d_losses.append(d_error/i)\n",
        "    print('Epoch {}: g_loss: {:.8f} d_loss: {:.8f}\\r'.format(epoch, g_error/i, d_error/i))\n",
        "    \n",
        "print('Training Finished')\n",
        "torch.save(generator.state_dict(), 'mnist_generator.pth')"
      ]
    },
    {
      "cell_type": "code",
      "execution_count": null,
      "metadata": {
        "id": "tp1GLSVvfUZI"
      },
      "outputs": [],
      "source": [
        "import numpy as np\n",
        "from matplotlib import pyplot as plt\n",
        "imgs = [np.array(to_image(i)) for i in images]\n",
        "imageio.mimsave('progress.gif', imgs)"
      ]
    },
    {
      "cell_type": "code",
      "execution_count": null,
      "metadata": {
        "colab": {
          "base_uri": "https://localhost:8080/"
        },
        "id": "x-Pnvg96vaq0",
        "outputId": "847f4084-9c36-41a9-b4fb-bf6bfae2d383"
      },
      "outputs": [
        {
          "output_type": "stream",
          "name": "stdout",
          "text": [
            "<class 'list'>\n",
            "<class 'torch.Tensor'>\n",
            "<class 'list'>\n",
            "<class 'torch.Tensor'>\n"
          ]
        }
      ],
      "source": [
        "print(type(g_losses))\n",
        "g_losses_T = torch.tensor(g_losses)\n",
        "print(type(g_losses_T))\n",
        "\n",
        "print(type(d_losses))\n",
        "d_losses_T = torch.tensor(d_losses)\n",
        "print(type(d_losses_T))"
      ]
    },
    {
      "cell_type": "code",
      "execution_count": null,
      "metadata": {
        "colab": {
          "base_uri": "https://localhost:8080/",
          "height": 265
        },
        "id": "HiVeQHwOf_zG",
        "outputId": "d0711746-3e9e-411c-8173-c8abc4ac1afd"
      },
      "outputs": [
        {
          "output_type": "display_data",
          "data": {
            "text/plain": [
              "<Figure size 432x288 with 1 Axes>"
            ],
            "image/png": "[encoded data removed]"
          },
          "metadata": {
            "needs_background": "light"
          }
        }
      ],
      "source": [
        "plt.plot(g_losses_T, label='Generator_Losses')\n",
        "plt.plot(d_losses_T, label='Discriminator Losses')\n",
        "plt.legend()\n",
        "plt.savefig('loss.png')"
      ]
    },
    {
      "cell_type": "code",
      "execution_count": null,
      "metadata": {
        "id": "bhkQoXq1ALn0",
        "colab": {
          "base_uri": "https://localhost:8080/"
        },
        "outputId": "969605bb-4f5d-4ea0-9637-79e4e9dc8a3c"
      },
      "outputs": [
        {
          "output_type": "stream",
          "name": "stdout",
          "text": [
            "tensor(4.2888, device='cuda:0', grad_fn=<DivBackward0>)\n",
            "tensor(0.8686, device='cuda:0', grad_fn=<DivBackward0>)\n",
            "tensor(0.6149, device='cuda:0', grad_fn=<DivBackward0>)\n",
            "tensor(1.2960, device='cuda:0', grad_fn=<DivBackward0>)\n"
          ]
        }
      ],
      "source": [
        "print(g_losses[0])\n",
        "print(g_losses[-1])\n",
        "\n",
        "print(d_losses[0])\n",
        "print(d_losses[-1])"
      ]
    },
    {
      "cell_type": "code",
      "execution_count": null,
      "metadata": {
        "colab": {
          "base_uri": "https://localhost:8080/",
          "height": 393
        },
        "id": "HUevcBbbzn7J",
        "outputId": "756caf4f-c7a4-4675-86c4-c50d047956ee"
      },
      "outputs": [
        {
          "output_type": "stream",
          "name": "stderr",
          "text": [
            "/usr/local/lib/python3.7/dist-packages/ipykernel_launcher.py:3: UserWarning: The use of `x.T` on tensors of dimension other than 2 to reverse their shape is deprecated and it will throw an error in a future release. Consider `x.mT` to transpose batches of matricesor `x.permute(*torch.arange(x.ndim - 1, -1, -1))` to reverse the dimensions of a tensor. (Triggered internally at  ../aten/src/ATen/native/TensorShape.cpp:2318.)\n",
            "  This is separate from the ipykernel package so we can avoid doing imports until\n",
            "Clipping input data to the valid range for imshow with RGB data ([0..1] for floats or [0..255] for integers).\n"
          ]
        },
        {
          "output_type": "stream",
          "name": "stdout",
          "text": [
            "<class 'torch.Tensor'>\n",
            "torch.Size([3, 242, 242])\n"
          ]
        },
        {
          "output_type": "execute_result",
          "data": {
            "text/plain": [
              "<matplotlib.image.AxesImage at 0x7fda900c2f10>"
            ]
          },
          "metadata": {},
          "execution_count": 18
        },
        {
          "output_type": "display_data",
          "data": {
            "text/plain": [
              "<Figure size 432x288 with 1 Axes>"
            ],
            "image/png": "[encoded data removed]"
          },
          "metadata": {
            "needs_background": "light"
          }
        }
      ],
      "source": [
        "print(type(images[0]))\n",
        "print(images[0].shape)\n",
        "plt.imshow(images[249].T)"
      ]
    },
    {
      "cell_type": "code",
      "execution_count": null,
      "metadata": {
        "id": "4GsFxcRG5lOl"
      },
      "outputs": [],
      "source": [
        "# helper function for viewing a list of passed in sample images\n",
        "def view_samples(epoch, samples):\n",
        "    fig, axes = plt.subplots(figsize=(7,7), nrows=4, ncols=4, sharey=True, sharex=True)\n",
        "    for ax, img in zip(axes.flatten(), samples[epoch]):\n",
        "        img = img.detach()\n",
        "        ax.xaxis.set_visible(False)\n",
        "        ax.yaxis.set_visible(False)\n",
        "        im = ax.imshow(img.reshape((28,28)), cmap='Greys_r')"
      ]
    },
    {
      "cell_type": "code",
      "execution_count": null,
      "metadata": {
        "colab": {
          "base_uri": "https://localhost:8080/"
        },
        "id": "nci5brb15rOG",
        "outputId": "07b7d6d0-110f-4fa0-a9df-848ea2f03377"
      },
      "outputs": [
        {
          "output_type": "stream",
          "name": "stdout",
          "text": [
            "<class 'torch.Tensor'>\n"
          ]
        }
      ],
      "source": [
        "# randomly generated, new latent vectors\n",
        "sample_size=16\n",
        "rand_z = noise(sample_size)\n",
        "\n",
        "\n",
        "generator.eval()# eval mode\n",
        "# generated samples\n",
        "rand_images = generator(rand_z)\n",
        "rand_images_T = rand_images.cpu().detach()\n",
        "rand_z = rand_z.cpu().detach()\n",
        "print(type(rand_images_T))\n"
      ]
    },
    {
      "cell_type": "code",
      "execution_count": null,
      "metadata": {
        "colab": {
          "base_uri": "https://localhost:8080/",
          "height": 415
        },
        "id": "8iuFSJzR87Gj",
        "outputId": "b0a0e172-8840-49c1-f501-fb47f785a81e"
      },
      "outputs": [
        {
          "output_type": "display_data",
          "data": {
            "text/plain": [
              "<Figure size 504x504 with 16 Axes>"
            ],
            "image/png": "[encoded data removed]"
          },
          "metadata": {
            "needs_background": "light"
          }
        }
      ],
      "source": [
        "view_samples(-1, [rand_images_T])"
      ]
    },
    {
      "cell_type": "markdown",
      "metadata": {
        "id": "BXCeRJt6gb_O"
      },
      "source": [
        "DCGAN"
      ]
    },
    {
      "cell_type": "code",
      "execution_count": null,
      "metadata": {
        "id": "8AXveF4RjMh5"
      },
      "outputs": [],
      "source": [
        "transform = transforms.Compose([\n",
        "                transforms.Resize((64, 64)),\n",
        "                transforms.ToTensor(),\n",
        "                transforms.Normalize((0.5,),(0.5,))\n",
        "                ])\n",
        "to_image = transforms.ToPILImage()\n",
        "trainset = MNIST(root='./data/', train=True, download=True, transform=transform)\n",
        "trainloader = DataLoader(trainset, batch_size=100, shuffle=True)\n"
      ]
    },
    {
      "cell_type": "code",
      "execution_count": null,
      "metadata": {
        "id": "NFiFCtC8Cdjk"
      },
      "outputs": [],
      "source": [
        "def show_images(images):\n",
        "    fig, ax = plt.subplots(figsize=(20, 20))\n",
        "    ax.set_xticks([]); ax.set_yticks([])\n",
        "    ax.imshow(make_grid(images.detach(), nrow=22).permute(1, 2, 0))\n",
        "\n",
        "def show_batch(dl):\n",
        "    for images, _ in dl:\n",
        "        show_images(images)\n",
        "        break"
      ]
    },
    {
      "cell_type": "code",
      "execution_count": null,
      "metadata": {
        "colab": {
          "base_uri": "https://localhost:8080/",
          "height": 306
        },
        "id": "BFHGCEO-Et9t",
        "outputId": "7b9e8e22-7d3a-446e-c049-acdfc7830847"
      },
      "outputs": [
        {
          "name": "stderr",
          "output_type": "stream",
          "text": [
            "Clipping input data to the valid range for imshow with RGB data ([0..1] for floats or [0..255] for integers).\n"
          ]
        },
        {
          "data": {
            "image/png": "[encoded data removed]",
            "text/plain": [
              "<Figure size 1440x1440 with 1 Axes>"
            ]
          },
          "metadata": {},
          "output_type": "display_data"
        }
      ],
      "source": [
        "show_batch(trainloader)"
      ]
    },
    {
      "cell_type": "code",
      "execution_count": null,
      "metadata": {
        "id": "PPgUPGX2Nrtv"
      },
      "outputs": [],
      "source": [
        "latent_dim = 128"
      ]
    },
    {
      "cell_type": "code",
      "execution_count": null,
      "metadata": {
        "id": "eYwUSsubgdni"
      },
      "outputs": [],
      "source": [
        "# Generator Model Class Definition      \n",
        "class Generator(nn.Module):\n",
        "    def __init__(self):\n",
        "        super(Generator, self).__init__()\n",
        "        self.main = nn.Sequential(\n",
        "            # Block 1:input is Z, going into a convolution\n",
        "            nn.ConvTranspose2d(latent_dim, 64 * 8, 4, 1, 0, bias=False),\n",
        "            nn.BatchNorm2d(64 * 8),\n",
        "            nn.ReLU(True),\n",
        "            # Block 2: (64 * 8) x 4 x 4\n",
        "            nn.ConvTranspose2d(64 * 8, 64 * 4, 4, 2, 1, bias=False),\n",
        "            nn.BatchNorm2d(64 * 4),\n",
        "            nn.ReLU(True),\n",
        "            # Block 3: (64 * 4) x 8 x 8\n",
        "            nn.ConvTranspose2d(64 * 4, 64 * 2, 4, 2, 1, bias=False),\n",
        "            nn.BatchNorm2d(64 * 2),\n",
        "            nn.ReLU(True),\n",
        "            # Block 4: (64 * 2) x 16 x 16\n",
        "            nn.ConvTranspose2d(64 * 2, 64, 4, 2, 1, bias=False),\n",
        "            nn.BatchNorm2d(64),\n",
        "            nn.ReLU(True),\n",
        "            # Block 5: (64) x 32 x 32\n",
        "            nn.ConvTranspose2d(64, 1, 4, 2, 1, bias=False),\n",
        "            nn.Tanh()\n",
        "            # Output: (3) x 64 x 64\n",
        "        )\n",
        "\n",
        "    def forward(self, input):\n",
        "        output = self.main(input)\n",
        "        return output \n",
        "\n",
        "# Discriminator Model Class Definition\n",
        "class Discriminator(nn.Module):\n",
        "    def __init__(self):\n",
        "        super(Discriminator, self).__init__()\n",
        "        self.main = nn.Sequential(\n",
        "            # Block 1: (3) x 64 x 64\n",
        "            nn.Conv2d(1, 64, 4, 2, 1, bias=False),\n",
        "            nn.LeakyReLU(0.2, inplace=True),\n",
        "            # Block 2: (64) x 32 x 32\n",
        "            nn.Conv2d(64, 64 * 2, 4, 2, 1, bias=False),\n",
        "            nn.BatchNorm2d(64 * 2),\n",
        "            nn.LeakyReLU(0.2, inplace=True),\n",
        "            # Block 3: (64*2) x 16 x 16\n",
        "            nn.Conv2d(64 * 2, 64 * 4, 4, 2, 1, bias=False),\n",
        "            nn.BatchNorm2d(64 * 4),\n",
        "            nn.LeakyReLU(0.2, inplace=True),\n",
        "            # Block 4: (64*4) x 8 x 8\n",
        "            nn.Conv2d(64 * 4, 64 * 8, 4, 2, 1, bias=False),\n",
        "            nn.BatchNorm2d(64 * 8),\n",
        "            nn.LeakyReLU(0.2, inplace=True),\n",
        "            # Block 5: (64*8) x 4 x 4\n",
        "            nn.Conv2d(64 * 8, 1, 4, 1, 0, bias=False),\n",
        "            nn.Sigmoid(),\n",
        "            nn.Flatten()\n",
        "            # Output: 1\n",
        "        )\n",
        "\n",
        "    def forward(self, input):\n",
        "        output = self.main(input)\n",
        "        return output"
      ]
    },
    {
      "cell_type": "code",
      "execution_count": null,
      "metadata": {
        "id": "hpVax0hqiBnm"
      },
      "outputs": [],
      "source": [
        "# custom weights initialization called on gen and disc model\n",
        "def weights_init(m):\n",
        "    classname = m.__class__.__name__\n",
        "    if classname.find('Conv') != -1:\n",
        "        torch.nn.init.normal_(m.weight, 0.0, 0.02)\n",
        "    elif classname.find('BatchNorm') != -1:\n",
        "        torch.nn.init.normal_(m.weight, 1.0, 0.02)\n",
        "        torch.nn.init.zeros_(m.bias)    "
      ]
    },
    {
      "cell_type": "code",
      "execution_count": null,
      "metadata": {
        "colab": {
          "base_uri": "https://localhost:8080/"
        },
        "id": "Ay7b81x5iCrH",
        "outputId": "cdcc563c-36e6-4a2e-e757-518feae8fbec"
      },
      "outputs": [
        {
          "data": {
            "text/plain": [
              "Discriminator(\n",
              "  (main): Sequential(\n",
              "    (0): Conv2d(1, 64, kernel_size=(4, 4), stride=(2, 2), padding=(1, 1), bias=False)\n",
              "    (1): LeakyReLU(negative_slope=0.2, inplace=True)\n",
              "    (2): Conv2d(64, 128, kernel_size=(4, 4), stride=(2, 2), padding=(1, 1), bias=False)\n",
              "    (3): BatchNorm2d(128, eps=1e-05, momentum=0.1, affine=True, track_running_stats=True)\n",
              "    (4): LeakyReLU(negative_slope=0.2, inplace=True)\n",
              "    (5): Conv2d(128, 256, kernel_size=(4, 4), stride=(2, 2), padding=(1, 1), bias=False)\n",
              "    (6): BatchNorm2d(256, eps=1e-05, momentum=0.1, affine=True, track_running_stats=True)\n",
              "    (7): LeakyReLU(negative_slope=0.2, inplace=True)\n",
              "    (8): Conv2d(256, 512, kernel_size=(4, 4), stride=(2, 2), padding=(1, 1), bias=False)\n",
              "    (9): BatchNorm2d(512, eps=1e-05, momentum=0.1, affine=True, track_running_stats=True)\n",
              "    (10): LeakyReLU(negative_slope=0.2, inplace=True)\n",
              "    (11): Conv2d(512, 1, kernel_size=(4, 4), stride=(1, 1), bias=False)\n",
              "    (12): Sigmoid()\n",
              "    (13): Flatten(start_dim=1, end_dim=-1)\n",
              "  )\n",
              ")"
            ]
          },
          "execution_count": 254,
          "metadata": {},
          "output_type": "execute_result"
        }
      ],
      "source": [
        "generator = Generator().to(device)\n",
        "generator.apply(weights_init)\n",
        "discriminator = Discriminator().to(device)\n",
        "discriminator.apply(weights_init)"
      ]
    },
    {
      "cell_type": "code",
      "execution_count": null,
      "metadata": {
        "id": "ZyXxO_TZ_GzS"
      },
      "outputs": [],
      "source": [
        "g_optim = optim.Adam(generator.parameters(), lr=2e-4)\n",
        "d_optim = optim.Adam(discriminator.parameters(), lr=2e-4)\n",
        "\n",
        "g_losses = []\n",
        "d_losses = []\n",
        "images = []\n",
        "\n",
        "criterion = nn.BCELoss()\n",
        "\n",
        "def noise(n, n_features=128):\n",
        "    return Variable(torch.randn(n, n_features,1,1)).to(device)\n",
        "\n",
        "def make_ones(size):\n",
        "    data = Variable(torch.ones(size, 1))\n",
        "    return data.to(device)\n",
        "\n",
        "def make_zeros(size):\n",
        "    data = Variable(torch.zeros(size, 1))\n",
        "    return data.to(device)"
      ]
    },
    {
      "cell_type": "code",
      "execution_count": null,
      "metadata": {
        "id": "uq2rBRSP_aCT"
      },
      "outputs": [],
      "source": [
        "def train_discriminator(optimizer, real_data, fake_data):\n",
        "    n = real_data.size(0)\n",
        "\n",
        "    optimizer.zero_grad()\n",
        "    \n",
        "    prediction_real = discriminator(real_data)\n",
        "    error_real = criterion(prediction_real, make_ones(n))\n",
        "    error_real.backward()\n",
        "\n",
        "    prediction_fake = discriminator(fake_data)\n",
        "    error_fake = criterion(prediction_fake, make_zeros(n))\n",
        "    \n",
        "    error_fake.backward()\n",
        "    optimizer.step()\n",
        "    \n",
        "    return error_real + error_fake\n",
        "\n",
        "def train_generator(optimizer, fake_data):\n",
        "    n = fake_data.size(0)\n",
        "    optimizer.zero_grad()\n",
        "    \n",
        "    prediction = discriminator(fake_data)\n",
        "    error = criterion(prediction, make_ones(n))\n",
        "    \n",
        "    error.backward()\n",
        "    optimizer.step()\n",
        "    \n",
        "    return error"
      ]
    },
    {
      "cell_type": "code",
      "execution_count": null,
      "metadata": {
        "colab": {
          "base_uri": "https://localhost:8080/"
        },
        "id": "m_7pf7Dw_e-r",
        "outputId": "db1c4705-7c56-4a58-fc8d-329dcd31475f"
      },
      "outputs": [
        {
          "name": "stdout",
          "output_type": "stream",
          "text": [
            "Epoch 0: g_loss: 7.04232311 d_loss: 0.06099933\r\n"
          ]
        }
      ],
      "source": [
        "num_epochs = 250\n",
        "k = 1\n",
        "test_noise = noise(1)\n",
        "\n",
        "generator.train()\n",
        "discriminator.train()\n",
        "for epoch in range(num_epochs):\n",
        "    g_error = 0.0\n",
        "    d_error = 0.0\n",
        "    for i, data in enumerate(trainloader):\n",
        "        imgs, _ = data\n",
        "        n = len(imgs)\n",
        "        for j in range(k):\n",
        "            noise_vector = noise(imgs.size(0))  \n",
        "            fake_data = generator(noise_vector).detach()\n",
        "            real_data = imgs.to(device)\n",
        "            d_error += train_discriminator(d_optim, real_data, fake_data)\n",
        "        fake_data = generator(noise_vector)\n",
        "        g_error += train_generator(g_optim, fake_data)\n",
        "\n",
        "    img = generator(test_noise).cpu().detach()\n",
        "    img = make_grid(img)\n",
        "    images.append(img)\n",
        "    g_losses.append(g_error/i)\n",
        "    d_losses.append(d_error/i)\n",
        "    print('Epoch {}: g_loss: {:.8f} d_loss: {:.8f}\\r'.format(epoch, g_error/i, d_error/i))\n",
        "    \n",
        "print('Training Finished')\n",
        "torch.save(generator.state_dict(), 'mnist_generatorDCGAN.pth')"
      ]
    },
    {
      "cell_type": "markdown",
      "metadata": {
        "id": "xWQmZpiVi1Kv"
      },
      "source": [
        "**Conditional GAN**"
      ]
    },
    {
      "cell_type": "code",
      "execution_count": null,
      "metadata": {
        "id": "vcthaNCSosGK"
      },
      "outputs": [],
      "source": [
        "import torch\n",
        "import torch.nn as nn\n",
        "import torch.optim as optim\n",
        "from torch.autograd.variable import Variable\n",
        "from torchvision import transforms\n",
        "from torchvision.datasets import MNIST\n",
        "from torchvision.utils import make_grid\n",
        "from torch.utils.data import DataLoader\n",
        "import imageio\n"
      ]
    },
    {
      "cell_type": "code",
      "execution_count": null,
      "metadata": {
        "colab": {
          "base_uri": "https://localhost:8080/"
        },
        "id": "1PkMdPrmo5bg",
        "outputId": "f6ccd78b-0d71-4c79-8147-f055860e4b26"
      },
      "outputs": [
        {
          "name": "stdout",
          "output_type": "stream",
          "text": [
            "cpu\n"
          ]
        }
      ],
      "source": [
        "device = torch.device('cuda' if torch.cuda.is_available() else 'cpu')\n",
        "print(device)"
      ]
    },
    {
      "cell_type": "code",
      "execution_count": null,
      "metadata": {
        "colab": {
          "base_uri": "https://localhost:8080/"
        },
        "id": "Jgd4epBRrx2u",
        "outputId": "afe49ae2-2141-44aa-88fc-de47bdf74eb3"
      },
      "outputs": [
        {
          "data": {
            "text/plain": [
              "<torch._C.Generator at 0x7f09610bf710>"
            ]
          },
          "execution_count": 3,
          "metadata": {},
          "output_type": "execute_result"
        }
      ],
      "source": [
        "torch.manual_seed(1)"
      ]
    },
    {
      "cell_type": "code",
      "execution_count": null,
      "metadata": {
        "colab": {
          "base_uri": "https://localhost:8080/",
          "height": 423,
          "referenced_widgets": [
            "2a8d4609c82743bbb2800b7fc5147d96",
            "61373edb60b840778b5c9ec1c546cc7c",
            "407cd4b2dec142be82b320046cb00e1e",
            "a54cf2a4fdc64f66885c2a0960befee2",
            "b9f562c71bc6449c94ddfe8e27667265",
            "c62527e4db0446c5ac0bc7b49fc6866e",
            "cd7c069a233643c5b77dd6b31db11671",
            "8dc812af98dc4102a5c2d4abdf24da4a",
            "ce5d5377314f4610a98d75829eeb2edf",
            "0dd78ea0f44140b998c8e1f9385dc6a5",
            "528e2e1cdcd243daad0346f9fd7ab62b",
            "f2507818ac4a4c28ba1b39d8035b208d",
            "ab33eb9570404dddac6e812f0fd87f1e",
            "e44b99b90a284349b1cf91cedb56a13e",
            "9deaedc8b2684cb7a175d9eef0358e8e",
            "74547427a9b04d3f85ad02dec987f94e",
            "755d63098c904f57a3ab52fb6d561e64",
            "d33c3946a188402daf72ee85287f54b5",
            "389932b7e3904e60a14d199e4baf81d3",
            "c4096fd39b1c4de99eba03035890e6a3",
            "3d4caa62bba84338ab75f093ae383b2d",
            "883b1a72b21e460d84d733c8227bfaf7",
            "abd3ad0bcb324bd69d0c15f3caf9ad72",
            "05206942fe324fb080186e318f099d4c",
            "b56ae405e53c436d8ebef01fb306db44",
            "bf4e3da1caab41f88153fa585ef6bd24",
            "5b833f5e5cbb41439717a7c15aaf0854",
            "63cac065d7ca46bfb552cd3693b8108e",
            "b9d6e08589b94bc090f57b5b8520705a",
            "d4451bf0283041109f89a0cf41fd1d20",
            "37516cb9b5d64499b878fa721b00ece0",
            "b9e8a7d624b0438cbb852d12e48414d4",
            "2de9fb45c8474eaca6427810ccb05786",
            "bdc6445a4691478a9bc23f88efcd98b0",
            "3a56bb5dab194f818d2421a945733cfd",
            "ab4bb3172a35438caec8f986d0704d91",
            "e9c1c05c280747ac8378609bb7f1be8c",
            "88b077b63a96432da8fa164764357156",
            "210295deeb174023858b52549d57775a",
            "e493e9fa7c8846ef999ee7fa712b6a81",
            "515d7eab0a814876b8da7af2ce268829",
            "ed5cd89da17c43c1a06c0dd736eba8bb",
            "0886286bc28c4b6399e2815f2e9e45dc",
            "775339facc1e4fdf8355f7cdd8e9cf49"
          ]
        },
        "id": "bvIPPULTi3AH",
        "outputId": "a3ea57f8-d680-4527-daf8-31a42a449407"
      },
      "outputs": [
        {
          "name": "stdout",
          "output_type": "stream",
          "text": [
            "Downloading http://yann.lecun.com/exdb/mnist/train-images-idx3-ubyte.gz\n",
            "Downloading http://yann.lecun.com/exdb/mnist/train-images-idx3-ubyte.gz to ./data/MNIST/raw/train-images-idx3-ubyte.gz\n"
          ]
        },
        {
          "data": {
            "application/vnd.jupyter.widget-view+json": {
              "model_id": "2a8d4609c82743bbb2800b7fc5147d96",
              "version_major": 2,
              "version_minor": 0
            },
            "text/plain": [
              "  0%|          | 0/9912422 [00:00<?, ?it/s]"
            ]
          },
          "metadata": {},
          "output_type": "display_data"
        },
        {
          "name": "stdout",
          "output_type": "stream",
          "text": [
            "Extracting ./data/MNIST/raw/train-images-idx3-ubyte.gz to ./data/MNIST/raw\n",
            "\n",
            "Downloading http://yann.lecun.com/exdb/mnist/train-labels-idx1-ubyte.gz\n",
            "Downloading http://yann.lecun.com/exdb/mnist/train-labels-idx1-ubyte.gz to ./data/MNIST/raw/train-labels-idx1-ubyte.gz\n"
          ]
        },
        {
          "data": {
            "application/vnd.jupyter.widget-view+json": {
              "model_id": "f2507818ac4a4c28ba1b39d8035b208d",
              "version_major": 2,
              "version_minor": 0
            },
            "text/plain": [
              "  0%|          | 0/28881 [00:00<?, ?it/s]"
            ]
          },
          "metadata": {},
          "output_type": "display_data"
        },
        {
          "name": "stdout",
          "output_type": "stream",
          "text": [
            "Extracting ./data/MNIST/raw/train-labels-idx1-ubyte.gz to ./data/MNIST/raw\n",
            "\n",
            "Downloading http://yann.lecun.com/exdb/mnist/t10k-images-idx3-ubyte.gz\n",
            "Downloading http://yann.lecun.com/exdb/mnist/t10k-images-idx3-ubyte.gz to ./data/MNIST/raw/t10k-images-idx3-ubyte.gz\n"
          ]
        },
        {
          "data": {
            "application/vnd.jupyter.widget-view+json": {
              "model_id": "abd3ad0bcb324bd69d0c15f3caf9ad72",
              "version_major": 2,
              "version_minor": 0
            },
            "text/plain": [
              "  0%|          | 0/1648877 [00:00<?, ?it/s]"
            ]
          },
          "metadata": {},
          "output_type": "display_data"
        },
        {
          "name": "stdout",
          "output_type": "stream",
          "text": [
            "Extracting ./data/MNIST/raw/t10k-images-idx3-ubyte.gz to ./data/MNIST/raw\n",
            "\n",
            "Downloading http://yann.lecun.com/exdb/mnist/t10k-labels-idx1-ubyte.gz\n",
            "Downloading http://yann.lecun.com/exdb/mnist/t10k-labels-idx1-ubyte.gz to ./data/MNIST/raw/t10k-labels-idx1-ubyte.gz\n"
          ]
        },
        {
          "data": {
            "application/vnd.jupyter.widget-view+json": {
              "model_id": "bdc6445a4691478a9bc23f88efcd98b0",
              "version_major": 2,
              "version_minor": 0
            },
            "text/plain": [
              "  0%|          | 0/4542 [00:00<?, ?it/s]"
            ]
          },
          "metadata": {},
          "output_type": "display_data"
        },
        {
          "name": "stdout",
          "output_type": "stream",
          "text": [
            "Extracting ./data/MNIST/raw/t10k-labels-idx1-ubyte.gz to ./data/MNIST/raw\n",
            "\n"
          ]
        }
      ],
      "source": [
        "transform = transforms.Compose([\n",
        "                transforms.Resize((128, 128)),\n",
        "                transforms.ToTensor(),\n",
        "                transforms.Normalize((0.5),(0.5))\n",
        "                ])\n",
        "to_image = transforms.ToPILImage()\n",
        "trainset = MNIST(root='./data/', train=True, download=True, transform=transform)\n",
        "trainloader = DataLoader(trainset, batch_size=100, shuffle=True)\n"
      ]
    },
    {
      "cell_type": "code",
      "execution_count": null,
      "metadata": {
        "id": "R81P9SQcQ_pU"
      },
      "outputs": [],
      "source": [
        "import matplotlib.pyplot as plt\n",
        "def show_images(images):\n",
        "    fig, ax = plt.subplots(figsize=(20, 20))\n",
        "    ax.set_xticks([]); ax.set_yticks([])\n",
        "    ax.imshow(make_grid(images.detach(), nrow=22).permute(1, 2, 0))\n",
        "\n",
        "def show_batch(dl):\n",
        "    for images, _ in dl:\n",
        "        show_images(images)\n",
        "        break"
      ]
    },
    {
      "cell_type": "code",
      "execution_count": null,
      "metadata": {
        "colab": {
          "base_uri": "https://localhost:8080/",
          "height": 306
        },
        "id": "5rGjVFByRDG0",
        "outputId": "55a25476-aa12-4977-d022-21f419400ded"
      },
      "outputs": [
        {
          "name": "stderr",
          "output_type": "stream",
          "text": [
            "Clipping input data to the valid range for imshow with RGB data ([0..1] for floats or [0..255] for integers).\n"
          ]
        },
        {
          "data": {
            "image/png": "[encoded data removed]",
            "text/plain": [
              "<Figure size 1440x1440 with 1 Axes>"
            ]
          },
          "metadata": {},
          "output_type": "display_data"
        }
      ],
      "source": [
        "show_batch(trainloader)"
      ]
    },
    {
      "cell_type": "code",
      "execution_count": null,
      "metadata": {
        "id": "45Ci-ip0kKdT"
      },
      "outputs": [],
      "source": [
        "import numpy as np\n",
        "latent_dim = 128\n",
        "n_classes = 10\n",
        "embedding_dim = 100\n",
        "image_shape = (1, 128, 128)\n",
        "image_dim = int(np.prod(image_shape))\n"
      ]
    },
    {
      "cell_type": "code",
      "execution_count": null,
      "metadata": {
        "id": "bFdsDz18kOJy"
      },
      "outputs": [],
      "source": [
        "# custom weights initialization called on generator and discriminator\n",
        "def weights_init(m):\n",
        "    classname = m.__class__.__name__\n",
        "    if classname.find('Conv') != -1:\n",
        "        torch.nn.init.normal_(m.weight, 0.0, 0.02)\n",
        "    elif classname.find('BatchNorm') != -1:\n",
        "        torch.nn.init.normal_(m.weight, 1.0, 0.02)\n",
        "        torch.nn.init.zeros_(m.bias)"
      ]
    },
    {
      "cell_type": "code",
      "execution_count": null,
      "metadata": {
        "colab": {
          "base_uri": "https://localhost:8080/"
        },
        "id": "NJp0xTSsjvzn",
        "outputId": "0eb7039d-6f1d-4df1-cb1d-1ea74899b03d"
      },
      "outputs": [
        {
          "name": "stdout",
          "output_type": "stream",
          "text": [
            "Generator(\n",
            "  (label_conditioned_generator): Sequential(\n",
            "    (0): Embedding(10, 100)\n",
            "    (1): Linear(in_features=100, out_features=16, bias=True)\n",
            "  )\n",
            "  (latent): Sequential(\n",
            "    (0): Linear(in_features=128, out_features=8192, bias=True)\n",
            "    (1): LeakyReLU(negative_slope=0.2, inplace=True)\n",
            "  )\n",
            "  (model): Sequential(\n",
            "    (0): ConvTranspose2d(513, 512, kernel_size=(4, 4), stride=(2, 2), padding=(1, 1), bias=False)\n",
            "    (1): BatchNorm2d(512, eps=0.8, momentum=0.1, affine=True, track_running_stats=True)\n",
            "    (2): ReLU(inplace=True)\n",
            "    (3): ConvTranspose2d(512, 256, kernel_size=(4, 4), stride=(2, 2), padding=(1, 1), bias=False)\n",
            "    (4): BatchNorm2d(256, eps=0.8, momentum=0.1, affine=True, track_running_stats=True)\n",
            "    (5): ReLU(inplace=True)\n",
            "    (6): ConvTranspose2d(256, 128, kernel_size=(4, 4), stride=(2, 2), padding=(1, 1), bias=False)\n",
            "    (7): BatchNorm2d(128, eps=0.8, momentum=0.1, affine=True, track_running_stats=True)\n",
            "    (8): ReLU(inplace=True)\n",
            "    (9): ConvTranspose2d(128, 64, kernel_size=(4, 4), stride=(2, 2), padding=(1, 1), bias=False)\n",
            "    (10): BatchNorm2d(64, eps=0.8, momentum=0.1, affine=True, track_running_stats=True)\n",
            "    (11): ReLU(inplace=True)\n",
            "    (12): ConvTranspose2d(64, 1, kernel_size=(4, 4), stride=(2, 2), padding=(1, 1), bias=False)\n",
            "    (13): Tanh()\n",
            "  )\n",
            ")\n"
          ]
        },
        {
          "data": {
            "text/plain": [
              "torch.Size([100, 1, 128, 128])"
            ]
          },
          "execution_count": 9,
          "metadata": {},
          "output_type": "execute_result"
        }
      ],
      "source": [
        "class Generator(nn.Module):\n",
        "    def __init__(self):\n",
        "        super(Generator, self).__init__()\n",
        "        \n",
        "     \n",
        "        self.label_conditioned_generator = nn.Sequential(nn.Embedding(n_classes, embedding_dim),\n",
        "                      nn.Linear(embedding_dim, 16))\n",
        "        \n",
        "    \n",
        "        self.latent = nn.Sequential(nn.Linear(latent_dim, 4*4*512),\n",
        "                                   nn.LeakyReLU(0.2, inplace=True))\n",
        "           \n",
        "\n",
        "        self.model = nn.Sequential(nn.ConvTranspose2d(513, 64*8, 4, 2, 1, bias=False),\n",
        "                      nn.BatchNorm2d(64*8, momentum=0.1,  eps=0.8),\n",
        "                      nn.ReLU(True),\n",
        "                      nn.ConvTranspose2d(64*8, 64*4, 4, 2, 1,bias=False),\n",
        "                      nn.BatchNorm2d(64*4, momentum=0.1,  eps=0.8),\n",
        "                      nn.ReLU(True), \n",
        "                      nn.ConvTranspose2d(64*4, 64*2, 4, 2, 1,bias=False),\n",
        "                      nn.BatchNorm2d(64*2, momentum=0.1,  eps=0.8),\n",
        "                      nn.ReLU(True), \n",
        "                      nn.ConvTranspose2d(64*2, 64*1, 4, 2, 1,bias=False),\n",
        "                      nn.BatchNorm2d(64*1, momentum=0.1,  eps=0.8),\n",
        "                      nn.ReLU(True), \n",
        "                      nn.ConvTranspose2d(64*1, 1, 4, 2, 1, bias=False),\n",
        "                      nn.Tanh())\n",
        "\n",
        "    def forward(self, imgs, labels):\n",
        "        noise_vector, label = imgs, labels\n",
        "        label_output = self.label_conditioned_generator(label)\n",
        "        label_output = label_output.view(-1, 1, 4, 4)\n",
        "        latent_output = self.latent(noise_vector)\n",
        "        latent_output = latent_output.view(-1, 512,4,4)\n",
        "        concat = torch.cat((latent_output, label_output), dim=1)\n",
        "        image = self.model(concat)\n",
        "        #print(image.size())\n",
        "        return image\n",
        "\n",
        "generator = Generator().to(device)\n",
        "generator.apply(weights_init)\n",
        "print(generator)\n",
        "\n",
        "a = torch.ones(100,128)\n",
        "b = torch.ones(100) #1*128 128*8192\n",
        "b = b.long()\n",
        "a = a.to(device)\n",
        "b = b.to(device)\n",
        "c=generator(a,b)\n",
        "c.size()"
      ]
    },
    {
      "cell_type": "code",
      "execution_count": null,
      "metadata": {
        "colab": {
          "base_uri": "https://localhost:8080/"
        },
        "id": "M36soaWUyLF3",
        "outputId": "7da1a64f-0589-474d-b8c5-2231bb4df551"
      },
      "outputs": [
        {
          "name": "stdout",
          "output_type": "stream",
          "text": [
            "Discriminator(\n",
            "  (label_condition_disc): Sequential(\n",
            "    (0): Embedding(10, 100)\n",
            "    (1): Linear(in_features=100, out_features=16384, bias=True)\n",
            "  )\n",
            "  (model): Sequential(\n",
            "    (0): Conv2d(2, 64, kernel_size=(4, 4), stride=(2, 2), padding=(1, 1), bias=False)\n",
            "    (1): LeakyReLU(negative_slope=0.2, inplace=True)\n",
            "    (2): Conv2d(64, 128, kernel_size=(4, 4), stride=(3, 3), padding=(2, 2), bias=False)\n",
            "    (3): BatchNorm2d(128, eps=0.8, momentum=0.1, affine=True, track_running_stats=True)\n",
            "    (4): LeakyReLU(negative_slope=0.2, inplace=True)\n",
            "    (5): Conv2d(128, 256, kernel_size=(4, 4), stride=(3, 3), padding=(2, 2), bias=False)\n",
            "    (6): BatchNorm2d(256, eps=0.8, momentum=0.1, affine=True, track_running_stats=True)\n",
            "    (7): LeakyReLU(negative_slope=0.2, inplace=True)\n",
            "    (8): Conv2d(256, 512, kernel_size=(4, 4), stride=(3, 3), padding=(2, 2), bias=False)\n",
            "    (9): BatchNorm2d(512, eps=0.8, momentum=0.1, affine=True, track_running_stats=True)\n",
            "    (10): LeakyReLU(negative_slope=0.2, inplace=True)\n",
            "    (11): Flatten(start_dim=1, end_dim=-1)\n",
            "    (12): Dropout(p=0.4, inplace=False)\n",
            "    (13): Linear(in_features=4608, out_features=1, bias=True)\n",
            "    (14): Sigmoid()\n",
            "  )\n",
            ")\n"
          ]
        },
        {
          "data": {
            "text/plain": [
              "torch.Size([2, 1])"
            ]
          },
          "execution_count": 10,
          "metadata": {},
          "output_type": "execute_result"
        }
      ],
      "source": [
        "class Discriminator(nn.Module):\n",
        "    def __init__(self):\n",
        "        super(Discriminator, self).__init__()\n",
        "        \n",
        "    \n",
        "        self.label_condition_disc = nn.Sequential(nn.Embedding(n_classes, embedding_dim),\n",
        "                      nn.Linear(embedding_dim, 1*128*128))\n",
        "             \n",
        "        self.model = nn.Sequential(nn.Conv2d(2, 64, 4, 2, 1, bias=False),\n",
        "                      nn.LeakyReLU(0.2, inplace=True),\n",
        "                      nn.Conv2d(64, 64*2, 4, 3, 2, bias=False),\n",
        "                      nn.BatchNorm2d(64*2, momentum=0.1,  eps=0.8),\n",
        "                      nn.LeakyReLU(0.2, inplace=True),\n",
        "                      nn.Conv2d(64*2, 64*4, 4, 3,2, bias=False),\n",
        "                      nn.BatchNorm2d(64*4, momentum=0.1,  eps=0.8),\n",
        "                      nn.LeakyReLU(0.2, inplace=True),\n",
        "                      nn.Conv2d(64*4, 64*8, 4, 3, 2, bias=False),\n",
        "                      nn.BatchNorm2d(64*8, momentum=0.1,  eps=0.8),\n",
        "                      nn.LeakyReLU(0.2, inplace=True), \n",
        "                      nn.Flatten(),\n",
        "                      nn.Dropout(0.4),\n",
        "                      nn.Linear(4608, 1),\n",
        "                      nn.Sigmoid()\n",
        "                     )\n",
        "\n",
        "    def forward(self, imgs, labels):\n",
        "        img, label = imgs, labels\n",
        "        label_output = self.label_condition_disc(label)\n",
        "        label_output = label_output.view(-1, 1, 128, 128)\n",
        "        concat = torch.cat((img, label_output), dim=1)\n",
        "        #print(concat.size())\n",
        "        output = self.model(concat)\n",
        "        return output\n",
        "\n",
        "discriminator = Discriminator().to(device)\n",
        "discriminator.apply(weights_init)\n",
        "print(discriminator)\n",
        "\n",
        "a = torch.ones(2,1,128,128)\n",
        "b = torch.ones(2,1)\n",
        "b = b.long()\n",
        "a = a.to(device)\n",
        "b = b.to(device)\n",
        "c = discriminator(a,b)\n",
        "c.size()"
      ]
    },
    {
      "cell_type": "code",
      "execution_count": null,
      "metadata": {
        "id": "o8YjLXjiBHlI"
      },
      "outputs": [],
      "source": [
        "g_optim = optim.Adam(generator.parameters(), lr=2e-4)\n",
        "d_optim = optim.Adam(discriminator.parameters(), lr=2e-4)\n",
        "\n",
        "g_losses = []\n",
        "d_losses = []\n",
        "images = []\n",
        "\n",
        "criterion = nn.BCELoss()\n",
        "\n",
        "def noise(n, latent_dim=128):\n",
        "    return Variable(torch.randn(n, latent_dim)).to(device)\n",
        "\n",
        "def make_ones(size):\n",
        "    data = Variable(torch.ones(size, 1))\n",
        "    return data.to(device)\n",
        "\n",
        "def make_zeros(size):\n",
        "    data = Variable(torch.zeros(size, 1))\n",
        "    return data.to(device)"
      ]
    },
    {
      "cell_type": "code",
      "execution_count": null,
      "metadata": {
        "id": "fNGjxdZXBSYi"
      },
      "outputs": [],
      "source": [
        "def train_discriminator(optimizer, real_data, labels, fake_data):\n",
        "    n = real_data.size(0)\n",
        "\n",
        "    optimizer.zero_grad()\n",
        "    \n",
        "    prediction_real = discriminator(real_data, labels)\n",
        "    error_real = criterion(prediction_real, make_ones(n))\n",
        "    error_real.backward()\n",
        "\n",
        "    prediction_fake = discriminator(fake_data,labels)\n",
        "    error_fake = criterion(prediction_fake, make_zeros(n))\n",
        "    \n",
        "    error_fake.backward()\n",
        "    optimizer.step()\n",
        "    \n",
        "    return error_real + error_fake\n",
        "\n",
        "def train_generator(optimizer, labels, fake_data):\n",
        "    n = fake_data.size(0)\n",
        "    optimizer.zero_grad()\n",
        "    \n",
        "    prediction = discriminator(fake_data, labels)\n",
        "    error = criterion(prediction, make_ones(n))\n",
        "    \n",
        "    error.backward()\n",
        "    optimizer.step()\n",
        "    \n",
        "    return error"
      ]
    },
    {
      "cell_type": "code",
      "execution_count": null,
      "metadata": {
        "id": "jwyG16a51RgS"
      },
      "outputs": [],
      "source": [
        "#torch.Size([100, 1, 128, 128]) torch.Size([100])"
      ]
    },
    {
      "cell_type": "code",
      "execution_count": null,
      "metadata": {
        "colab": {
          "background_save": true,
          "base_uri": "https://localhost:8080/"
        },
        "id": "vOttcQjkBSyH",
        "outputId": "792aadd2-7b35-43dc-a188-ef9ddfcf7aec"
      },
      "outputs": [
        {
          "name": "stdout",
          "output_type": "stream",
          "text": [
            "Epoch 0: g_loss: 3.30278325 d_loss: 0.52628624\n",
            "Epoch 1: g_loss: 3.20224380 d_loss: 0.67236406\n",
            "Epoch 2: g_loss: 3.35608077 d_loss: 0.54487026\n"
          ]
        },
        {
          "ename": "KeyboardInterrupt",
          "evalue": "ignored",
          "output_type": "error",
          "traceback": [
            "\u001b[0;31m---------------------------------------------------------------------------\u001b[0m",
            "\u001b[0;31mKeyboardInterrupt\u001b[0m                         Traceback (most recent call last)",
            "\u001b[0;32m<ipython-input-14-b0bf4ba5d6a1>\u001b[0m in \u001b[0;36m<module>\u001b[0;34m()\u001b[0m\n\u001b[1;32m     17\u001b[0m             \u001b[0mfake_data\u001b[0m \u001b[0;34m=\u001b[0m \u001b[0mgenerator\u001b[0m\u001b[0;34m(\u001b[0m\u001b[0mnoise\u001b[0m\u001b[0;34m(\u001b[0m\u001b[0;36m100\u001b[0m\u001b[0;34m)\u001b[0m\u001b[0;34m,\u001b[0m\u001b[0mlabels\u001b[0m\u001b[0;34m)\u001b[0m\u001b[0;34m.\u001b[0m\u001b[0mdetach\u001b[0m\u001b[0;34m(\u001b[0m\u001b[0;34m)\u001b[0m\u001b[0;34m\u001b[0m\u001b[0;34m\u001b[0m\u001b[0m\n\u001b[1;32m     18\u001b[0m             \u001b[0mreal_data\u001b[0m \u001b[0;34m=\u001b[0m \u001b[0mimgs\u001b[0m\u001b[0;34m.\u001b[0m\u001b[0mto\u001b[0m\u001b[0;34m(\u001b[0m\u001b[0mdevice\u001b[0m\u001b[0;34m)\u001b[0m\u001b[0;34m\u001b[0m\u001b[0;34m\u001b[0m\u001b[0m\n\u001b[0;32m---> 19\u001b[0;31m             \u001b[0md_error\u001b[0m \u001b[0;34m+=\u001b[0m \u001b[0mtrain_discriminator\u001b[0m\u001b[0;34m(\u001b[0m\u001b[0md_optim\u001b[0m\u001b[0;34m,\u001b[0m \u001b[0mreal_data\u001b[0m\u001b[0;34m,\u001b[0m \u001b[0mlabels\u001b[0m\u001b[0;34m,\u001b[0m \u001b[0mfake_data\u001b[0m\u001b[0;34m)\u001b[0m\u001b[0;34m\u001b[0m\u001b[0;34m\u001b[0m\u001b[0m\n\u001b[0m\u001b[1;32m     20\u001b[0m         \u001b[0mfake_data\u001b[0m \u001b[0;34m=\u001b[0m \u001b[0mgenerator\u001b[0m\u001b[0;34m(\u001b[0m\u001b[0mnoise\u001b[0m\u001b[0;34m(\u001b[0m\u001b[0;36m100\u001b[0m\u001b[0;34m)\u001b[0m\u001b[0;34m,\u001b[0m \u001b[0mlabels\u001b[0m\u001b[0;34m)\u001b[0m\u001b[0;34m\u001b[0m\u001b[0;34m\u001b[0m\u001b[0m\n\u001b[1;32m     21\u001b[0m         \u001b[0mg_error\u001b[0m \u001b[0;34m+=\u001b[0m \u001b[0mtrain_generator\u001b[0m\u001b[0;34m(\u001b[0m\u001b[0mg_optim\u001b[0m\u001b[0;34m,\u001b[0m \u001b[0mlabels\u001b[0m\u001b[0;34m,\u001b[0m\u001b[0mfake_data\u001b[0m\u001b[0;34m)\u001b[0m\u001b[0;34m\u001b[0m\u001b[0;34m\u001b[0m\u001b[0m\n",
            "\u001b[0;32m<ipython-input-12-d16a7172cdff>\u001b[0m in \u001b[0;36mtrain_discriminator\u001b[0;34m(optimizer, real_data, labels, fake_data)\u001b[0m\n\u001b[1;32m      9\u001b[0m \u001b[0;34m\u001b[0m\u001b[0m\n\u001b[1;32m     10\u001b[0m     \u001b[0mprediction_fake\u001b[0m \u001b[0;34m=\u001b[0m \u001b[0mdiscriminator\u001b[0m\u001b[0;34m(\u001b[0m\u001b[0mfake_data\u001b[0m\u001b[0;34m,\u001b[0m\u001b[0mlabels\u001b[0m\u001b[0;34m)\u001b[0m\u001b[0;34m\u001b[0m\u001b[0;34m\u001b[0m\u001b[0m\n\u001b[0;32m---> 11\u001b[0;31m     \u001b[0merror_fake\u001b[0m \u001b[0;34m=\u001b[0m \u001b[0mcriterion\u001b[0m\u001b[0;34m(\u001b[0m\u001b[0mprediction_fake\u001b[0m\u001b[0;34m,\u001b[0m \u001b[0mmake_zeros\u001b[0m\u001b[0;34m(\u001b[0m\u001b[0mn\u001b[0m\u001b[0;34m)\u001b[0m\u001b[0;34m)\u001b[0m\u001b[0;34m\u001b[0m\u001b[0;34m\u001b[0m\u001b[0m\n\u001b[0m\u001b[1;32m     12\u001b[0m \u001b[0;34m\u001b[0m\u001b[0m\n\u001b[1;32m     13\u001b[0m     \u001b[0merror_fake\u001b[0m\u001b[0;34m.\u001b[0m\u001b[0mbackward\u001b[0m\u001b[0;34m(\u001b[0m\u001b[0;34m)\u001b[0m\u001b[0;34m\u001b[0m\u001b[0;34m\u001b[0m\u001b[0m\n",
            "\u001b[0;32m<ipython-input-11-3fb895c43d00>\u001b[0m in \u001b[0;36mmake_zeros\u001b[0;34m(size)\u001b[0m\n\u001b[1;32m     17\u001b[0m \u001b[0;32mdef\u001b[0m \u001b[0mmake_zeros\u001b[0m\u001b[0;34m(\u001b[0m\u001b[0msize\u001b[0m\u001b[0;34m)\u001b[0m\u001b[0;34m:\u001b[0m\u001b[0;34m\u001b[0m\u001b[0;34m\u001b[0m\u001b[0m\n\u001b[1;32m     18\u001b[0m     \u001b[0mdata\u001b[0m \u001b[0;34m=\u001b[0m \u001b[0mVariable\u001b[0m\u001b[0;34m(\u001b[0m\u001b[0mtorch\u001b[0m\u001b[0;34m.\u001b[0m\u001b[0mzeros\u001b[0m\u001b[0;34m(\u001b[0m\u001b[0msize\u001b[0m\u001b[0;34m,\u001b[0m \u001b[0;36m1\u001b[0m\u001b[0;34m)\u001b[0m\u001b[0;34m)\u001b[0m\u001b[0;34m\u001b[0m\u001b[0;34m\u001b[0m\u001b[0m\n\u001b[0;32m---> 19\u001b[0;31m     \u001b[0;32mreturn\u001b[0m \u001b[0mdata\u001b[0m\u001b[0;34m.\u001b[0m\u001b[0mto\u001b[0m\u001b[0;34m(\u001b[0m\u001b[0mdevice\u001b[0m\u001b[0;34m)\u001b[0m\u001b[0;34m\u001b[0m\u001b[0;34m\u001b[0m\u001b[0m\n\u001b[0m",
            "\u001b[0;31mKeyboardInterrupt\u001b[0m: "
          ]
        }
      ],
      "source": [
        "num_epochs = 250\n",
        "k = 1\n",
        "test_noise = noise(100)\n",
        "\n",
        "generator.train()\n",
        "discriminator.train()\n",
        "for epoch in range(num_epochs):\n",
        "    g_error = 0.0\n",
        "    d_error = 0.0\n",
        "    for i, data in enumerate(trainloader):\n",
        "        imgs, labels = data\n",
        "        labels = labels.to(device)\n",
        "        # labels = labels.unsqueeze(1).long()\n",
        "        \n",
        "        n = len(imgs)\n",
        "        for j in range(k):\n",
        "            fake_data = generator(noise(100),labels).detach()\n",
        "            real_data = imgs.to(device)\n",
        "            d_error += train_discriminator(d_optim, real_data, labels, fake_data)\n",
        "        fake_data = generator(noise(100), labels)\n",
        "        g_error += train_generator(g_optim, labels,fake_data)\n",
        "\n",
        "    img = generator(test_noise, labels).cpu().detach()\n",
        "    img = make_grid(img)\n",
        "    images.append(img)\n",
        "    g_losses.append(g_error/i)\n",
        "    d_losses.append(d_error/i)\n",
        "    print('Epoch {}: g_loss: {:.8f} d_loss: {:.8f}\\r'.format(epoch, g_error/i, d_error/i))\n",
        "    \n",
        "print('Training Finished')\n",
        "torch.save(generator.state_dict(), 'mnist_generatorCGAN.pth')"
      ]
    },
    {
      "cell_type": "code",
      "execution_count": null,
      "metadata": {
        "id": "r4SCPr7bShZO"
      },
      "outputs": [],
      "source": [
        ""
      ]
    }
  ],
  "metadata": {
    "accelerator": "GPU",
    "colab": {
      "collapsed_sections": [],
      "name": "VanillaGAN.ipynb",
      "provenance": []
    },
    "kernelspec": {
      "display_name": "Python 3",
      "name": "python3"
    },
    "language_info": {
      "name": "python"
    },
    "widgets": {
      "application/vnd.jupyter.widget-state+json": {
        "05206942fe324fb080186e318f099d4c": {
          "model_module": "@jupyter-widgets/controls",
          "model_module_version": "1.5.0",
          "model_name": "HTMLModel",
          "state": {
            "_dom_classes": [],
            "_model_module": "@jupyter-widgets/controls",
            "_model_module_version": "1.5.0",
            "_model_name": "HTMLModel",
            "_view_count": null,
            "_view_module": "@jupyter-widgets/controls",
            "_view_module_version": "1.5.0",
            "_view_name": "HTMLView",
            "description": "",
            "description_tooltip": null,
            "layout": "IPY_MODEL_63cac065d7ca46bfb552cd3693b8108e",
            "placeholder": "​",
            "style": "IPY_MODEL_b9d6e08589b94bc090f57b5b8520705a",
            "value": ""
          }
        },
        "0886286bc28c4b6399e2815f2e9e45dc": {
          "model_module": "@jupyter-widgets/base",
          "model_module_version": "1.2.0",
          "model_name": "LayoutModel",
          "state": {
            "_model_module": "@jupyter-widgets/base",
            "_model_module_version": "1.2.0",
            "_model_name": "LayoutModel",
            "_view_count": null,
            "_view_module": "@jupyter-widgets/base",
            "_view_module_version": "1.2.0",
            "_view_name": "LayoutView",
            "align_content": null,
            "align_items": null,
            "align_self": null,
            "border": null,
            "bottom": null,
            "display": null,
            "flex": null,
            "flex_flow": null,
            "grid_area": null,
            "grid_auto_columns": null,
            "grid_auto_flow": null,
            "grid_auto_rows": null,
            "grid_column": null,
            "grid_gap": null,
            "grid_row": null,
            "grid_template_areas": null,
            "grid_template_columns": null,
            "grid_template_rows": null,
            "height": null,
            "justify_content": null,
            "justify_items": null,
            "left": null,
            "margin": null,
            "max_height": null,
            "max_width": null,
            "min_height": null,
            "min_width": null,
            "object_fit": null,
            "object_position": null,
            "order": null,
            "overflow": null,
            "overflow_x": null,
            "overflow_y": null,
            "padding": null,
            "right": null,
            "top": null,
            "visibility": null,
            "width": null
          }
        },
        "0dd78ea0f44140b998c8e1f9385dc6a5": {
          "model_module": "@jupyter-widgets/base",
          "model_module_version": "1.2.0",
          "model_name": "LayoutModel",
          "state": {
            "_model_module": "@jupyter-widgets/base",
            "_model_module_version": "1.2.0",
            "_model_name": "LayoutModel",
            "_view_count": null,
            "_view_module": "@jupyter-widgets/base",
            "_view_module_version": "1.2.0",
            "_view_name": "LayoutView",
            "align_content": null,
            "align_items": null,
            "align_self": null,
            "border": null,
            "bottom": null,
            "display": null,
            "flex": null,
            "flex_flow": null,
            "grid_area": null,
            "grid_auto_columns": null,
            "grid_auto_flow": null,
            "grid_auto_rows": null,
            "grid_column": null,
            "grid_gap": null,
            "grid_row": null,
            "grid_template_areas": null,
            "grid_template_columns": null,
            "grid_template_rows": null,
            "height": null,
            "justify_content": null,
            "justify_items": null,
            "left": null,
            "margin": null,
            "max_height": null,
            "max_width": null,
            "min_height": null,
            "min_width": null,
            "object_fit": null,
            "object_position": null,
            "order": null,
            "overflow": null,
            "overflow_x": null,
            "overflow_y": null,
            "padding": null,
            "right": null,
            "top": null,
            "visibility": null,
            "width": null
          }
        },
        "210295deeb174023858b52549d57775a": {
          "model_module": "@jupyter-widgets/base",
          "model_module_version": "1.2.0",
          "model_name": "LayoutModel",
          "state": {
            "_model_module": "@jupyter-widgets/base",
            "_model_module_version": "1.2.0",
            "_model_name": "LayoutModel",
            "_view_count": null,
            "_view_module": "@jupyter-widgets/base",
            "_view_module_version": "1.2.0",
            "_view_name": "LayoutView",
            "align_content": null,
            "align_items": null,
            "align_self": null,
            "border": null,
            "bottom": null,
            "display": null,
            "flex": null,
            "flex_flow": null,
            "grid_area": null,
            "grid_auto_columns": null,
            "grid_auto_flow": null,
            "grid_auto_rows": null,
            "grid_column": null,
            "grid_gap": null,
            "grid_row": null,
            "grid_template_areas": null,
            "grid_template_columns": null,
            "grid_template_rows": null,
            "height": null,
            "justify_content": null,
            "justify_items": null,
            "left": null,
            "margin": null,
            "max_height": null,
            "max_width": null,
            "min_height": null,
            "min_width": null,
            "object_fit": null,
            "object_position": null,
            "order": null,
            "overflow": null,
            "overflow_x": null,
            "overflow_y": null,
            "padding": null,
            "right": null,
            "top": null,
            "visibility": null,
            "width": null
          }
        },
        "2a8d4609c82743bbb2800b7fc5147d96": {
          "model_module": "@jupyter-widgets/controls",
          "model_module_version": "1.5.0",
          "model_name": "HBoxModel",
          "state": {
            "_dom_classes": [],
            "_model_module": "@jupyter-widgets/controls",
            "_model_module_version": "1.5.0",
            "_model_name": "HBoxModel",
            "_view_count": null,
            "_view_module": "@jupyter-widgets/controls",
            "_view_module_version": "1.5.0",
            "_view_name": "HBoxView",
            "box_style": "",
            "children": [
              "IPY_MODEL_61373edb60b840778b5c9ec1c546cc7c",
              "IPY_MODEL_407cd4b2dec142be82b320046cb00e1e",
              "IPY_MODEL_a54cf2a4fdc64f66885c2a0960befee2"
            ],
            "layout": "IPY_MODEL_b9f562c71bc6449c94ddfe8e27667265"
          }
        },
        "2de9fb45c8474eaca6427810ccb05786": {
          "model_module": "@jupyter-widgets/controls",
          "model_module_version": "1.5.0",
          "model_name": "DescriptionStyleModel",
          "state": {
            "_model_module": "@jupyter-widgets/controls",
            "_model_module_version": "1.5.0",
            "_model_name": "DescriptionStyleModel",
            "_view_count": null,
            "_view_module": "@jupyter-widgets/base",
            "_view_module_version": "1.2.0",
            "_view_name": "StyleView",
            "description_width": ""
          }
        },
        "37516cb9b5d64499b878fa721b00ece0": {
          "model_module": "@jupyter-widgets/controls",
          "model_module_version": "1.5.0",
          "model_name": "ProgressStyleModel",
          "state": {
            "_model_module": "@jupyter-widgets/controls",
            "_model_module_version": "1.5.0",
            "_model_name": "ProgressStyleModel",
            "_view_count": null,
            "_view_module": "@jupyter-widgets/base",
            "_view_module_version": "1.2.0",
            "_view_name": "StyleView",
            "bar_color": null,
            "description_width": ""
          }
        },
        "389932b7e3904e60a14d199e4baf81d3": {
          "model_module": "@jupyter-widgets/base",
          "model_module_version": "1.2.0",
          "model_name": "LayoutModel",
          "state": {
            "_model_module": "@jupyter-widgets/base",
            "_model_module_version": "1.2.0",
            "_model_name": "LayoutModel",
            "_view_count": null,
            "_view_module": "@jupyter-widgets/base",
            "_view_module_version": "1.2.0",
            "_view_name": "LayoutView",
            "align_content": null,
            "align_items": null,
            "align_self": null,
            "border": null,
            "bottom": null,
            "display": null,
            "flex": null,
            "flex_flow": null,
            "grid_area": null,
            "grid_auto_columns": null,
            "grid_auto_flow": null,
            "grid_auto_rows": null,
            "grid_column": null,
            "grid_gap": null,
            "grid_row": null,
            "grid_template_areas": null,
            "grid_template_columns": null,
            "grid_template_rows": null,
            "height": null,
            "justify_content": null,
            "justify_items": null,
            "left": null,
            "margin": null,
            "max_height": null,
            "max_width": null,
            "min_height": null,
            "min_width": null,
            "object_fit": null,
            "object_position": null,
            "order": null,
            "overflow": null,
            "overflow_x": null,
            "overflow_y": null,
            "padding": null,
            "right": null,
            "top": null,
            "visibility": null,
            "width": null
          }
        },
        "3a56bb5dab194f818d2421a945733cfd": {
          "model_module": "@jupyter-widgets/controls",
          "model_module_version": "1.5.0",
          "model_name": "HTMLModel",
          "state": {
            "_dom_classes": [],
            "_model_module": "@jupyter-widgets/controls",
            "_model_module_version": "1.5.0",
            "_model_name": "HTMLModel",
            "_view_count": null,
            "_view_module": "@jupyter-widgets/controls",
            "_view_module_version": "1.5.0",
            "_view_name": "HTMLView",
            "description": "",
            "description_tooltip": null,
            "layout": "IPY_MODEL_210295deeb174023858b52549d57775a",
            "placeholder": "​",
            "style": "IPY_MODEL_e493e9fa7c8846ef999ee7fa712b6a81",
            "value": ""
          }
        },
        "3d4caa62bba84338ab75f093ae383b2d": {
          "model_module": "@jupyter-widgets/base",
          "model_module_version": "1.2.0",
          "model_name": "LayoutModel",
          "state": {
            "_model_module": "@jupyter-widgets/base",
            "_model_module_version": "1.2.0",
            "_model_name": "LayoutModel",
            "_view_count": null,
            "_view_module": "@jupyter-widgets/base",
            "_view_module_version": "1.2.0",
            "_view_name": "LayoutView",
            "align_content": null,
            "align_items": null,
            "align_self": null,
            "border": null,
            "bottom": null,
            "display": null,
            "flex": null,
            "flex_flow": null,
            "grid_area": null,
            "grid_auto_columns": null,
            "grid_auto_flow": null,
            "grid_auto_rows": null,
            "grid_column": null,
            "grid_gap": null,
            "grid_row": null,
            "grid_template_areas": null,
            "grid_template_columns": null,
            "grid_template_rows": null,
            "height": null,
            "justify_content": null,
            "justify_items": null,
            "left": null,
            "margin": null,
            "max_height": null,
            "max_width": null,
            "min_height": null,
            "min_width": null,
            "object_fit": null,
            "object_position": null,
            "order": null,
            "overflow": null,
            "overflow_x": null,
            "overflow_y": null,
            "padding": null,
            "right": null,
            "top": null,
            "visibility": null,
            "width": null
          }
        },
        "407cd4b2dec142be82b320046cb00e1e": {
          "model_module": "@jupyter-widgets/controls",
          "model_module_version": "1.5.0",
          "model_name": "FloatProgressModel",
          "state": {
            "_dom_classes": [],
            "_model_module": "@jupyter-widgets/controls",
            "_model_module_version": "1.5.0",
            "_model_name": "FloatProgressModel",
            "_view_count": null,
            "_view_module": "@jupyter-widgets/controls",
            "_view_module_version": "1.5.0",
            "_view_name": "ProgressView",
            "bar_style": "success",
            "description": "",
            "description_tooltip": null,
            "layout": "IPY_MODEL_8dc812af98dc4102a5c2d4abdf24da4a",
            "max": 9912422,
            "min": 0,
            "orientation": "horizontal",
            "style": "IPY_MODEL_ce5d5377314f4610a98d75829eeb2edf",
            "value": 9912422
          }
        },
        "515d7eab0a814876b8da7af2ce268829": {
          "model_module": "@jupyter-widgets/base",
          "model_module_version": "1.2.0",
          "model_name": "LayoutModel",
          "state": {
            "_model_module": "@jupyter-widgets/base",
            "_model_module_version": "1.2.0",
            "_model_name": "LayoutModel",
            "_view_count": null,
            "_view_module": "@jupyter-widgets/base",
            "_view_module_version": "1.2.0",
            "_view_name": "LayoutView",
            "align_content": null,
            "align_items": null,
            "align_self": null,
            "border": null,
            "bottom": null,
            "display": null,
            "flex": null,
            "flex_flow": null,
            "grid_area": null,
            "grid_auto_columns": null,
            "grid_auto_flow": null,
            "grid_auto_rows": null,
            "grid_column": null,
            "grid_gap": null,
            "grid_row": null,
            "grid_template_areas": null,
            "grid_template_columns": null,
            "grid_template_rows": null,
            "height": null,
            "justify_content": null,
            "justify_items": null,
            "left": null,
            "margin": null,
            "max_height": null,
            "max_width": null,
            "min_height": null,
            "min_width": null,
            "object_fit": null,
            "object_position": null,
            "order": null,
            "overflow": null,
            "overflow_x": null,
            "overflow_y": null,
            "padding": null,
            "right": null,
            "top": null,
            "visibility": null,
            "width": null
          }
        },
        "528e2e1cdcd243daad0346f9fd7ab62b": {
          "model_module": "@jupyter-widgets/controls",
          "model_module_version": "1.5.0",
          "model_name": "DescriptionStyleModel",
          "state": {
            "_model_module": "@jupyter-widgets/controls",
            "_model_module_version": "1.5.0",
            "_model_name": "DescriptionStyleModel",
            "_view_count": null,
            "_view_module": "@jupyter-widgets/base",
            "_view_module_version": "1.2.0",
            "_view_name": "StyleView",
            "description_width": ""
          }
        },
        "5b833f5e5cbb41439717a7c15aaf0854": {
          "model_module": "@jupyter-widgets/base",
          "model_module_version": "1.2.0",
          "model_name": "LayoutModel",
          "state": {
            "_model_module": "@jupyter-widgets/base",
            "_model_module_version": "1.2.0",
            "_model_name": "LayoutModel",
            "_view_count": null,
            "_view_module": "@jupyter-widgets/base",
            "_view_module_version": "1.2.0",
            "_view_name": "LayoutView",
            "align_content": null,
            "align_items": null,
            "align_self": null,
            "border": null,
            "bottom": null,
            "display": null,
            "flex": null,
            "flex_flow": null,
            "grid_area": null,
            "grid_auto_columns": null,
            "grid_auto_flow": null,
            "grid_auto_rows": null,
            "grid_column": null,
            "grid_gap": null,
            "grid_row": null,
            "grid_template_areas": null,
            "grid_template_columns": null,
            "grid_template_rows": null,
            "height": null,
            "justify_content": null,
            "justify_items": null,
            "left": null,
            "margin": null,
            "max_height": null,
            "max_width": null,
            "min_height": null,
            "min_width": null,
            "object_fit": null,
            "object_position": null,
            "order": null,
            "overflow": null,
            "overflow_x": null,
            "overflow_y": null,
            "padding": null,
            "right": null,
            "top": null,
            "visibility": null,
            "width": null
          }
        },
        "61373edb60b840778b5c9ec1c546cc7c": {
          "model_module": "@jupyter-widgets/controls",
          "model_module_version": "1.5.0",
          "model_name": "HTMLModel",
          "state": {
            "_dom_classes": [],
            "_model_module": "@jupyter-widgets/controls",
            "_model_module_version": "1.5.0",
            "_model_name": "HTMLModel",
            "_view_count": null,
            "_view_module": "@jupyter-widgets/controls",
            "_view_module_version": "1.5.0",
            "_view_name": "HTMLView",
            "description": "",
            "description_tooltip": null,
            "layout": "IPY_MODEL_c62527e4db0446c5ac0bc7b49fc6866e",
            "placeholder": "​",
            "style": "IPY_MODEL_cd7c069a233643c5b77dd6b31db11671",
            "value": ""
          }
        },
        "63cac065d7ca46bfb552cd3693b8108e": {
          "model_module": "@jupyter-widgets/base",
          "model_module_version": "1.2.0",
          "model_name": "LayoutModel",
          "state": {
            "_model_module": "@jupyter-widgets/base",
            "_model_module_version": "1.2.0",
            "_model_name": "LayoutModel",
            "_view_count": null,
            "_view_module": "@jupyter-widgets/base",
            "_view_module_version": "1.2.0",
            "_view_name": "LayoutView",
            "align_content": null,
            "align_items": null,
            "align_self": null,
            "border": null,
            "bottom": null,
            "display": null,
            "flex": null,
            "flex_flow": null,
            "grid_area": null,
            "grid_auto_columns": null,
            "grid_auto_flow": null,
            "grid_auto_rows": null,
            "grid_column": null,
            "grid_gap": null,
            "grid_row": null,
            "grid_template_areas": null,
            "grid_template_columns": null,
            "grid_template_rows": null,
            "height": null,
            "justify_content": null,
            "justify_items": null,
            "left": null,
            "margin": null,
            "max_height": null,
            "max_width": null,
            "min_height": null,
            "min_width": null,
            "object_fit": null,
            "object_position": null,
            "order": null,
            "overflow": null,
            "overflow_x": null,
            "overflow_y": null,
            "padding": null,
            "right": null,
            "top": null,
            "visibility": null,
            "width": null
          }
        },
        "74547427a9b04d3f85ad02dec987f94e": {
          "model_module": "@jupyter-widgets/base",
          "model_module_version": "1.2.0",
          "model_name": "LayoutModel",
          "state": {
            "_model_module": "@jupyter-widgets/base",
            "_model_module_version": "1.2.0",
            "_model_name": "LayoutModel",
            "_view_count": null,
            "_view_module": "@jupyter-widgets/base",
            "_view_module_version": "1.2.0",
            "_view_name": "LayoutView",
            "align_content": null,
            "align_items": null,
            "align_self": null,
            "border": null,
            "bottom": null,
            "display": null,
            "flex": null,
            "flex_flow": null,
            "grid_area": null,
            "grid_auto_columns": null,
            "grid_auto_flow": null,
            "grid_auto_rows": null,
            "grid_column": null,
            "grid_gap": null,
            "grid_row": null,
            "grid_template_areas": null,
            "grid_template_columns": null,
            "grid_template_rows": null,
            "height": null,
            "justify_content": null,
            "justify_items": null,
            "left": null,
            "margin": null,
            "max_height": null,
            "max_width": null,
            "min_height": null,
            "min_width": null,
            "object_fit": null,
            "object_position": null,
            "order": null,
            "overflow": null,
            "overflow_x": null,
            "overflow_y": null,
            "padding": null,
            "right": null,
            "top": null,
            "visibility": null,
            "width": null
          }
        },
        "755d63098c904f57a3ab52fb6d561e64": {
          "model_module": "@jupyter-widgets/base",
          "model_module_version": "1.2.0",
          "model_name": "LayoutModel",
          "state": {
            "_model_module": "@jupyter-widgets/base",
            "_model_module_version": "1.2.0",
            "_model_name": "LayoutModel",
            "_view_count": null,
            "_view_module": "@jupyter-widgets/base",
            "_view_module_version": "1.2.0",
            "_view_name": "LayoutView",
            "align_content": null,
            "align_items": null,
            "align_self": null,
            "border": null,
            "bottom": null,
            "display": null,
            "flex": null,
            "flex_flow": null,
            "grid_area": null,
            "grid_auto_columns": null,
            "grid_auto_flow": null,
            "grid_auto_rows": null,
            "grid_column": null,
            "grid_gap": null,
            "grid_row": null,
            "grid_template_areas": null,
            "grid_template_columns": null,
            "grid_template_rows": null,
            "height": null,
            "justify_content": null,
            "justify_items": null,
            "left": null,
            "margin": null,
            "max_height": null,
            "max_width": null,
            "min_height": null,
            "min_width": null,
            "object_fit": null,
            "object_position": null,
            "order": null,
            "overflow": null,
            "overflow_x": null,
            "overflow_y": null,
            "padding": null,
            "right": null,
            "top": null,
            "visibility": null,
            "width": null
          }
        },
        "775339facc1e4fdf8355f7cdd8e9cf49": {
          "model_module": "@jupyter-widgets/controls",
          "model_module_version": "1.5.0",
          "model_name": "DescriptionStyleModel",
          "state": {
            "_model_module": "@jupyter-widgets/controls",
            "_model_module_version": "1.5.0",
            "_model_name": "DescriptionStyleModel",
            "_view_count": null,
            "_view_module": "@jupyter-widgets/base",
            "_view_module_version": "1.2.0",
            "_view_name": "StyleView",
            "description_width": ""
          }
        },
        "883b1a72b21e460d84d733c8227bfaf7": {
          "model_module": "@jupyter-widgets/controls",
          "model_module_version": "1.5.0",
          "model_name": "DescriptionStyleModel",
          "state": {
            "_model_module": "@jupyter-widgets/controls",
            "_model_module_version": "1.5.0",
            "_model_name": "DescriptionStyleModel",
            "_view_count": null,
            "_view_module": "@jupyter-widgets/base",
            "_view_module_version": "1.2.0",
            "_view_name": "StyleView",
            "description_width": ""
          }
        },
        "88b077b63a96432da8fa164764357156": {
          "model_module": "@jupyter-widgets/base",
          "model_module_version": "1.2.0",
          "model_name": "LayoutModel",
          "state": {
            "_model_module": "@jupyter-widgets/base",
            "_model_module_version": "1.2.0",
            "_model_name": "LayoutModel",
            "_view_count": null,
            "_view_module": "@jupyter-widgets/base",
            "_view_module_version": "1.2.0",
            "_view_name": "LayoutView",
            "align_content": null,
            "align_items": null,
            "align_self": null,
            "border": null,
            "bottom": null,
            "display": null,
            "flex": null,
            "flex_flow": null,
            "grid_area": null,
            "grid_auto_columns": null,
            "grid_auto_flow": null,
            "grid_auto_rows": null,
            "grid_column": null,
            "grid_gap": null,
            "grid_row": null,
            "grid_template_areas": null,
            "grid_template_columns": null,
            "grid_template_rows": null,
            "height": null,
            "justify_content": null,
            "justify_items": null,
            "left": null,
            "margin": null,
            "max_height": null,
            "max_width": null,
            "min_height": null,
            "min_width": null,
            "object_fit": null,
            "object_position": null,
            "order": null,
            "overflow": null,
            "overflow_x": null,
            "overflow_y": null,
            "padding": null,
            "right": null,
            "top": null,
            "visibility": null,
            "width": null
          }
        },
        "8dc812af98dc4102a5c2d4abdf24da4a": {
          "model_module": "@jupyter-widgets/base",
          "model_module_version": "1.2.0",
          "model_name": "LayoutModel",
          "state": {
            "_model_module": "@jupyter-widgets/base",
            "_model_module_version": "1.2.0",
            "_model_name": "LayoutModel",
            "_view_count": null,
            "_view_module": "@jupyter-widgets/base",
            "_view_module_version": "1.2.0",
            "_view_name": "LayoutView",
            "align_content": null,
            "align_items": null,
            "align_self": null,
            "border": null,
            "bottom": null,
            "display": null,
            "flex": null,
            "flex_flow": null,
            "grid_area": null,
            "grid_auto_columns": null,
            "grid_auto_flow": null,
            "grid_auto_rows": null,
            "grid_column": null,
            "grid_gap": null,
            "grid_row": null,
            "grid_template_areas": null,
            "grid_template_columns": null,
            "grid_template_rows": null,
            "height": null,
            "justify_content": null,
            "justify_items": null,
            "left": null,
            "margin": null,
            "max_height": null,
            "max_width": null,
            "min_height": null,
            "min_width": null,
            "object_fit": null,
            "object_position": null,
            "order": null,
            "overflow": null,
            "overflow_x": null,
            "overflow_y": null,
            "padding": null,
            "right": null,
            "top": null,
            "visibility": null,
            "width": null
          }
        },
        "9deaedc8b2684cb7a175d9eef0358e8e": {
          "model_module": "@jupyter-widgets/controls",
          "model_module_version": "1.5.0",
          "model_name": "HTMLModel",
          "state": {
            "_dom_classes": [],
            "_model_module": "@jupyter-widgets/controls",
            "_model_module_version": "1.5.0",
            "_model_name": "HTMLModel",
            "_view_count": null,
            "_view_module": "@jupyter-widgets/controls",
            "_view_module_version": "1.5.0",
            "_view_name": "HTMLView",
            "description": "",
            "description_tooltip": null,
            "layout": "IPY_MODEL_3d4caa62bba84338ab75f093ae383b2d",
            "placeholder": "​",
            "style": "IPY_MODEL_883b1a72b21e460d84d733c8227bfaf7",
            "value": " 29696/? [00:00&lt;00:00, 890021.45it/s]"
          }
        },
        "a54cf2a4fdc64f66885c2a0960befee2": {
          "model_module": "@jupyter-widgets/controls",
          "model_module_version": "1.5.0",
          "model_name": "HTMLModel",
          "state": {
            "_dom_classes": [],
            "_model_module": "@jupyter-widgets/controls",
            "_model_module_version": "1.5.0",
            "_model_name": "HTMLModel",
            "_view_count": null,
            "_view_module": "@jupyter-widgets/controls",
            "_view_module_version": "1.5.0",
            "_view_name": "HTMLView",
            "description": "",
            "description_tooltip": null,
            "layout": "IPY_MODEL_0dd78ea0f44140b998c8e1f9385dc6a5",
            "placeholder": "​",
            "style": "IPY_MODEL_528e2e1cdcd243daad0346f9fd7ab62b",
            "value": " 9913344/? [00:00&lt;00:00, 56500063.27it/s]"
          }
        },
        "ab33eb9570404dddac6e812f0fd87f1e": {
          "model_module": "@jupyter-widgets/controls",
          "model_module_version": "1.5.0",
          "model_name": "HTMLModel",
          "state": {
            "_dom_classes": [],
            "_model_module": "@jupyter-widgets/controls",
            "_model_module_version": "1.5.0",
            "_model_name": "HTMLModel",
            "_view_count": null,
            "_view_module": "@jupyter-widgets/controls",
            "_view_module_version": "1.5.0",
            "_view_name": "HTMLView",
            "description": "",
            "description_tooltip": null,
            "layout": "IPY_MODEL_755d63098c904f57a3ab52fb6d561e64",
            "placeholder": "​",
            "style": "IPY_MODEL_d33c3946a188402daf72ee85287f54b5",
            "value": ""
          }
        },
        "ab4bb3172a35438caec8f986d0704d91": {
          "model_module": "@jupyter-widgets/controls",
          "model_module_version": "1.5.0",
          "model_name": "FloatProgressModel",
          "state": {
            "_dom_classes": [],
            "_model_module": "@jupyter-widgets/controls",
            "_model_module_version": "1.5.0",
            "_model_name": "FloatProgressModel",
            "_view_count": null,
            "_view_module": "@jupyter-widgets/controls",
            "_view_module_version": "1.5.0",
            "_view_name": "ProgressView",
            "bar_style": "success",
            "description": "",
            "description_tooltip": null,
            "layout": "IPY_MODEL_515d7eab0a814876b8da7af2ce268829",
            "max": 4542,
            "min": 0,
            "orientation": "horizontal",
            "style": "IPY_MODEL_ed5cd89da17c43c1a06c0dd736eba8bb",
            "value": 4542
          }
        },
        "abd3ad0bcb324bd69d0c15f3caf9ad72": {
          "model_module": "@jupyter-widgets/controls",
          "model_module_version": "1.5.0",
          "model_name": "HBoxModel",
          "state": {
            "_dom_classes": [],
            "_model_module": "@jupyter-widgets/controls",
            "_model_module_version": "1.5.0",
            "_model_name": "HBoxModel",
            "_view_count": null,
            "_view_module": "@jupyter-widgets/controls",
            "_view_module_version": "1.5.0",
            "_view_name": "HBoxView",
            "box_style": "",
            "children": [
              "IPY_MODEL_05206942fe324fb080186e318f099d4c",
              "IPY_MODEL_b56ae405e53c436d8ebef01fb306db44",
              "IPY_MODEL_bf4e3da1caab41f88153fa585ef6bd24"
            ],
            "layout": "IPY_MODEL_5b833f5e5cbb41439717a7c15aaf0854"
          }
        },
        "b56ae405e53c436d8ebef01fb306db44": {
          "model_module": "@jupyter-widgets/controls",
          "model_module_version": "1.5.0",
          "model_name": "FloatProgressModel",
          "state": {
            "_dom_classes": [],
            "_model_module": "@jupyter-widgets/controls",
            "_model_module_version": "1.5.0",
            "_model_name": "FloatProgressModel",
            "_view_count": null,
            "_view_module": "@jupyter-widgets/controls",
            "_view_module_version": "1.5.0",
            "_view_name": "ProgressView",
            "bar_style": "success",
            "description": "",
            "description_tooltip": null,
            "layout": "IPY_MODEL_d4451bf0283041109f89a0cf41fd1d20",
            "max": 1648877,
            "min": 0,
            "orientation": "horizontal",
            "style": "IPY_MODEL_37516cb9b5d64499b878fa721b00ece0",
            "value": 1648877
          }
        },
        "b9d6e08589b94bc090f57b5b8520705a": {
          "model_module": "@jupyter-widgets/controls",
          "model_module_version": "1.5.0",
          "model_name": "DescriptionStyleModel",
          "state": {
            "_model_module": "@jupyter-widgets/controls",
            "_model_module_version": "1.5.0",
            "_model_name": "DescriptionStyleModel",
            "_view_count": null,
            "_view_module": "@jupyter-widgets/base",
            "_view_module_version": "1.2.0",
            "_view_name": "StyleView",
            "description_width": ""
          }
        },
        "b9e8a7d624b0438cbb852d12e48414d4": {
          "model_module": "@jupyter-widgets/base",
          "model_module_version": "1.2.0",
          "model_name": "LayoutModel",
          "state": {
            "_model_module": "@jupyter-widgets/base",
            "_model_module_version": "1.2.0",
            "_model_name": "LayoutModel",
            "_view_count": null,
            "_view_module": "@jupyter-widgets/base",
            "_view_module_version": "1.2.0",
            "_view_name": "LayoutView",
            "align_content": null,
            "align_items": null,
            "align_self": null,
            "border": null,
            "bottom": null,
            "display": null,
            "flex": null,
            "flex_flow": null,
            "grid_area": null,
            "grid_auto_columns": null,
            "grid_auto_flow": null,
            "grid_auto_rows": null,
            "grid_column": null,
            "grid_gap": null,
            "grid_row": null,
            "grid_template_areas": null,
            "grid_template_columns": null,
            "grid_template_rows": null,
            "height": null,
            "justify_content": null,
            "justify_items": null,
            "left": null,
            "margin": null,
            "max_height": null,
            "max_width": null,
            "min_height": null,
            "min_width": null,
            "object_fit": null,
            "object_position": null,
            "order": null,
            "overflow": null,
            "overflow_x": null,
            "overflow_y": null,
            "padding": null,
            "right": null,
            "top": null,
            "visibility": null,
            "width": null
          }
        },
        "b9f562c71bc6449c94ddfe8e27667265": {
          "model_module": "@jupyter-widgets/base",
          "model_module_version": "1.2.0",
          "model_name": "LayoutModel",
          "state": {
            "_model_module": "@jupyter-widgets/base",
            "_model_module_version": "1.2.0",
            "_model_name": "LayoutModel",
            "_view_count": null,
            "_view_module": "@jupyter-widgets/base",
            "_view_module_version": "1.2.0",
            "_view_name": "LayoutView",
            "align_content": null,
            "align_items": null,
            "align_self": null,
            "border": null,
            "bottom": null,
            "display": null,
            "flex": null,
            "flex_flow": null,
            "grid_area": null,
            "grid_auto_columns": null,
            "grid_auto_flow": null,
            "grid_auto_rows": null,
            "grid_column": null,
            "grid_gap": null,
            "grid_row": null,
            "grid_template_areas": null,
            "grid_template_columns": null,
            "grid_template_rows": null,
            "height": null,
            "justify_content": null,
            "justify_items": null,
            "left": null,
            "margin": null,
            "max_height": null,
            "max_width": null,
            "min_height": null,
            "min_width": null,
            "object_fit": null,
            "object_position": null,
            "order": null,
            "overflow": null,
            "overflow_x": null,
            "overflow_y": null,
            "padding": null,
            "right": null,
            "top": null,
            "visibility": null,
            "width": null
          }
        },
        "bdc6445a4691478a9bc23f88efcd98b0": {
          "model_module": "@jupyter-widgets/controls",
          "model_module_version": "1.5.0",
          "model_name": "HBoxModel",
          "state": {
            "_dom_classes": [],
            "_model_module": "@jupyter-widgets/controls",
            "_model_module_version": "1.5.0",
            "_model_name": "HBoxModel",
            "_view_count": null,
            "_view_module": "@jupyter-widgets/controls",
            "_view_module_version": "1.5.0",
            "_view_name": "HBoxView",
            "box_style": "",
            "children": [
              "IPY_MODEL_3a56bb5dab194f818d2421a945733cfd",
              "IPY_MODEL_ab4bb3172a35438caec8f986d0704d91",
              "IPY_MODEL_e9c1c05c280747ac8378609bb7f1be8c"
            ],
            "layout": "IPY_MODEL_88b077b63a96432da8fa164764357156"
          }
        },
        "bf4e3da1caab41f88153fa585ef6bd24": {
          "model_module": "@jupyter-widgets/controls",
          "model_module_version": "1.5.0",
          "model_name": "HTMLModel",
          "state": {
            "_dom_classes": [],
            "_model_module": "@jupyter-widgets/controls",
            "_model_module_version": "1.5.0",
            "_model_name": "HTMLModel",
            "_view_count": null,
            "_view_module": "@jupyter-widgets/controls",
            "_view_module_version": "1.5.0",
            "_view_name": "HTMLView",
            "description": "",
            "description_tooltip": null,
            "layout": "IPY_MODEL_b9e8a7d624b0438cbb852d12e48414d4",
            "placeholder": "​",
            "style": "IPY_MODEL_2de9fb45c8474eaca6427810ccb05786",
            "value": " 1649664/? [00:00&lt;00:00, 36066012.23it/s]"
          }
        },
        "c4096fd39b1c4de99eba03035890e6a3": {
          "model_module": "@jupyter-widgets/controls",
          "model_module_version": "1.5.0",
          "model_name": "ProgressStyleModel",
          "state": {
            "_model_module": "@jupyter-widgets/controls",
            "_model_module_version": "1.5.0",
            "_model_name": "ProgressStyleModel",
            "_view_count": null,
            "_view_module": "@jupyter-widgets/base",
            "_view_module_version": "1.2.0",
            "_view_name": "StyleView",
            "bar_color": null,
            "description_width": ""
          }
        },
        "c62527e4db0446c5ac0bc7b49fc6866e": {
          "model_module": "@jupyter-widgets/base",
          "model_module_version": "1.2.0",
          "model_name": "LayoutModel",
          "state": {
            "_model_module": "@jupyter-widgets/base",
            "_model_module_version": "1.2.0",
            "_model_name": "LayoutModel",
            "_view_count": null,
            "_view_module": "@jupyter-widgets/base",
            "_view_module_version": "1.2.0",
            "_view_name": "LayoutView",
            "align_content": null,
            "align_items": null,
            "align_self": null,
            "border": null,
            "bottom": null,
            "display": null,
            "flex": null,
            "flex_flow": null,
            "grid_area": null,
            "grid_auto_columns": null,
            "grid_auto_flow": null,
            "grid_auto_rows": null,
            "grid_column": null,
            "grid_gap": null,
            "grid_row": null,
            "grid_template_areas": null,
            "grid_template_columns": null,
            "grid_template_rows": null,
            "height": null,
            "justify_content": null,
            "justify_items": null,
            "left": null,
            "margin": null,
            "max_height": null,
            "max_width": null,
            "min_height": null,
            "min_width": null,
            "object_fit": null,
            "object_position": null,
            "order": null,
            "overflow": null,
            "overflow_x": null,
            "overflow_y": null,
            "padding": null,
            "right": null,
            "top": null,
            "visibility": null,
            "width": null
          }
        },
        "cd7c069a233643c5b77dd6b31db11671": {
          "model_module": "@jupyter-widgets/controls",
          "model_module_version": "1.5.0",
          "model_name": "DescriptionStyleModel",
          "state": {
            "_model_module": "@jupyter-widgets/controls",
            "_model_module_version": "1.5.0",
            "_model_name": "DescriptionStyleModel",
            "_view_count": null,
            "_view_module": "@jupyter-widgets/base",
            "_view_module_version": "1.2.0",
            "_view_name": "StyleView",
            "description_width": ""
          }
        },
        "ce5d5377314f4610a98d75829eeb2edf": {
          "model_module": "@jupyter-widgets/controls",
          "model_module_version": "1.5.0",
          "model_name": "ProgressStyleModel",
          "state": {
            "_model_module": "@jupyter-widgets/controls",
            "_model_module_version": "1.5.0",
            "_model_name": "ProgressStyleModel",
            "_view_count": null,
            "_view_module": "@jupyter-widgets/base",
            "_view_module_version": "1.2.0",
            "_view_name": "StyleView",
            "bar_color": null,
            "description_width": ""
          }
        },
        "d33c3946a188402daf72ee85287f54b5": {
          "model_module": "@jupyter-widgets/controls",
          "model_module_version": "1.5.0",
          "model_name": "DescriptionStyleModel",
          "state": {
            "_model_module": "@jupyter-widgets/controls",
            "_model_module_version": "1.5.0",
            "_model_name": "DescriptionStyleModel",
            "_view_count": null,
            "_view_module": "@jupyter-widgets/base",
            "_view_module_version": "1.2.0",
            "_view_name": "StyleView",
            "description_width": ""
          }
        },
        "d4451bf0283041109f89a0cf41fd1d20": {
          "model_module": "@jupyter-widgets/base",
          "model_module_version": "1.2.0",
          "model_name": "LayoutModel",
          "state": {
            "_model_module": "@jupyter-widgets/base",
            "_model_module_version": "1.2.0",
            "_model_name": "LayoutModel",
            "_view_count": null,
            "_view_module": "@jupyter-widgets/base",
            "_view_module_version": "1.2.0",
            "_view_name": "LayoutView",
            "align_content": null,
            "align_items": null,
            "align_self": null,
            "border": null,
            "bottom": null,
            "display": null,
            "flex": null,
            "flex_flow": null,
            "grid_area": null,
            "grid_auto_columns": null,
            "grid_auto_flow": null,
            "grid_auto_rows": null,
            "grid_column": null,
            "grid_gap": null,
            "grid_row": null,
            "grid_template_areas": null,
            "grid_template_columns": null,
            "grid_template_rows": null,
            "height": null,
            "justify_content": null,
            "justify_items": null,
            "left": null,
            "margin": null,
            "max_height": null,
            "max_width": null,
            "min_height": null,
            "min_width": null,
            "object_fit": null,
            "object_position": null,
            "order": null,
            "overflow": null,
            "overflow_x": null,
            "overflow_y": null,
            "padding": null,
            "right": null,
            "top": null,
            "visibility": null,
            "width": null
          }
        },
        "e44b99b90a284349b1cf91cedb56a13e": {
          "model_module": "@jupyter-widgets/controls",
          "model_module_version": "1.5.0",
          "model_name": "FloatProgressModel",
          "state": {
            "_dom_classes": [],
            "_model_module": "@jupyter-widgets/controls",
            "_model_module_version": "1.5.0",
            "_model_name": "FloatProgressModel",
            "_view_count": null,
            "_view_module": "@jupyter-widgets/controls",
            "_view_module_version": "1.5.0",
            "_view_name": "ProgressView",
            "bar_style": "success",
            "description": "",
            "description_tooltip": null,
            "layout": "IPY_MODEL_389932b7e3904e60a14d199e4baf81d3",
            "max": 28881,
            "min": 0,
            "orientation": "horizontal",
            "style": "IPY_MODEL_c4096fd39b1c4de99eba03035890e6a3",
            "value": 28881
          }
        },
        "e493e9fa7c8846ef999ee7fa712b6a81": {
          "model_module": "@jupyter-widgets/controls",
          "model_module_version": "1.5.0",
          "model_name": "DescriptionStyleModel",
          "state": {
            "_model_module": "@jupyter-widgets/controls",
            "_model_module_version": "1.5.0",
            "_model_name": "DescriptionStyleModel",
            "_view_count": null,
            "_view_module": "@jupyter-widgets/base",
            "_view_module_version": "1.2.0",
            "_view_name": "StyleView",
            "description_width": ""
          }
        },
        "e9c1c05c280747ac8378609bb7f1be8c": {
          "model_module": "@jupyter-widgets/controls",
          "model_module_version": "1.5.0",
          "model_name": "HTMLModel",
          "state": {
            "_dom_classes": [],
            "_model_module": "@jupyter-widgets/controls",
            "_model_module_version": "1.5.0",
            "_model_name": "HTMLModel",
            "_view_count": null,
            "_view_module": "@jupyter-widgets/controls",
            "_view_module_version": "1.5.0",
            "_view_name": "HTMLView",
            "description": "",
            "description_tooltip": null,
            "layout": "IPY_MODEL_0886286bc28c4b6399e2815f2e9e45dc",
            "placeholder": "​",
            "style": "IPY_MODEL_775339facc1e4fdf8355f7cdd8e9cf49",
            "value": " 5120/? [00:00&lt;00:00, 185062.49it/s]"
          }
        },
        "ed5cd89da17c43c1a06c0dd736eba8bb": {
          "model_module": "@jupyter-widgets/controls",
          "model_module_version": "1.5.0",
          "model_name": "ProgressStyleModel",
          "state": {
            "_model_module": "@jupyter-widgets/controls",
            "_model_module_version": "1.5.0",
            "_model_name": "ProgressStyleModel",
            "_view_count": null,
            "_view_module": "@jupyter-widgets/base",
            "_view_module_version": "1.2.0",
            "_view_name": "StyleView",
            "bar_color": null,
            "description_width": ""
          }
        },
        "f2507818ac4a4c28ba1b39d8035b208d": {
          "model_module": "@jupyter-widgets/controls",
          "model_module_version": "1.5.0",
          "model_name": "HBoxModel",
          "state": {
            "_dom_classes": [],
            "_model_module": "@jupyter-widgets/controls",
            "_model_module_version": "1.5.0",
            "_model_name": "HBoxModel",
            "_view_count": null,
            "_view_module": "@jupyter-widgets/controls",
            "_view_module_version": "1.5.0",
            "_view_name": "HBoxView",
            "box_style": "",
            "children": [
              "IPY_MODEL_ab33eb9570404dddac6e812f0fd87f1e",
              "IPY_MODEL_e44b99b90a284349b1cf91cedb56a13e",
              "IPY_MODEL_9deaedc8b2684cb7a175d9eef0358e8e"
            ],
            "layout": "IPY_MODEL_74547427a9b04d3f85ad02dec987f94e"
          }
        },
        "1edbace81991435bb8e56bed710b62d4": {
          "model_module": "@jupyter-widgets/controls",
          "model_name": "HBoxModel",
          "model_module_version": "1.5.0",
          "state": {
            "_dom_classes": [],
            "_model_module": "@jupyter-widgets/controls",
            "_model_module_version": "1.5.0",
            "_model_name": "HBoxModel",
            "_view_count": null,
            "_view_module": "@jupyter-widgets/controls",
            "_view_module_version": "1.5.0",
            "_view_name": "HBoxView",
            "box_style": "",
            "children": [
              "IPY_MODEL_c631f723a82845b68b075c8d7b066733",
              "IPY_MODEL_f44d711822d448b1b8ec656d9174f59f",
              "IPY_MODEL_bc1adb3f26484b348b9078d697e3ecbf"
            ],
            "layout": "IPY_MODEL_7d95fbb10c9441358c1b91a6c8bb9806"
          }
        },
        "c631f723a82845b68b075c8d7b066733": {
          "model_module": "@jupyter-widgets/controls",
          "model_name": "HTMLModel",
          "model_module_version": "1.5.0",
          "state": {
            "_dom_classes": [],
            "_model_module": "@jupyter-widgets/controls",
            "_model_module_version": "1.5.0",
            "_model_name": "HTMLModel",
            "_view_count": null,
            "_view_module": "@jupyter-widgets/controls",
            "_view_module_version": "1.5.0",
            "_view_name": "HTMLView",
            "description": "",
            "description_tooltip": null,
            "layout": "IPY_MODEL_585ca4a7a5b84880be5d772a93311ea1",
            "placeholder": "​",
            "style": "IPY_MODEL_04b9862bd985406285c51ec3ca00bf03",
            "value": ""
          }
        },
        "f44d711822d448b1b8ec656d9174f59f": {
          "model_module": "@jupyter-widgets/controls",
          "model_name": "FloatProgressModel",
          "model_module_version": "1.5.0",
          "state": {
            "_dom_classes": [],
            "_model_module": "@jupyter-widgets/controls",
            "_model_module_version": "1.5.0",
            "_model_name": "FloatProgressModel",
            "_view_count": null,
            "_view_module": "@jupyter-widgets/controls",
            "_view_module_version": "1.5.0",
            "_view_name": "ProgressView",
            "bar_style": "success",
            "description": "",
            "description_tooltip": null,
            "layout": "IPY_MODEL_b6c37365fe0348ed9e0ab1dad5a91ec2",
            "max": 9912422,
            "min": 0,
            "orientation": "horizontal",
            "style": "IPY_MODEL_4cb327b3a0104d4b991bfaf11d528cbd",
            "value": 9912422
          }
        },
        "bc1adb3f26484b348b9078d697e3ecbf": {
          "model_module": "@jupyter-widgets/controls",
          "model_name": "HTMLModel",
          "model_module_version": "1.5.0",
          "state": {
            "_dom_classes": [],
            "_model_module": "@jupyter-widgets/controls",
            "_model_module_version": "1.5.0",
            "_model_name": "HTMLModel",
            "_view_count": null,
            "_view_module": "@jupyter-widgets/controls",
            "_view_module_version": "1.5.0",
            "_view_name": "HTMLView",
            "description": "",
            "description_tooltip": null,
            "layout": "IPY_MODEL_5a160abaa0f8486cba54689a27015645",
            "placeholder": "​",
            "style": "IPY_MODEL_7a62ae8bf94a4604b384d3b5d7612778",
            "value": " 9913344/? [00:00&lt;00:00, 75094502.36it/s]"
          }
        },
        "7d95fbb10c9441358c1b91a6c8bb9806": {
          "model_module": "@jupyter-widgets/base",
          "model_name": "LayoutModel",
          "model_module_version": "1.2.0",
          "state": {
            "_model_module": "@jupyter-widgets/base",
            "_model_module_version": "1.2.0",
            "_model_name": "LayoutModel",
            "_view_count": null,
            "_view_module": "@jupyter-widgets/base",
            "_view_module_version": "1.2.0",
            "_view_name": "LayoutView",
            "align_content": null,
            "align_items": null,
            "align_self": null,
            "border": null,
            "bottom": null,
            "display": null,
            "flex": null,
            "flex_flow": null,
            "grid_area": null,
            "grid_auto_columns": null,
            "grid_auto_flow": null,
            "grid_auto_rows": null,
            "grid_column": null,
            "grid_gap": null,
            "grid_row": null,
            "grid_template_areas": null,
            "grid_template_columns": null,
            "grid_template_rows": null,
            "height": null,
            "justify_content": null,
            "justify_items": null,
            "left": null,
            "margin": null,
            "max_height": null,
            "max_width": null,
            "min_height": null,
            "min_width": null,
            "object_fit": null,
            "object_position": null,
            "order": null,
            "overflow": null,
            "overflow_x": null,
            "overflow_y": null,
            "padding": null,
            "right": null,
            "top": null,
            "visibility": null,
            "width": null
          }
        },
        "585ca4a7a5b84880be5d772a93311ea1": {
          "model_module": "@jupyter-widgets/base",
          "model_name": "LayoutModel",
          "model_module_version": "1.2.0",
          "state": {
            "_model_module": "@jupyter-widgets/base",
            "_model_module_version": "1.2.0",
            "_model_name": "LayoutModel",
            "_view_count": null,
            "_view_module": "@jupyter-widgets/base",
            "_view_module_version": "1.2.0",
            "_view_name": "LayoutView",
            "align_content": null,
            "align_items": null,
            "align_self": null,
            "border": null,
            "bottom": null,
            "display": null,
            "flex": null,
            "flex_flow": null,
            "grid_area": null,
            "grid_auto_columns": null,
            "grid_auto_flow": null,
            "grid_auto_rows": null,
            "grid_column": null,
            "grid_gap": null,
            "grid_row": null,
            "grid_template_areas": null,
            "grid_template_columns": null,
            "grid_template_rows": null,
            "height": null,
            "justify_content": null,
            "justify_items": null,
            "left": null,
            "margin": null,
            "max_height": null,
            "max_width": null,
            "min_height": null,
            "min_width": null,
            "object_fit": null,
            "object_position": null,
            "order": null,
            "overflow": null,
            "overflow_x": null,
            "overflow_y": null,
            "padding": null,
            "right": null,
            "top": null,
            "visibility": null,
            "width": null
          }
        },
        "04b9862bd985406285c51ec3ca00bf03": {
          "model_module": "@jupyter-widgets/controls",
          "model_name": "DescriptionStyleModel",
          "model_module_version": "1.5.0",
          "state": {
            "_model_module": "@jupyter-widgets/controls",
            "_model_module_version": "1.5.0",
            "_model_name": "DescriptionStyleModel",
            "_view_count": null,
            "_view_module": "@jupyter-widgets/base",
            "_view_module_version": "1.2.0",
            "_view_name": "StyleView",
            "description_width": ""
          }
        },
        "b6c37365fe0348ed9e0ab1dad5a91ec2": {
          "model_module": "@jupyter-widgets/base",
          "model_name": "LayoutModel",
          "model_module_version": "1.2.0",
          "state": {
            "_model_module": "@jupyter-widgets/base",
            "_model_module_version": "1.2.0",
            "_model_name": "LayoutModel",
            "_view_count": null,
            "_view_module": "@jupyter-widgets/base",
            "_view_module_version": "1.2.0",
            "_view_name": "LayoutView",
            "align_content": null,
            "align_items": null,
            "align_self": null,
            "border": null,
            "bottom": null,
            "display": null,
            "flex": null,
            "flex_flow": null,
            "grid_area": null,
            "grid_auto_columns": null,
            "grid_auto_flow": null,
            "grid_auto_rows": null,
            "grid_column": null,
            "grid_gap": null,
            "grid_row": null,
            "grid_template_areas": null,
            "grid_template_columns": null,
            "grid_template_rows": null,
            "height": null,
            "justify_content": null,
            "justify_items": null,
            "left": null,
            "margin": null,
            "max_height": null,
            "max_width": null,
            "min_height": null,
            "min_width": null,
            "object_fit": null,
            "object_position": null,
            "order": null,
            "overflow": null,
            "overflow_x": null,
            "overflow_y": null,
            "padding": null,
            "right": null,
            "top": null,
            "visibility": null,
            "width": null
          }
        },
        "4cb327b3a0104d4b991bfaf11d528cbd": {
          "model_module": "@jupyter-widgets/controls",
          "model_name": "ProgressStyleModel",
          "model_module_version": "1.5.0",
          "state": {
            "_model_module": "@jupyter-widgets/controls",
            "_model_module_version": "1.5.0",
            "_model_name": "ProgressStyleModel",
            "_view_count": null,
            "_view_module": "@jupyter-widgets/base",
            "_view_module_version": "1.2.0",
            "_view_name": "StyleView",
            "bar_color": null,
            "description_width": ""
          }
        },
        "5a160abaa0f8486cba54689a27015645": {
          "model_module": "@jupyter-widgets/base",
          "model_name": "LayoutModel",
          "model_module_version": "1.2.0",
          "state": {
            "_model_module": "@jupyter-widgets/base",
            "_model_module_version": "1.2.0",
            "_model_name": "LayoutModel",
            "_view_count": null,
            "_view_module": "@jupyter-widgets/base",
            "_view_module_version": "1.2.0",
            "_view_name": "LayoutView",
            "align_content": null,
            "align_items": null,
            "align_self": null,
            "border": null,
            "bottom": null,
            "display": null,
            "flex": null,
            "flex_flow": null,
            "grid_area": null,
            "grid_auto_columns": null,
            "grid_auto_flow": null,
            "grid_auto_rows": null,
            "grid_column": null,
            "grid_gap": null,
            "grid_row": null,
            "grid_template_areas": null,
            "grid_template_columns": null,
            "grid_template_rows": null,
            "height": null,
            "justify_content": null,
            "justify_items": null,
            "left": null,
            "margin": null,
            "max_height": null,
            "max_width": null,
            "min_height": null,
            "min_width": null,
            "object_fit": null,
            "object_position": null,
            "order": null,
            "overflow": null,
            "overflow_x": null,
            "overflow_y": null,
            "padding": null,
            "right": null,
            "top": null,
            "visibility": null,
            "width": null
          }
        },
        "7a62ae8bf94a4604b384d3b5d7612778": {
          "model_module": "@jupyter-widgets/controls",
          "model_name": "DescriptionStyleModel",
          "model_module_version": "1.5.0",
          "state": {
            "_model_module": "@jupyter-widgets/controls",
            "_model_module_version": "1.5.0",
            "_model_name": "DescriptionStyleModel",
            "_view_count": null,
            "_view_module": "@jupyter-widgets/base",
            "_view_module_version": "1.2.0",
            "_view_name": "StyleView",
            "description_width": ""
          }
        },
        "abe4182d41c14e8ab89bb5ecb8c105f8": {
          "model_module": "@jupyter-widgets/controls",
          "model_name": "HBoxModel",
          "model_module_version": "1.5.0",
          "state": {
            "_dom_classes": [],
            "_model_module": "@jupyter-widgets/controls",
            "_model_module_version": "1.5.0",
            "_model_name": "HBoxModel",
            "_view_count": null,
            "_view_module": "@jupyter-widgets/controls",
            "_view_module_version": "1.5.0",
            "_view_name": "HBoxView",
            "box_style": "",
            "children": [
              "IPY_MODEL_5a0784131496476283fc2987ccb662d6",
              "IPY_MODEL_d475c7511fa1415d90677adb0ca7d09d",
              "IPY_MODEL_9f98589875054ee3b633dff3208233cb"
            ],
            "layout": "IPY_MODEL_48ff6e5cc54a4360865eb559c744c2ac"
          }
        },
        "5a0784131496476283fc2987ccb662d6": {
          "model_module": "@jupyter-widgets/controls",
          "model_name": "HTMLModel",
          "model_module_version": "1.5.0",
          "state": {
            "_dom_classes": [],
            "_model_module": "@jupyter-widgets/controls",
            "_model_module_version": "1.5.0",
            "_model_name": "HTMLModel",
            "_view_count": null,
            "_view_module": "@jupyter-widgets/controls",
            "_view_module_version": "1.5.0",
            "_view_name": "HTMLView",
            "description": "",
            "description_tooltip": null,
            "layout": "IPY_MODEL_1ee6bd4ecb1846d18627a5fa56279b73",
            "placeholder": "​",
            "style": "IPY_MODEL_3a5d3f60f63044fe95b003c098f687a5",
            "value": ""
          }
        },
        "d475c7511fa1415d90677adb0ca7d09d": {
          "model_module": "@jupyter-widgets/controls",
          "model_name": "FloatProgressModel",
          "model_module_version": "1.5.0",
          "state": {
            "_dom_classes": [],
            "_model_module": "@jupyter-widgets/controls",
            "_model_module_version": "1.5.0",
            "_model_name": "FloatProgressModel",
            "_view_count": null,
            "_view_module": "@jupyter-widgets/controls",
            "_view_module_version": "1.5.0",
            "_view_name": "ProgressView",
            "bar_style": "success",
            "description": "",
            "description_tooltip": null,
            "layout": "IPY_MODEL_7e13e6026f2e449fbf119250ca946d07",
            "max": 28881,
            "min": 0,
            "orientation": "horizontal",
            "style": "IPY_MODEL_0314fe2a86974d29a850395cb9ba3b9e",
            "value": 28881
          }
        },
        "9f98589875054ee3b633dff3208233cb": {
          "model_module": "@jupyter-widgets/controls",
          "model_name": "HTMLModel",
          "model_module_version": "1.5.0",
          "state": {
            "_dom_classes": [],
            "_model_module": "@jupyter-widgets/controls",
            "_model_module_version": "1.5.0",
            "_model_name": "HTMLModel",
            "_view_count": null,
            "_view_module": "@jupyter-widgets/controls",
            "_view_module_version": "1.5.0",
            "_view_name": "HTMLView",
            "description": "",
            "description_tooltip": null,
            "layout": "IPY_MODEL_1228ab299de64dd6bd87c772613f93e8",
            "placeholder": "​",
            "style": "IPY_MODEL_af478b1a511f4e00a2ee7634bb8184a8",
            "value": " 29696/? [00:00&lt;00:00, 919414.87it/s]"
          }
        },
        "48ff6e5cc54a4360865eb559c744c2ac": {
          "model_module": "@jupyter-widgets/base",
          "model_name": "LayoutModel",
          "model_module_version": "1.2.0",
          "state": {
            "_model_module": "@jupyter-widgets/base",
            "_model_module_version": "1.2.0",
            "_model_name": "LayoutModel",
            "_view_count": null,
            "_view_module": "@jupyter-widgets/base",
            "_view_module_version": "1.2.0",
            "_view_name": "LayoutView",
            "align_content": null,
            "align_items": null,
            "align_self": null,
            "border": null,
            "bottom": null,
            "display": null,
            "flex": null,
            "flex_flow": null,
            "grid_area": null,
            "grid_auto_columns": null,
            "grid_auto_flow": null,
            "grid_auto_rows": null,
            "grid_column": null,
            "grid_gap": null,
            "grid_row": null,
            "grid_template_areas": null,
            "grid_template_columns": null,
            "grid_template_rows": null,
            "height": null,
            "justify_content": null,
            "justify_items": null,
            "left": null,
            "margin": null,
            "max_height": null,
            "max_width": null,
            "min_height": null,
            "min_width": null,
            "object_fit": null,
            "object_position": null,
            "order": null,
            "overflow": null,
            "overflow_x": null,
            "overflow_y": null,
            "padding": null,
            "right": null,
            "top": null,
            "visibility": null,
            "width": null
          }
        },
        "1ee6bd4ecb1846d18627a5fa56279b73": {
          "model_module": "@jupyter-widgets/base",
          "model_name": "LayoutModel",
          "model_module_version": "1.2.0",
          "state": {
            "_model_module": "@jupyter-widgets/base",
            "_model_module_version": "1.2.0",
            "_model_name": "LayoutModel",
            "_view_count": null,
            "_view_module": "@jupyter-widgets/base",
            "_view_module_version": "1.2.0",
            "_view_name": "LayoutView",
            "align_content": null,
            "align_items": null,
            "align_self": null,
            "border": null,
            "bottom": null,
            "display": null,
            "flex": null,
            "flex_flow": null,
            "grid_area": null,
            "grid_auto_columns": null,
            "grid_auto_flow": null,
            "grid_auto_rows": null,
            "grid_column": null,
            "grid_gap": null,
            "grid_row": null,
            "grid_template_areas": null,
            "grid_template_columns": null,
            "grid_template_rows": null,
            "height": null,
            "justify_content": null,
            "justify_items": null,
            "left": null,
            "margin": null,
            "max_height": null,
            "max_width": null,
            "min_height": null,
            "min_width": null,
            "object_fit": null,
            "object_position": null,
            "order": null,
            "overflow": null,
            "overflow_x": null,
            "overflow_y": null,
            "padding": null,
            "right": null,
            "top": null,
            "visibility": null,
            "width": null
          }
        },
        "3a5d3f60f63044fe95b003c098f687a5": {
          "model_module": "@jupyter-widgets/controls",
          "model_name": "DescriptionStyleModel",
          "model_module_version": "1.5.0",
          "state": {
            "_model_module": "@jupyter-widgets/controls",
            "_model_module_version": "1.5.0",
            "_model_name": "DescriptionStyleModel",
            "_view_count": null,
            "_view_module": "@jupyter-widgets/base",
            "_view_module_version": "1.2.0",
            "_view_name": "StyleView",
            "description_width": ""
          }
        },
        "7e13e6026f2e449fbf119250ca946d07": {
          "model_module": "@jupyter-widgets/base",
          "model_name": "LayoutModel",
          "model_module_version": "1.2.0",
          "state": {
            "_model_module": "@jupyter-widgets/base",
            "_model_module_version": "1.2.0",
            "_model_name": "LayoutModel",
            "_view_count": null,
            "_view_module": "@jupyter-widgets/base",
            "_view_module_version": "1.2.0",
            "_view_name": "LayoutView",
            "align_content": null,
            "align_items": null,
            "align_self": null,
            "border": null,
            "bottom": null,
            "display": null,
            "flex": null,
            "flex_flow": null,
            "grid_area": null,
            "grid_auto_columns": null,
            "grid_auto_flow": null,
            "grid_auto_rows": null,
            "grid_column": null,
            "grid_gap": null,
            "grid_row": null,
            "grid_template_areas": null,
            "grid_template_columns": null,
            "grid_template_rows": null,
            "height": null,
            "justify_content": null,
            "justify_items": null,
            "left": null,
            "margin": null,
            "max_height": null,
            "max_width": null,
            "min_height": null,
            "min_width": null,
            "object_fit": null,
            "object_position": null,
            "order": null,
            "overflow": null,
            "overflow_x": null,
            "overflow_y": null,
            "padding": null,
            "right": null,
            "top": null,
            "visibility": null,
            "width": null
          }
        },
        "0314fe2a86974d29a850395cb9ba3b9e": {
          "model_module": "@jupyter-widgets/controls",
          "model_name": "ProgressStyleModel",
          "model_module_version": "1.5.0",
          "state": {
            "_model_module": "@jupyter-widgets/controls",
            "_model_module_version": "1.5.0",
            "_model_name": "ProgressStyleModel",
            "_view_count": null,
            "_view_module": "@jupyter-widgets/base",
            "_view_module_version": "1.2.0",
            "_view_name": "StyleView",
            "bar_color": null,
            "description_width": ""
          }
        },
        "1228ab299de64dd6bd87c772613f93e8": {
          "model_module": "@jupyter-widgets/base",
          "model_name": "LayoutModel",
          "model_module_version": "1.2.0",
          "state": {
            "_model_module": "@jupyter-widgets/base",
            "_model_module_version": "1.2.0",
            "_model_name": "LayoutModel",
            "_view_count": null,
            "_view_module": "@jupyter-widgets/base",
            "_view_module_version": "1.2.0",
            "_view_name": "LayoutView",
            "align_content": null,
            "align_items": null,
            "align_self": null,
            "border": null,
            "bottom": null,
            "display": null,
            "flex": null,
            "flex_flow": null,
            "grid_area": null,
            "grid_auto_columns": null,
            "grid_auto_flow": null,
            "grid_auto_rows": null,
            "grid_column": null,
            "grid_gap": null,
            "grid_row": null,
            "grid_template_areas": null,
            "grid_template_columns": null,
            "grid_template_rows": null,
            "height": null,
            "justify_content": null,
            "justify_items": null,
            "left": null,
            "margin": null,
            "max_height": null,
            "max_width": null,
            "min_height": null,
            "min_width": null,
            "object_fit": null,
            "object_position": null,
            "order": null,
            "overflow": null,
            "overflow_x": null,
            "overflow_y": null,
            "padding": null,
            "right": null,
            "top": null,
            "visibility": null,
            "width": null
          }
        },
        "af478b1a511f4e00a2ee7634bb8184a8": {
          "model_module": "@jupyter-widgets/controls",
          "model_name": "DescriptionStyleModel",
          "model_module_version": "1.5.0",
          "state": {
            "_model_module": "@jupyter-widgets/controls",
            "_model_module_version": "1.5.0",
            "_model_name": "DescriptionStyleModel",
            "_view_count": null,
            "_view_module": "@jupyter-widgets/base",
            "_view_module_version": "1.2.0",
            "_view_name": "StyleView",
            "description_width": ""
          }
        },
        "e2adec04071348f1aa793e38f00e1e74": {
          "model_module": "@jupyter-widgets/controls",
          "model_name": "HBoxModel",
          "model_module_version": "1.5.0",
          "state": {
            "_dom_classes": [],
            "_model_module": "@jupyter-widgets/controls",
            "_model_module_version": "1.5.0",
            "_model_name": "HBoxModel",
            "_view_count": null,
            "_view_module": "@jupyter-widgets/controls",
            "_view_module_version": "1.5.0",
            "_view_name": "HBoxView",
            "box_style": "",
            "children": [
              "IPY_MODEL_723cff0c94524698bdf21f76699b0a4b",
              "IPY_MODEL_e618fefc43de40aa9d88824ac7d516e7",
              "IPY_MODEL_31978e37200f499ca0db06a53f6ae2bb"
            ],
            "layout": "IPY_MODEL_0678acd684f54985b09333db79657740"
          }
        },
        "723cff0c94524698bdf21f76699b0a4b": {
          "model_module": "@jupyter-widgets/controls",
          "model_name": "HTMLModel",
          "model_module_version": "1.5.0",
          "state": {
            "_dom_classes": [],
            "_model_module": "@jupyter-widgets/controls",
            "_model_module_version": "1.5.0",
            "_model_name": "HTMLModel",
            "_view_count": null,
            "_view_module": "@jupyter-widgets/controls",
            "_view_module_version": "1.5.0",
            "_view_name": "HTMLView",
            "description": "",
            "description_tooltip": null,
            "layout": "IPY_MODEL_8c856e1fa6714155a6f1f6b40278c52e",
            "placeholder": "​",
            "style": "IPY_MODEL_c96aef9d23ca453ea1b8cf33ef278a29",
            "value": ""
          }
        },
        "e618fefc43de40aa9d88824ac7d516e7": {
          "model_module": "@jupyter-widgets/controls",
          "model_name": "FloatProgressModel",
          "model_module_version": "1.5.0",
          "state": {
            "_dom_classes": [],
            "_model_module": "@jupyter-widgets/controls",
            "_model_module_version": "1.5.0",
            "_model_name": "FloatProgressModel",
            "_view_count": null,
            "_view_module": "@jupyter-widgets/controls",
            "_view_module_version": "1.5.0",
            "_view_name": "ProgressView",
            "bar_style": "success",
            "description": "",
            "description_tooltip": null,
            "layout": "IPY_MODEL_2b9f60a760d646f2a12f24d002730637",
            "max": 1648877,
            "min": 0,
            "orientation": "horizontal",
            "style": "IPY_MODEL_ce9e346214bf43b7929a9e8fcbd53136",
            "value": 1648877
          }
        },
        "31978e37200f499ca0db06a53f6ae2bb": {
          "model_module": "@jupyter-widgets/controls",
          "model_name": "HTMLModel",
          "model_module_version": "1.5.0",
          "state": {
            "_dom_classes": [],
            "_model_module": "@jupyter-widgets/controls",
            "_model_module_version": "1.5.0",
            "_model_name": "HTMLModel",
            "_view_count": null,
            "_view_module": "@jupyter-widgets/controls",
            "_view_module_version": "1.5.0",
            "_view_name": "HTMLView",
            "description": "",
            "description_tooltip": null,
            "layout": "IPY_MODEL_8cca6536210d4a8cad8417eb672209de",
            "placeholder": "​",
            "style": "IPY_MODEL_0481515bc5314b9f8c540df8ea040d00",
            "value": " 1649664/? [00:00&lt;00:00, 30867065.70it/s]"
          }
        },
        "0678acd684f54985b09333db79657740": {
          "model_module": "@jupyter-widgets/base",
          "model_name": "LayoutModel",
          "model_module_version": "1.2.0",
          "state": {
            "_model_module": "@jupyter-widgets/base",
            "_model_module_version": "1.2.0",
            "_model_name": "LayoutModel",
            "_view_count": null,
            "_view_module": "@jupyter-widgets/base",
            "_view_module_version": "1.2.0",
            "_view_name": "LayoutView",
            "align_content": null,
            "align_items": null,
            "align_self": null,
            "border": null,
            "bottom": null,
            "display": null,
            "flex": null,
            "flex_flow": null,
            "grid_area": null,
            "grid_auto_columns": null,
            "grid_auto_flow": null,
            "grid_auto_rows": null,
            "grid_column": null,
            "grid_gap": null,
            "grid_row": null,
            "grid_template_areas": null,
            "grid_template_columns": null,
            "grid_template_rows": null,
            "height": null,
            "justify_content": null,
            "justify_items": null,
            "left": null,
            "margin": null,
            "max_height": null,
            "max_width": null,
            "min_height": null,
            "min_width": null,
            "object_fit": null,
            "object_position": null,
            "order": null,
            "overflow": null,
            "overflow_x": null,
            "overflow_y": null,
            "padding": null,
            "right": null,
            "top": null,
            "visibility": null,
            "width": null
          }
        },
        "8c856e1fa6714155a6f1f6b40278c52e": {
          "model_module": "@jupyter-widgets/base",
          "model_name": "LayoutModel",
          "model_module_version": "1.2.0",
          "state": {
            "_model_module": "@jupyter-widgets/base",
            "_model_module_version": "1.2.0",
            "_model_name": "LayoutModel",
            "_view_count": null,
            "_view_module": "@jupyter-widgets/base",
            "_view_module_version": "1.2.0",
            "_view_name": "LayoutView",
            "align_content": null,
            "align_items": null,
            "align_self": null,
            "border": null,
            "bottom": null,
            "display": null,
            "flex": null,
            "flex_flow": null,
            "grid_area": null,
            "grid_auto_columns": null,
            "grid_auto_flow": null,
            "grid_auto_rows": null,
            "grid_column": null,
            "grid_gap": null,
            "grid_row": null,
            "grid_template_areas": null,
            "grid_template_columns": null,
            "grid_template_rows": null,
            "height": null,
            "justify_content": null,
            "justify_items": null,
            "left": null,
            "margin": null,
            "max_height": null,
            "max_width": null,
            "min_height": null,
            "min_width": null,
            "object_fit": null,
            "object_position": null,
            "order": null,
            "overflow": null,
            "overflow_x": null,
            "overflow_y": null,
            "padding": null,
            "right": null,
            "top": null,
            "visibility": null,
            "width": null
          }
        },
        "c96aef9d23ca453ea1b8cf33ef278a29": {
          "model_module": "@jupyter-widgets/controls",
          "model_name": "DescriptionStyleModel",
          "model_module_version": "1.5.0",
          "state": {
            "_model_module": "@jupyter-widgets/controls",
            "_model_module_version": "1.5.0",
            "_model_name": "DescriptionStyleModel",
            "_view_count": null,
            "_view_module": "@jupyter-widgets/base",
            "_view_module_version": "1.2.0",
            "_view_name": "StyleView",
            "description_width": ""
          }
        },
        "2b9f60a760d646f2a12f24d002730637": {
          "model_module": "@jupyter-widgets/base",
          "model_name": "LayoutModel",
          "model_module_version": "1.2.0",
          "state": {
            "_model_module": "@jupyter-widgets/base",
            "_model_module_version": "1.2.0",
            "_model_name": "LayoutModel",
            "_view_count": null,
            "_view_module": "@jupyter-widgets/base",
            "_view_module_version": "1.2.0",
            "_view_name": "LayoutView",
            "align_content": null,
            "align_items": null,
            "align_self": null,
            "border": null,
            "bottom": null,
            "display": null,
            "flex": null,
            "flex_flow": null,
            "grid_area": null,
            "grid_auto_columns": null,
            "grid_auto_flow": null,
            "grid_auto_rows": null,
            "grid_column": null,
            "grid_gap": null,
            "grid_row": null,
            "grid_template_areas": null,
            "grid_template_columns": null,
            "grid_template_rows": null,
            "height": null,
            "justify_content": null,
            "justify_items": null,
            "left": null,
            "margin": null,
            "max_height": null,
            "max_width": null,
            "min_height": null,
            "min_width": null,
            "object_fit": null,
            "object_position": null,
            "order": null,
            "overflow": null,
            "overflow_x": null,
            "overflow_y": null,
            "padding": null,
            "right": null,
            "top": null,
            "visibility": null,
            "width": null
          }
        },
        "ce9e346214bf43b7929a9e8fcbd53136": {
          "model_module": "@jupyter-widgets/controls",
          "model_name": "ProgressStyleModel",
          "model_module_version": "1.5.0",
          "state": {
            "_model_module": "@jupyter-widgets/controls",
            "_model_module_version": "1.5.0",
            "_model_name": "ProgressStyleModel",
            "_view_count": null,
            "_view_module": "@jupyter-widgets/base",
            "_view_module_version": "1.2.0",
            "_view_name": "StyleView",
            "bar_color": null,
            "description_width": ""
          }
        },
        "8cca6536210d4a8cad8417eb672209de": {
          "model_module": "@jupyter-widgets/base",
          "model_name": "LayoutModel",
          "model_module_version": "1.2.0",
          "state": {
            "_model_module": "@jupyter-widgets/base",
            "_model_module_version": "1.2.0",
            "_model_name": "LayoutModel",
            "_view_count": null,
            "_view_module": "@jupyter-widgets/base",
            "_view_module_version": "1.2.0",
            "_view_name": "LayoutView",
            "align_content": null,
            "align_items": null,
            "align_self": null,
            "border": null,
            "bottom": null,
            "display": null,
            "flex": null,
            "flex_flow": null,
            "grid_area": null,
            "grid_auto_columns": null,
            "grid_auto_flow": null,
            "grid_auto_rows": null,
            "grid_column": null,
            "grid_gap": null,
            "grid_row": null,
            "grid_template_areas": null,
            "grid_template_columns": null,
            "grid_template_rows": null,
            "height": null,
            "justify_content": null,
            "justify_items": null,
            "left": null,
            "margin": null,
            "max_height": null,
            "max_width": null,
            "min_height": null,
            "min_width": null,
            "object_fit": null,
            "object_position": null,
            "order": null,
            "overflow": null,
            "overflow_x": null,
            "overflow_y": null,
            "padding": null,
            "right": null,
            "top": null,
            "visibility": null,
            "width": null
          }
        },
        "0481515bc5314b9f8c540df8ea040d00": {
          "model_module": "@jupyter-widgets/controls",
          "model_name": "DescriptionStyleModel",
          "model_module_version": "1.5.0",
          "state": {
            "_model_module": "@jupyter-widgets/controls",
            "_model_module_version": "1.5.0",
            "_model_name": "DescriptionStyleModel",
            "_view_count": null,
            "_view_module": "@jupyter-widgets/base",
            "_view_module_version": "1.2.0",
            "_view_name": "StyleView",
            "description_width": ""
          }
        },
        "edc8bca59d9b49b8907d58b0a5fb1a42": {
          "model_module": "@jupyter-widgets/controls",
          "model_name": "HBoxModel",
          "model_module_version": "1.5.0",
          "state": {
            "_dom_classes": [],
            "_model_module": "@jupyter-widgets/controls",
            "_model_module_version": "1.5.0",
            "_model_name": "HBoxModel",
            "_view_count": null,
            "_view_module": "@jupyter-widgets/controls",
            "_view_module_version": "1.5.0",
            "_view_name": "HBoxView",
            "box_style": "",
            "children": [
              "IPY_MODEL_93dee48045cc4324a9cc9be1433c7108",
              "IPY_MODEL_5e56f429f03b4a69aa8a0f18b961f9d6",
              "IPY_MODEL_9e77695a18c54a74b5e7130413e65785"
            ],
            "layout": "IPY_MODEL_5271593004fc4b689d71716b68af1d4f"
          }
        },
        "93dee48045cc4324a9cc9be1433c7108": {
          "model_module": "@jupyter-widgets/controls",
          "model_name": "HTMLModel",
          "model_module_version": "1.5.0",
          "state": {
            "_dom_classes": [],
            "_model_module": "@jupyter-widgets/controls",
            "_model_module_version": "1.5.0",
            "_model_name": "HTMLModel",
            "_view_count": null,
            "_view_module": "@jupyter-widgets/controls",
            "_view_module_version": "1.5.0",
            "_view_name": "HTMLView",
            "description": "",
            "description_tooltip": null,
            "layout": "IPY_MODEL_d91b4129eb77477eafc803a390db0fe1",
            "placeholder": "​",
            "style": "IPY_MODEL_73c94bb42c58429d83659561ce2e1788",
            "value": ""
          }
        },
        "5e56f429f03b4a69aa8a0f18b961f9d6": {
          "model_module": "@jupyter-widgets/controls",
          "model_name": "FloatProgressModel",
          "model_module_version": "1.5.0",
          "state": {
            "_dom_classes": [],
            "_model_module": "@jupyter-widgets/controls",
            "_model_module_version": "1.5.0",
            "_model_name": "FloatProgressModel",
            "_view_count": null,
            "_view_module": "@jupyter-widgets/controls",
            "_view_module_version": "1.5.0",
            "_view_name": "ProgressView",
            "bar_style": "success",
            "description": "",
            "description_tooltip": null,
            "layout": "IPY_MODEL_bdc98a8e3e3c43c9a0b2ecbef618457a",
            "max": 4542,
            "min": 0,
            "orientation": "horizontal",
            "style": "IPY_MODEL_74c59565262b4cd6918db9bc7813668a",
            "value": 4542
          }
        },
        "9e77695a18c54a74b5e7130413e65785": {
          "model_module": "@jupyter-widgets/controls",
          "model_name": "HTMLModel",
          "model_module_version": "1.5.0",
          "state": {
            "_dom_classes": [],
            "_model_module": "@jupyter-widgets/controls",
            "_model_module_version": "1.5.0",
            "_model_name": "HTMLModel",
            "_view_count": null,
            "_view_module": "@jupyter-widgets/controls",
            "_view_module_version": "1.5.0",
            "_view_name": "HTMLView",
            "description": "",
            "description_tooltip": null,
            "layout": "IPY_MODEL_fd1a22fd8b4b4f8ea3fdf948051b30ff",
            "placeholder": "​",
            "style": "IPY_MODEL_b188a4a8641943f6ba3be700e662af48",
            "value": " 5120/? [00:00&lt;00:00, 155525.72it/s]"
          }
        },
        "5271593004fc4b689d71716b68af1d4f": {
          "model_module": "@jupyter-widgets/base",
          "model_name": "LayoutModel",
          "model_module_version": "1.2.0",
          "state": {
            "_model_module": "@jupyter-widgets/base",
            "_model_module_version": "1.2.0",
            "_model_name": "LayoutModel",
            "_view_count": null,
            "_view_module": "@jupyter-widgets/base",
            "_view_module_version": "1.2.0",
            "_view_name": "LayoutView",
            "align_content": null,
            "align_items": null,
            "align_self": null,
            "border": null,
            "bottom": null,
            "display": null,
            "flex": null,
            "flex_flow": null,
            "grid_area": null,
            "grid_auto_columns": null,
            "grid_auto_flow": null,
            "grid_auto_rows": null,
            "grid_column": null,
            "grid_gap": null,
            "grid_row": null,
            "grid_template_areas": null,
            "grid_template_columns": null,
            "grid_template_rows": null,
            "height": null,
            "justify_content": null,
            "justify_items": null,
            "left": null,
            "margin": null,
            "max_height": null,
            "max_width": null,
            "min_height": null,
            "min_width": null,
            "object_fit": null,
            "object_position": null,
            "order": null,
            "overflow": null,
            "overflow_x": null,
            "overflow_y": null,
            "padding": null,
            "right": null,
            "top": null,
            "visibility": null,
            "width": null
          }
        },
        "d91b4129eb77477eafc803a390db0fe1": {
          "model_module": "@jupyter-widgets/base",
          "model_name": "LayoutModel",
          "model_module_version": "1.2.0",
          "state": {
            "_model_module": "@jupyter-widgets/base",
            "_model_module_version": "1.2.0",
            "_model_name": "LayoutModel",
            "_view_count": null,
            "_view_module": "@jupyter-widgets/base",
            "_view_module_version": "1.2.0",
            "_view_name": "LayoutView",
            "align_content": null,
            "align_items": null,
            "align_self": null,
            "border": null,
            "bottom": null,
            "display": null,
            "flex": null,
            "flex_flow": null,
            "grid_area": null,
            "grid_auto_columns": null,
            "grid_auto_flow": null,
            "grid_auto_rows": null,
            "grid_column": null,
            "grid_gap": null,
            "grid_row": null,
            "grid_template_areas": null,
            "grid_template_columns": null,
            "grid_template_rows": null,
            "height": null,
            "justify_content": null,
            "justify_items": null,
            "left": null,
            "margin": null,
            "max_height": null,
            "max_width": null,
            "min_height": null,
            "min_width": null,
            "object_fit": null,
            "object_position": null,
            "order": null,
            "overflow": null,
            "overflow_x": null,
            "overflow_y": null,
            "padding": null,
            "right": null,
            "top": null,
            "visibility": null,
            "width": null
          }
        },
        "73c94bb42c58429d83659561ce2e1788": {
          "model_module": "@jupyter-widgets/controls",
          "model_name": "DescriptionStyleModel",
          "model_module_version": "1.5.0",
          "state": {
            "_model_module": "@jupyter-widgets/controls",
            "_model_module_version": "1.5.0",
            "_model_name": "DescriptionStyleModel",
            "_view_count": null,
            "_view_module": "@jupyter-widgets/base",
            "_view_module_version": "1.2.0",
            "_view_name": "StyleView",
            "description_width": ""
          }
        },
        "bdc98a8e3e3c43c9a0b2ecbef618457a": {
          "model_module": "@jupyter-widgets/base",
          "model_name": "LayoutModel",
          "model_module_version": "1.2.0",
          "state": {
            "_model_module": "@jupyter-widgets/base",
            "_model_module_version": "1.2.0",
            "_model_name": "LayoutModel",
            "_view_count": null,
            "_view_module": "@jupyter-widgets/base",
            "_view_module_version": "1.2.0",
            "_view_name": "LayoutView",
            "align_content": null,
            "align_items": null,
            "align_self": null,
            "border": null,
            "bottom": null,
            "display": null,
            "flex": null,
            "flex_flow": null,
            "grid_area": null,
            "grid_auto_columns": null,
            "grid_auto_flow": null,
            "grid_auto_rows": null,
            "grid_column": null,
            "grid_gap": null,
            "grid_row": null,
            "grid_template_areas": null,
            "grid_template_columns": null,
            "grid_template_rows": null,
            "height": null,
            "justify_content": null,
            "justify_items": null,
            "left": null,
            "margin": null,
            "max_height": null,
            "max_width": null,
            "min_height": null,
            "min_width": null,
            "object_fit": null,
            "object_position": null,
            "order": null,
            "overflow": null,
            "overflow_x": null,
            "overflow_y": null,
            "padding": null,
            "right": null,
            "top": null,
            "visibility": null,
            "width": null
          }
        },
        "74c59565262b4cd6918db9bc7813668a": {
          "model_module": "@jupyter-widgets/controls",
          "model_name": "ProgressStyleModel",
          "model_module_version": "1.5.0",
          "state": {
            "_model_module": "@jupyter-widgets/controls",
            "_model_module_version": "1.5.0",
            "_model_name": "ProgressStyleModel",
            "_view_count": null,
            "_view_module": "@jupyter-widgets/base",
            "_view_module_version": "1.2.0",
            "_view_name": "StyleView",
            "bar_color": null,
            "description_width": ""
          }
        },
        "fd1a22fd8b4b4f8ea3fdf948051b30ff": {
          "model_module": "@jupyter-widgets/base",
          "model_name": "LayoutModel",
          "model_module_version": "1.2.0",
          "state": {
            "_model_module": "@jupyter-widgets/base",
            "_model_module_version": "1.2.0",
            "_model_name": "LayoutModel",
            "_view_count": null,
            "_view_module": "@jupyter-widgets/base",
            "_view_module_version": "1.2.0",
            "_view_name": "LayoutView",
            "align_content": null,
            "align_items": null,
            "align_self": null,
            "border": null,
            "bottom": null,
            "display": null,
            "flex": null,
            "flex_flow": null,
            "grid_area": null,
            "grid_auto_columns": null,
            "grid_auto_flow": null,
            "grid_auto_rows": null,
            "grid_column": null,
            "grid_gap": null,
            "grid_row": null,
            "grid_template_areas": null,
            "grid_template_columns": null,
            "grid_template_rows": null,
            "height": null,
            "justify_content": null,
            "justify_items": null,
            "left": null,
            "margin": null,
            "max_height": null,
            "max_width": null,
            "min_height": null,
            "min_width": null,
            "object_fit": null,
            "object_position": null,
            "order": null,
            "overflow": null,
            "overflow_x": null,
            "overflow_y": null,
            "padding": null,
            "right": null,
            "top": null,
            "visibility": null,
            "width": null
          }
        },
        "b188a4a8641943f6ba3be700e662af48": {
          "model_module": "@jupyter-widgets/controls",
          "model_name": "DescriptionStyleModel",
          "model_module_version": "1.5.0",
          "state": {
            "_model_module": "@jupyter-widgets/controls",
            "_model_module_version": "1.5.0",
            "_model_name": "DescriptionStyleModel",
            "_view_count": null,
            "_view_module": "@jupyter-widgets/base",
            "_view_module_version": "1.2.0",
            "_view_name": "StyleView",
            "description_width": ""
          }
        }
      }
    }
  },
  "nbformat": 4,
  "nbformat_minor": 0
}